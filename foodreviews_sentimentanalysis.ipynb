{
 "cells": [
  {
   "cell_type": "markdown",
   "id": "3b795094-8b16-4a00-a9ae-1b40503e7592",
   "metadata": {
    "id": "3b795094-8b16-4a00-a9ae-1b40503e7592"
   },
   "source": [
    "# Amazon Food Reviews Sentiment Analysis\n",
    "\n",
    "Automatic classification i.e. sentiment analysis of the dataset can be used by companies to assess user feedback on products in order to improve product quality, monitor brand reputation, monitor public response to launch of new products, provide personalized customer service etc.\n",
    "This can also be used by the aggregator company i.e. Amazon, to provide personalized recommendations based to users based on their history and experience of the products."
   ]
  },
  {
   "cell_type": "markdown",
   "id": "QcLfzsxIiGr1",
   "metadata": {
    "id": "QcLfzsxIiGr1"
   },
   "source": [
    "## Import necessary libraries and read dataset"
   ]
  },
  {
   "cell_type": "code",
   "execution_count": 1,
   "id": "Ji5edBsNUH3u",
   "metadata": {
    "colab": {
     "base_uri": "https://localhost:8080/"
    },
    "id": "Ji5edBsNUH3u",
    "outputId": "a45d1bdf-3310-4082-ff2c-34d4a4103889"
   },
   "outputs": [
    {
     "name": "stdout",
     "output_type": "stream",
     "text": [
      "\u001b[2K     \u001b[90m━━━━━━━━━━━━━━━━━━━━━━━━━━━━━━━━━━━━━━━━\u001b[0m \u001b[32m6.7/6.7 MB\u001b[0m \u001b[31m69.9 MB/s\u001b[0m eta \u001b[36m0:00:00\u001b[0m\n",
      "\u001b[2K     \u001b[90m━━━━━━━━━━━━━━━━━━━━━━━━━━━━━━━━━━━━━━\u001b[0m \u001b[32m469.0/469.0 KB\u001b[0m \u001b[31m38.7 MB/s\u001b[0m eta \u001b[36m0:00:00\u001b[0m\n",
      "\u001b[2K     \u001b[90m━━━━━━━━━━━━━━━━━━━━━━━━━━━━━━━━━━━━━━━━\u001b[0m \u001b[32m7.6/7.6 MB\u001b[0m \u001b[31m95.0 MB/s\u001b[0m eta \u001b[36m0:00:00\u001b[0m\n",
      "\u001b[2K     \u001b[90m━━━━━━━━━━━━━━━━━━━━━━━━━━━━━━━━━━━━━━\u001b[0m \u001b[32m199.2/199.2 KB\u001b[0m \u001b[31m20.8 MB/s\u001b[0m eta \u001b[36m0:00:00\u001b[0m\n",
      "\u001b[2K     \u001b[90m━━━━━━━━━━━━━━━━━━━━━━━━━━━━━━━━━━━━━━\u001b[0m \u001b[32m132.9/132.9 KB\u001b[0m \u001b[31m15.4 MB/s\u001b[0m eta \u001b[36m0:00:00\u001b[0m\n",
      "\u001b[2K     \u001b[90m━━━━━━━━━━━━━━━━━━━━━━━━━━━━━━━━━━━━━━\u001b[0m \u001b[32m110.5/110.5 KB\u001b[0m \u001b[31m14.6 MB/s\u001b[0m eta \u001b[36m0:00:00\u001b[0m\n",
      "\u001b[2K     \u001b[90m━━━━━━━━━━━━━━━━━━━━━━━━━━━━━━━━━━━━━━━━\u001b[0m \u001b[32m1.0/1.0 MB\u001b[0m \u001b[31m60.7 MB/s\u001b[0m eta \u001b[36m0:00:00\u001b[0m\n",
      "\u001b[2K     \u001b[90m━━━━━━━━━━━━━━━━━━━━━━━━━━━━━━━━━━━━━━\u001b[0m \u001b[32m212.2/212.2 KB\u001b[0m \u001b[31m24.5 MB/s\u001b[0m eta \u001b[36m0:00:00\u001b[0m\n",
      "\u001b[2K     \u001b[90m━━━━━━━━━━━━━━━━━━━━━━━━━━━━━━━━━━━━━━\u001b[0m \u001b[32m158.8/158.8 KB\u001b[0m \u001b[31m19.2 MB/s\u001b[0m eta \u001b[36m0:00:00\u001b[0m\n",
      "\u001b[2K     \u001b[90m━━━━━━━━━━━━━━━━━━━━━━━━━━━━━━━━━━━━━━\u001b[0m \u001b[32m264.6/264.6 KB\u001b[0m \u001b[31m29.5 MB/s\u001b[0m eta \u001b[36m0:00:00\u001b[0m\n",
      "\u001b[2K     \u001b[90m━━━━━━━━━━━━━━━━━━━━━━━━━━━━━━━━━━━━━━\u001b[0m \u001b[32m114.2/114.2 KB\u001b[0m \u001b[31m13.0 MB/s\u001b[0m eta \u001b[36m0:00:00\u001b[0m\n",
      "\u001b[2K     \u001b[90m━━━━━━━━━━━━━━━━━━━━━━━━━━━━━━━━━━━━━━\u001b[0m \u001b[32m103.2/103.2 KB\u001b[0m \u001b[31m13.0 MB/s\u001b[0m eta \u001b[36m0:00:00\u001b[0m\n",
      "\u001b[2K     \u001b[90m━━━━━━━━━━━━━━━━━━━━━━━━━━━━━━━━━━━━━━\u001b[0m \u001b[32m289.9/289.9 KB\u001b[0m \u001b[31m29.4 MB/s\u001b[0m eta \u001b[36m0:00:00\u001b[0m\n",
      "\u001b[?25h"
     ]
    }
   ],
   "source": [
    "## Install required dependencies\n",
    "!pip install -q contractions transformers datasets"
   ]
  },
  {
   "cell_type": "code",
   "execution_count": 2,
   "id": "aA_zKbsohKTr",
   "metadata": {
    "colab": {
     "base_uri": "https://localhost:8080/"
    },
    "id": "aA_zKbsohKTr",
    "outputId": "0c035de8-b57c-40a6-af65-082dc8365c11"
   },
   "outputs": [
    {
     "name": "stdout",
     "output_type": "stream",
     "text": [
      "Mounted at /content/drive\n"
     ]
    }
   ],
   "source": [
    "## Mount google drive if running on colab\n",
    "from google.colab import drive\n",
    "drive.mount('/content/drive')"
   ]
  },
  {
   "cell_type": "code",
   "execution_count": 3,
   "id": "4f0215dc-02a1-4ad3-8524-c475bd0ccf0d",
   "metadata": {
    "colab": {
     "base_uri": "https://localhost:8080/"
    },
    "id": "4f0215dc-02a1-4ad3-8524-c475bd0ccf0d",
    "outputId": "b322d83b-b733-4946-fa81-8ec9ca2a543b"
   },
   "outputs": [
    {
     "name": "stderr",
     "output_type": "stream",
     "text": [
      "[nltk_data] Downloading package punkt to /root/nltk_data...\n",
      "[nltk_data]   Unzipping tokenizers/punkt.zip.\n",
      "[nltk_data] Downloading package wordnet to /root/nltk_data...\n",
      "[nltk_data] Downloading package omw-1.4 to /root/nltk_data...\n"
     ]
    }
   ],
   "source": [
    "## Import necessary libraries\n",
    "import pandas as pd\n",
    "import numpy as np\n",
    "from sklearn.model_selection import train_test_split\n",
    "from bs4 import BeautifulSoup\n",
    "import re\n",
    "from nltk.corpus import stopwords\n",
    "from nltk.stem import WordNetLemmatizer, SnowballStemmer\n",
    "from nltk import word_tokenize\n",
    "import contractions\n",
    "import string\n",
    "\n",
    "# Import sklearn related modules\n",
    "from sklearn.feature_extraction.text import TfidfVectorizer, CountVectorizer\n",
    "from sklearn.metrics.pairwise import cosine_distances\n",
    "from sklearn.dummy import DummyClassifier\n",
    "from scipy.spatial.distance import cdist \n",
    "from sklearn.metrics import confusion_matrix, accuracy_score, classification_report, precision_score, recall_score, f1_score, precision_recall_fscore_support\n",
    "from sklearn.linear_model import LogisticRegression\n",
    "from sklearn.svm import SVC\n",
    "from sklearn.ensemble import RandomForestClassifier\n",
    "from sklearn.model_selection import GridSearchCV\n",
    "from sklearn.pipeline import Pipeline\n",
    "\n",
    "import matplotlib.pyplot as plt\n",
    "import seaborn as sns\n",
    "\n",
    "#pd.set_option('display.max_colwidth', None)\n",
    "\n",
    "## Run this if the following nltk packages are not installed\n",
    "import nltk\n",
    "nltk.download('punkt')\n",
    "nltk.download('wordnet')\n",
    "nltk.download('omw-1.4')\n",
    "\n",
    "from gensim.parsing.preprocessing import remove_stopwords\n",
    "\n",
    "# ignore all warnings\n",
    "import warnings\n",
    "warnings.filterwarnings('ignore')"
   ]
  },
  {
   "cell_type": "code",
   "execution_count": 4,
   "id": "f653c0a8-2e3a-4536-8451-b0b01f0e12aa",
   "metadata": {
    "colab": {
     "base_uri": "https://localhost:8080/",
     "height": 337
    },
    "id": "f653c0a8-2e3a-4536-8451-b0b01f0e12aa",
    "outputId": "5907d320-6808-4ca3-9bfb-9c6d0cedf7e7",
    "tags": []
   },
   "outputs": [
    {
     "data": {
      "text/html": [
       "\n",
       "  <div id=\"df-f1254b70-4533-46d7-9a4e-3357de9e15cb\">\n",
       "    <div class=\"colab-df-container\">\n",
       "      <div>\n",
       "<style scoped>\n",
       "    .dataframe tbody tr th:only-of-type {\n",
       "        vertical-align: middle;\n",
       "    }\n",
       "\n",
       "    .dataframe tbody tr th {\n",
       "        vertical-align: top;\n",
       "    }\n",
       "\n",
       "    .dataframe thead th {\n",
       "        text-align: right;\n",
       "    }\n",
       "</style>\n",
       "<table border=\"1\" class=\"dataframe\">\n",
       "  <thead>\n",
       "    <tr style=\"text-align: right;\">\n",
       "      <th></th>\n",
       "      <th>Id</th>\n",
       "      <th>ProductId</th>\n",
       "      <th>UserId</th>\n",
       "      <th>ProfileName</th>\n",
       "      <th>HelpfulnessNumerator</th>\n",
       "      <th>HelpfulnessDenominator</th>\n",
       "      <th>Score</th>\n",
       "      <th>Time</th>\n",
       "      <th>Summary</th>\n",
       "      <th>Text</th>\n",
       "    </tr>\n",
       "  </thead>\n",
       "  <tbody>\n",
       "    <tr>\n",
       "      <th>0</th>\n",
       "      <td>1</td>\n",
       "      <td>B001E4KFG0</td>\n",
       "      <td>A3SGXH7AUHU8GW</td>\n",
       "      <td>delmartian</td>\n",
       "      <td>1</td>\n",
       "      <td>1</td>\n",
       "      <td>5</td>\n",
       "      <td>1303862400</td>\n",
       "      <td>Good Quality Dog Food</td>\n",
       "      <td>I have bought several of the Vitality canned d...</td>\n",
       "    </tr>\n",
       "    <tr>\n",
       "      <th>1</th>\n",
       "      <td>2</td>\n",
       "      <td>B00813GRG4</td>\n",
       "      <td>A1D87F6ZCVE5NK</td>\n",
       "      <td>dll pa</td>\n",
       "      <td>0</td>\n",
       "      <td>0</td>\n",
       "      <td>1</td>\n",
       "      <td>1346976000</td>\n",
       "      <td>Not as Advertised</td>\n",
       "      <td>Product arrived labeled as Jumbo Salted Peanut...</td>\n",
       "    </tr>\n",
       "    <tr>\n",
       "      <th>2</th>\n",
       "      <td>3</td>\n",
       "      <td>B000LQOCH0</td>\n",
       "      <td>ABXLMWJIXXAIN</td>\n",
       "      <td>Natalia Corres \"Natalia Corres\"</td>\n",
       "      <td>1</td>\n",
       "      <td>1</td>\n",
       "      <td>4</td>\n",
       "      <td>1219017600</td>\n",
       "      <td>\"Delight\" says it all</td>\n",
       "      <td>This is a confection that has been around a fe...</td>\n",
       "    </tr>\n",
       "    <tr>\n",
       "      <th>3</th>\n",
       "      <td>4</td>\n",
       "      <td>B000UA0QIQ</td>\n",
       "      <td>A395BORC6FGVXV</td>\n",
       "      <td>Karl</td>\n",
       "      <td>3</td>\n",
       "      <td>3</td>\n",
       "      <td>2</td>\n",
       "      <td>1307923200</td>\n",
       "      <td>Cough Medicine</td>\n",
       "      <td>If you are looking for the secret ingredient i...</td>\n",
       "    </tr>\n",
       "    <tr>\n",
       "      <th>4</th>\n",
       "      <td>5</td>\n",
       "      <td>B006K2ZZ7K</td>\n",
       "      <td>A1UQRSCLF8GW1T</td>\n",
       "      <td>Michael D. Bigham \"M. Wassir\"</td>\n",
       "      <td>0</td>\n",
       "      <td>0</td>\n",
       "      <td>5</td>\n",
       "      <td>1350777600</td>\n",
       "      <td>Great taffy</td>\n",
       "      <td>Great taffy at a great price.  There was a wid...</td>\n",
       "    </tr>\n",
       "  </tbody>\n",
       "</table>\n",
       "</div>\n",
       "      <button class=\"colab-df-convert\" onclick=\"convertToInteractive('df-f1254b70-4533-46d7-9a4e-3357de9e15cb')\"\n",
       "              title=\"Convert this dataframe to an interactive table.\"\n",
       "              style=\"display:none;\">\n",
       "        \n",
       "  <svg xmlns=\"http://www.w3.org/2000/svg\" height=\"24px\"viewBox=\"0 0 24 24\"\n",
       "       width=\"24px\">\n",
       "    <path d=\"M0 0h24v24H0V0z\" fill=\"none\"/>\n",
       "    <path d=\"M18.56 5.44l.94 2.06.94-2.06 2.06-.94-2.06-.94-.94-2.06-.94 2.06-2.06.94zm-11 1L8.5 8.5l.94-2.06 2.06-.94-2.06-.94L8.5 2.5l-.94 2.06-2.06.94zm10 10l.94 2.06.94-2.06 2.06-.94-2.06-.94-.94-2.06-.94 2.06-2.06.94z\"/><path d=\"M17.41 7.96l-1.37-1.37c-.4-.4-.92-.59-1.43-.59-.52 0-1.04.2-1.43.59L10.3 9.45l-7.72 7.72c-.78.78-.78 2.05 0 2.83L4 21.41c.39.39.9.59 1.41.59.51 0 1.02-.2 1.41-.59l7.78-7.78 2.81-2.81c.8-.78.8-2.07 0-2.86zM5.41 20L4 18.59l7.72-7.72 1.47 1.35L5.41 20z\"/>\n",
       "  </svg>\n",
       "      </button>\n",
       "      \n",
       "  <style>\n",
       "    .colab-df-container {\n",
       "      display:flex;\n",
       "      flex-wrap:wrap;\n",
       "      gap: 12px;\n",
       "    }\n",
       "\n",
       "    .colab-df-convert {\n",
       "      background-color: #E8F0FE;\n",
       "      border: none;\n",
       "      border-radius: 50%;\n",
       "      cursor: pointer;\n",
       "      display: none;\n",
       "      fill: #1967D2;\n",
       "      height: 32px;\n",
       "      padding: 0 0 0 0;\n",
       "      width: 32px;\n",
       "    }\n",
       "\n",
       "    .colab-df-convert:hover {\n",
       "      background-color: #E2EBFA;\n",
       "      box-shadow: 0px 1px 2px rgba(60, 64, 67, 0.3), 0px 1px 3px 1px rgba(60, 64, 67, 0.15);\n",
       "      fill: #174EA6;\n",
       "    }\n",
       "\n",
       "    [theme=dark] .colab-df-convert {\n",
       "      background-color: #3B4455;\n",
       "      fill: #D2E3FC;\n",
       "    }\n",
       "\n",
       "    [theme=dark] .colab-df-convert:hover {\n",
       "      background-color: #434B5C;\n",
       "      box-shadow: 0px 1px 3px 1px rgba(0, 0, 0, 0.15);\n",
       "      filter: drop-shadow(0px 1px 2px rgba(0, 0, 0, 0.3));\n",
       "      fill: #FFFFFF;\n",
       "    }\n",
       "  </style>\n",
       "\n",
       "      <script>\n",
       "        const buttonEl =\n",
       "          document.querySelector('#df-f1254b70-4533-46d7-9a4e-3357de9e15cb button.colab-df-convert');\n",
       "        buttonEl.style.display =\n",
       "          google.colab.kernel.accessAllowed ? 'block' : 'none';\n",
       "\n",
       "        async function convertToInteractive(key) {\n",
       "          const element = document.querySelector('#df-f1254b70-4533-46d7-9a4e-3357de9e15cb');\n",
       "          const dataTable =\n",
       "            await google.colab.kernel.invokeFunction('convertToInteractive',\n",
       "                                                     [key], {});\n",
       "          if (!dataTable) return;\n",
       "\n",
       "          const docLinkHtml = 'Like what you see? Visit the ' +\n",
       "            '<a target=\"_blank\" href=https://colab.research.google.com/notebooks/data_table.ipynb>data table notebook</a>'\n",
       "            + ' to learn more about interactive tables.';\n",
       "          element.innerHTML = '';\n",
       "          dataTable['output_type'] = 'display_data';\n",
       "          await google.colab.output.renderOutput(dataTable, element);\n",
       "          const docLink = document.createElement('div');\n",
       "          docLink.innerHTML = docLinkHtml;\n",
       "          element.appendChild(docLink);\n",
       "        }\n",
       "      </script>\n",
       "    </div>\n",
       "  </div>\n",
       "  "
      ],
      "text/plain": [
       "   Id   ProductId          UserId                      ProfileName  \\\n",
       "0   1  B001E4KFG0  A3SGXH7AUHU8GW                       delmartian   \n",
       "1   2  B00813GRG4  A1D87F6ZCVE5NK                           dll pa   \n",
       "2   3  B000LQOCH0   ABXLMWJIXXAIN  Natalia Corres \"Natalia Corres\"   \n",
       "3   4  B000UA0QIQ  A395BORC6FGVXV                             Karl   \n",
       "4   5  B006K2ZZ7K  A1UQRSCLF8GW1T    Michael D. Bigham \"M. Wassir\"   \n",
       "\n",
       "   HelpfulnessNumerator  HelpfulnessDenominator  Score        Time  \\\n",
       "0                     1                       1      5  1303862400   \n",
       "1                     0                       0      1  1346976000   \n",
       "2                     1                       1      4  1219017600   \n",
       "3                     3                       3      2  1307923200   \n",
       "4                     0                       0      5  1350777600   \n",
       "\n",
       "                 Summary                                               Text  \n",
       "0  Good Quality Dog Food  I have bought several of the Vitality canned d...  \n",
       "1      Not as Advertised  Product arrived labeled as Jumbo Salted Peanut...  \n",
       "2  \"Delight\" says it all  This is a confection that has been around a fe...  \n",
       "3         Cough Medicine  If you are looking for the secret ingredient i...  \n",
       "4            Great taffy  Great taffy at a great price.  There was a wid...  "
      ]
     },
     "execution_count": 4,
     "metadata": {},
     "output_type": "execute_result"
    }
   ],
   "source": [
    "## Read the amazon food reviews csv file\n",
    "#rev_df = pd.read_csv('data/Reviews.csv')\n",
    "rev_df = pd.read_csv('drive/MyDrive/Reviews.csv') # Run if running on colab\n",
    "rev_df.head()"
   ]
  },
  {
   "cell_type": "code",
   "execution_count": 5,
   "id": "7b40d447-fa3e-420c-aecf-c1fe5ea6fe96",
   "metadata": {
    "colab": {
     "base_uri": "https://localhost:8080/"
    },
    "id": "7b40d447-fa3e-420c-aecf-c1fe5ea6fe96",
    "outputId": "bda7a2ee-baa2-4558-c28e-5d487d6f1f2e"
   },
   "outputs": [
    {
     "name": "stdout",
     "output_type": "stream",
     "text": [
      "<class 'pandas.core.frame.DataFrame'>\n",
      "RangeIndex: 61946 entries, 0 to 61945\n",
      "Data columns (total 10 columns):\n",
      " #   Column                  Non-Null Count  Dtype \n",
      "---  ------                  --------------  ----- \n",
      " 0   Id                      61946 non-null  int64 \n",
      " 1   ProductId               61946 non-null  object\n",
      " 2   UserId                  61946 non-null  object\n",
      " 3   ProfileName             61943 non-null  object\n",
      " 4   HelpfulnessNumerator    61946 non-null  int64 \n",
      " 5   HelpfulnessDenominator  61946 non-null  int64 \n",
      " 6   Score                   61946 non-null  int64 \n",
      " 7   Time                    61946 non-null  int64 \n",
      " 8   Summary                 61944 non-null  object\n",
      " 9   Text                    61946 non-null  object\n",
      "dtypes: int64(5), object(5)\n",
      "memory usage: 4.7+ MB\n"
     ]
    }
   ],
   "source": [
    "## View information on the reviews dataset\n",
    "rev_df.info()"
   ]
  },
  {
   "cell_type": "code",
   "execution_count": 6,
   "id": "2d3787d5-3806-4688-8429-adb9c2f291ce",
   "metadata": {
    "colab": {
     "base_uri": "https://localhost:8080/",
     "height": 191
    },
    "id": "2d3787d5-3806-4688-8429-adb9c2f291ce",
    "outputId": "3eb45801-6eec-4fd9-8d35-3a6146b0cf0a",
    "tags": []
   },
   "outputs": [
    {
     "data": {
      "text/html": [
       "\n",
       "  <div id=\"df-78a46eec-37a7-4f52-be33-173b226d3ecf\">\n",
       "    <div class=\"colab-df-container\">\n",
       "      <div>\n",
       "<style scoped>\n",
       "    .dataframe tbody tr th:only-of-type {\n",
       "        vertical-align: middle;\n",
       "    }\n",
       "\n",
       "    .dataframe tbody tr th {\n",
       "        vertical-align: top;\n",
       "    }\n",
       "\n",
       "    .dataframe thead th {\n",
       "        text-align: right;\n",
       "    }\n",
       "</style>\n",
       "<table border=\"1\" class=\"dataframe\">\n",
       "  <thead>\n",
       "    <tr style=\"text-align: right;\">\n",
       "      <th></th>\n",
       "      <th>Id</th>\n",
       "      <th>ProductId</th>\n",
       "      <th>UserId</th>\n",
       "      <th>ProfileName</th>\n",
       "      <th>HelpfulnessNumerator</th>\n",
       "      <th>HelpfulnessDenominator</th>\n",
       "      <th>Score</th>\n",
       "      <th>Time</th>\n",
       "      <th>Summary</th>\n",
       "      <th>Text</th>\n",
       "    </tr>\n",
       "  </thead>\n",
       "  <tbody>\n",
       "    <tr>\n",
       "      <th>25509</th>\n",
       "      <td>25510</td>\n",
       "      <td>B000LKZB4Y</td>\n",
       "      <td>A36BVYD0NT7Z0F</td>\n",
       "      <td>NaN</td>\n",
       "      <td>0</td>\n",
       "      <td>0</td>\n",
       "      <td>5</td>\n",
       "      <td>1314576000</td>\n",
       "      <td>These are the best mints and no aspartame or BHT</td>\n",
       "      <td>I was so shocked to find out that almost all g...</td>\n",
       "    </tr>\n",
       "    <tr>\n",
       "      <th>38874</th>\n",
       "      <td>38875</td>\n",
       "      <td>B000AYDGZ2</td>\n",
       "      <td>A36BVYD0NT7Z0F</td>\n",
       "      <td>NaN</td>\n",
       "      <td>2</td>\n",
       "      <td>3</td>\n",
       "      <td>1</td>\n",
       "      <td>1278374400</td>\n",
       "      <td>doesn't anyone care that they are putting BHT ...</td>\n",
       "      <td>I called Kellogg's to see why Special K red be...</td>\n",
       "    </tr>\n",
       "  </tbody>\n",
       "</table>\n",
       "</div>\n",
       "      <button class=\"colab-df-convert\" onclick=\"convertToInteractive('df-78a46eec-37a7-4f52-be33-173b226d3ecf')\"\n",
       "              title=\"Convert this dataframe to an interactive table.\"\n",
       "              style=\"display:none;\">\n",
       "        \n",
       "  <svg xmlns=\"http://www.w3.org/2000/svg\" height=\"24px\"viewBox=\"0 0 24 24\"\n",
       "       width=\"24px\">\n",
       "    <path d=\"M0 0h24v24H0V0z\" fill=\"none\"/>\n",
       "    <path d=\"M18.56 5.44l.94 2.06.94-2.06 2.06-.94-2.06-.94-.94-2.06-.94 2.06-2.06.94zm-11 1L8.5 8.5l.94-2.06 2.06-.94-2.06-.94L8.5 2.5l-.94 2.06-2.06.94zm10 10l.94 2.06.94-2.06 2.06-.94-2.06-.94-.94-2.06-.94 2.06-2.06.94z\"/><path d=\"M17.41 7.96l-1.37-1.37c-.4-.4-.92-.59-1.43-.59-.52 0-1.04.2-1.43.59L10.3 9.45l-7.72 7.72c-.78.78-.78 2.05 0 2.83L4 21.41c.39.39.9.59 1.41.59.51 0 1.02-.2 1.41-.59l7.78-7.78 2.81-2.81c.8-.78.8-2.07 0-2.86zM5.41 20L4 18.59l7.72-7.72 1.47 1.35L5.41 20z\"/>\n",
       "  </svg>\n",
       "      </button>\n",
       "      \n",
       "  <style>\n",
       "    .colab-df-container {\n",
       "      display:flex;\n",
       "      flex-wrap:wrap;\n",
       "      gap: 12px;\n",
       "    }\n",
       "\n",
       "    .colab-df-convert {\n",
       "      background-color: #E8F0FE;\n",
       "      border: none;\n",
       "      border-radius: 50%;\n",
       "      cursor: pointer;\n",
       "      display: none;\n",
       "      fill: #1967D2;\n",
       "      height: 32px;\n",
       "      padding: 0 0 0 0;\n",
       "      width: 32px;\n",
       "    }\n",
       "\n",
       "    .colab-df-convert:hover {\n",
       "      background-color: #E2EBFA;\n",
       "      box-shadow: 0px 1px 2px rgba(60, 64, 67, 0.3), 0px 1px 3px 1px rgba(60, 64, 67, 0.15);\n",
       "      fill: #174EA6;\n",
       "    }\n",
       "\n",
       "    [theme=dark] .colab-df-convert {\n",
       "      background-color: #3B4455;\n",
       "      fill: #D2E3FC;\n",
       "    }\n",
       "\n",
       "    [theme=dark] .colab-df-convert:hover {\n",
       "      background-color: #434B5C;\n",
       "      box-shadow: 0px 1px 3px 1px rgba(0, 0, 0, 0.15);\n",
       "      filter: drop-shadow(0px 1px 2px rgba(0, 0, 0, 0.3));\n",
       "      fill: #FFFFFF;\n",
       "    }\n",
       "  </style>\n",
       "\n",
       "      <script>\n",
       "        const buttonEl =\n",
       "          document.querySelector('#df-78a46eec-37a7-4f52-be33-173b226d3ecf button.colab-df-convert');\n",
       "        buttonEl.style.display =\n",
       "          google.colab.kernel.accessAllowed ? 'block' : 'none';\n",
       "\n",
       "        async function convertToInteractive(key) {\n",
       "          const element = document.querySelector('#df-78a46eec-37a7-4f52-be33-173b226d3ecf');\n",
       "          const dataTable =\n",
       "            await google.colab.kernel.invokeFunction('convertToInteractive',\n",
       "                                                     [key], {});\n",
       "          if (!dataTable) return;\n",
       "\n",
       "          const docLinkHtml = 'Like what you see? Visit the ' +\n",
       "            '<a target=\"_blank\" href=https://colab.research.google.com/notebooks/data_table.ipynb>data table notebook</a>'\n",
       "            + ' to learn more about interactive tables.';\n",
       "          element.innerHTML = '';\n",
       "          dataTable['output_type'] = 'display_data';\n",
       "          await google.colab.output.renderOutput(dataTable, element);\n",
       "          const docLink = document.createElement('div');\n",
       "          docLink.innerHTML = docLinkHtml;\n",
       "          element.appendChild(docLink);\n",
       "        }\n",
       "      </script>\n",
       "    </div>\n",
       "  </div>\n",
       "  "
      ],
      "text/plain": [
       "          Id   ProductId          UserId ProfileName  HelpfulnessNumerator  \\\n",
       "25509  25510  B000LKZB4Y  A36BVYD0NT7Z0F         NaN                     0   \n",
       "38874  38875  B000AYDGZ2  A36BVYD0NT7Z0F         NaN                     2   \n",
       "\n",
       "       HelpfulnessDenominator  Score        Time  \\\n",
       "25509                       0      5  1314576000   \n",
       "38874                       3      1  1278374400   \n",
       "\n",
       "                                                 Summary  \\\n",
       "25509   These are the best mints and no aspartame or BHT   \n",
       "38874  doesn't anyone care that they are putting BHT ...   \n",
       "\n",
       "                                                    Text  \n",
       "25509  I was so shocked to find out that almost all g...  \n",
       "38874  I called Kellogg's to see why Special K red be...  "
      ]
     },
     "execution_count": 6,
     "metadata": {},
     "output_type": "execute_result"
    }
   ],
   "source": [
    "rev_df[rev_df['ProfileName'].isnull()].head(2)"
   ]
  },
  {
   "cell_type": "code",
   "execution_count": 7,
   "id": "e638fcbf-8c54-42a8-8a67-0d0d2e4d1202",
   "metadata": {
    "id": "e638fcbf-8c54-42a8-8a67-0d0d2e4d1202"
   },
   "outputs": [],
   "source": [
    "rev_df[\"ProfileName\"].fillna(\"John Doe\", inplace = True) # Set null values as a default string"
   ]
  },
  {
   "cell_type": "code",
   "execution_count": 8,
   "id": "e07518ea-312e-4921-b6df-11944944cf51",
   "metadata": {
    "colab": {
     "base_uri": "https://localhost:8080/"
    },
    "id": "e07518ea-312e-4921-b6df-11944944cf51",
    "outputId": "12ed6d80-5101-403b-8540-159e694b0889"
   },
   "outputs": [
    {
     "data": {
      "text/plain": [
       "0"
      ]
     },
     "execution_count": 8,
     "metadata": {},
     "output_type": "execute_result"
    }
   ],
   "source": [
    "rev_df['ProfileName'].isnull().sum()"
   ]
  },
  {
   "cell_type": "code",
   "execution_count": 9,
   "id": "d45d2c59-d94e-4b95-9c22-6f2c931d2621",
   "metadata": {
    "id": "d45d2c59-d94e-4b95-9c22-6f2c931d2621"
   },
   "outputs": [],
   "source": [
    "rev_df = rev_df.dropna()"
   ]
  },
  {
   "cell_type": "code",
   "execution_count": 10,
   "id": "dc266897-268d-45da-ac54-451a970bdb43",
   "metadata": {
    "colab": {
     "base_uri": "https://localhost:8080/"
    },
    "id": "dc266897-268d-45da-ac54-451a970bdb43",
    "outputId": "74fc742f-d406-454b-f9e7-2ce8ea8a0601"
   },
   "outputs": [
    {
     "data": {
      "text/plain": [
       "Id                        0\n",
       "ProductId                 0\n",
       "UserId                    0\n",
       "ProfileName               0\n",
       "HelpfulnessNumerator      0\n",
       "HelpfulnessDenominator    0\n",
       "Score                     0\n",
       "Time                      0\n",
       "Summary                   0\n",
       "Text                      0\n",
       "dtype: int64"
      ]
     },
     "execution_count": 10,
     "metadata": {},
     "output_type": "execute_result"
    }
   ],
   "source": [
    "rev_df.isnull().sum()"
   ]
  },
  {
   "cell_type": "markdown",
   "id": "e6857aae-9b14-49df-b150-f90232da8f2f",
   "metadata": {
    "id": "e6857aae-9b14-49df-b150-f90232da8f2f"
   },
   "source": [
    "## Data Preprocessing"
   ]
  },
  {
   "cell_type": "markdown",
   "id": "yQtT3uOFjLPK",
   "metadata": {
    "id": "yQtT3uOFjLPK"
   },
   "source": [
    "### Remove duplicates"
   ]
  },
  {
   "cell_type": "code",
   "execution_count": 11,
   "id": "11c17a3d-28bd-4c73-907d-41a7694fa8c4",
   "metadata": {
    "colab": {
     "base_uri": "https://localhost:8080/"
    },
    "id": "11c17a3d-28bd-4c73-907d-41a7694fa8c4",
    "outputId": "71315021-880a-4515-fe21-6fc0567594c3"
   },
   "outputs": [
    {
     "data": {
      "text/plain": [
       "(79, 10)"
      ]
     },
     "execution_count": 11,
     "metadata": {},
     "output_type": "execute_result"
    }
   ],
   "source": [
    "rev_df[rev_df.duplicated(subset=['ProductId','UserId','Summary','Text'])].shape"
   ]
  },
  {
   "cell_type": "code",
   "execution_count": 12,
   "id": "1c30bc5c-10a4-4460-9a3c-c915a01ecbc7",
   "metadata": {
    "id": "1c30bc5c-10a4-4460-9a3c-c915a01ecbc7"
   },
   "outputs": [],
   "source": [
    "rev_df = rev_df.drop_duplicates(subset=['ProductId','UserId','Summary','Text'], keep='first')"
   ]
  },
  {
   "cell_type": "code",
   "execution_count": 13,
   "id": "970a3b66-b8ee-4ed5-bdcf-c94c1dd700dc",
   "metadata": {
    "colab": {
     "base_uri": "https://localhost:8080/"
    },
    "id": "970a3b66-b8ee-4ed5-bdcf-c94c1dd700dc",
    "outputId": "efab8e75-041d-4a16-9b0e-b511e7390189"
   },
   "outputs": [
    {
     "data": {
      "text/plain": [
       "(61865, 10)"
      ]
     },
     "execution_count": 13,
     "metadata": {},
     "output_type": "execute_result"
    }
   ],
   "source": [
    "rev_df.shape"
   ]
  },
  {
   "cell_type": "markdown",
   "id": "M12S2HeyjRC0",
   "metadata": {
    "id": "M12S2HeyjRC0"
   },
   "source": [
    "### Filter rows with helpfulness numerator <= helpfulness denominator"
   ]
  },
  {
   "cell_type": "code",
   "execution_count": 14,
   "id": "b3587fc7-b5b1-4fc6-8b3c-21d355846cf3",
   "metadata": {
    "id": "b3587fc7-b5b1-4fc6-8b3c-21d355846cf3"
   },
   "outputs": [],
   "source": [
    "rev_df = rev_df[rev_df.HelpfulnessNumerator<=rev_df.HelpfulnessDenominator] ## Filter rows which have numerator lesser than denominator"
   ]
  },
  {
   "cell_type": "code",
   "execution_count": 15,
   "id": "54080072-65d0-485c-9f78-829f0f16904b",
   "metadata": {
    "colab": {
     "base_uri": "https://localhost:8080/"
    },
    "id": "54080072-65d0-485c-9f78-829f0f16904b",
    "outputId": "f392e8a8-2464-4f9a-c638-129ab92b0983"
   },
   "outputs": [
    {
     "data": {
      "text/plain": [
       "(61864, 10)"
      ]
     },
     "execution_count": 15,
     "metadata": {},
     "output_type": "execute_result"
    }
   ],
   "source": [
    "rev_df.shape"
   ]
  },
  {
   "cell_type": "markdown",
   "id": "54f8a0e6-8658-4a1f-9af1-0a23a3524f55",
   "metadata": {
    "id": "54f8a0e6-8658-4a1f-9af1-0a23a3524f55"
   },
   "source": [
    "### Mapping and Undersampling-by-Score\n",
    "\n",
    "- Mapping ratings (1 to 5) to sentiment scores (0 to 2) as {1: 0, 2: 0, 3: 1, 4: 2, 5: 2} \\\\\n",
    "\n",
    "- Undersampling from total dataset rows to 9990 rows with equal distribution of Sentiment Scores"
   ]
  },
  {
   "cell_type": "code",
   "execution_count": 16,
   "id": "3721c184-cf3c-47aa-a6ad-2aede0c661c0",
   "metadata": {
    "id": "3721c184-cf3c-47aa-a6ad-2aede0c661c0"
   },
   "outputs": [],
   "source": [
    "rev_df['SentimentScore'] = rev_df['Score'].map({1: 0, 2: 0, 3: 1, 4: 2, 5: 2})"
   ]
  },
  {
   "cell_type": "code",
   "execution_count": 17,
   "id": "fbabad6f-ee20-4cd2-8911-e542b5f195d3",
   "metadata": {
    "id": "fbabad6f-ee20-4cd2-8911-e542b5f195d3"
   },
   "outputs": [],
   "source": [
    "rev_df_sampled = rev_df.groupby(['SentimentScore'], group_keys=False).apply(lambda x: x.sample(3330, random_state=20))\n",
    "rev_df_sampled.reset_index(drop=True, inplace=True)"
   ]
  },
  {
   "cell_type": "code",
   "execution_count": 18,
   "id": "bad7327b-b8c7-4f7e-afd9-029c69b8c1c7",
   "metadata": {
    "colab": {
     "base_uri": "https://localhost:8080/"
    },
    "id": "bad7327b-b8c7-4f7e-afd9-029c69b8c1c7",
    "outputId": "60fb2d4a-4ac4-433a-af30-5c662b251b65"
   },
   "outputs": [
    {
     "data": {
      "text/plain": [
       "((9990, 11), 0    3330\n",
       " 1    3330\n",
       " 2    3330\n",
       " Name: SentimentScore, dtype: int64)"
      ]
     },
     "execution_count": 18,
     "metadata": {},
     "output_type": "execute_result"
    }
   ],
   "source": [
    "rev_df_sampled.shape, rev_df_sampled.SentimentScore.value_counts()"
   ]
  },
  {
   "cell_type": "code",
   "execution_count": 19,
   "id": "9fa50aea-59b8-4067-8180-393e14aa9f9f",
   "metadata": {
    "id": "9fa50aea-59b8-4067-8180-393e14aa9f9f"
   },
   "outputs": [],
   "source": [
    "# Combine Summary and Text Columns and drop columns\n",
    "rev_df_sampled['SummaryTextCombined'] = rev_df_sampled['Summary'] + \" \" + rev_df_sampled['Text'] \n",
    "rev_df_sampled.drop(['Summary','Text'], axis=1, inplace=True)"
   ]
  },
  {
   "cell_type": "markdown",
   "id": "kUWyn8Bcj4qJ",
   "metadata": {
    "id": "kUWyn8Bcj4qJ"
   },
   "source": [
    "### Text preprocessing \n",
    "- Remove HTML content, URLs, underscores, non-ascii, emails, hashtags, ampersand, newline and tab characters, words containing numbers, digits, brackets, punctuation, extra spaces \n",
    "- Expand contractions\n",
    "- Convert string to lowercase"
   ]
  },
  {
   "cell_type": "code",
   "execution_count": 20,
   "id": "d38102c7-1004-4311-bef0-1a31c11a00f2",
   "metadata": {
    "id": "d38102c7-1004-4311-bef0-1a31c11a00f2"
   },
   "outputs": [],
   "source": [
    "def expand_contractions(text):\n",
    "    text = text.replace(\"’\", \"'\").replace(\"‘\", \"'\")\n",
    "    text = text.replace(\"”\", '\"').replace(\"“\", '\"')\n",
    "    return contractions.fix(text)\n",
    "\n",
    "email_pattern = re.compile(r'\\S+@\\S+')\n",
    "hashtags_pattern = re.compile(r'\\#\\w+')\n",
    "\n",
    "# Remove HTML tags\n",
    "rev_df_sampled['FinalText'] = rev_df_sampled['SummaryTextCombined'].apply(lambda x: BeautifulSoup(x,'lxml').get_text(\" \", strip=True))\n",
    "# Remove URLs\n",
    "rev_df_sampled['FinalText'] =  rev_df_sampled['FinalText'].apply(lambda x: re.sub(r'http\\S+',' ', str(x)))\n",
    "# Remove underscore\n",
    "rev_df_sampled['FinalText'] =  rev_df_sampled['FinalText'].apply(lambda x: re.sub(r'_',' ',str(x))) \n",
    "# Expand contractions\n",
    "rev_df_sampled['FinalText'] = rev_df_sampled['FinalText'].apply(expand_contractions)\n",
    "# Remove non-ascii\n",
    "rev_df_sampled['FinalText'] = rev_df_sampled['FinalText'].apply(lambda x: x.encode('ascii', 'ignore').decode('ascii'))\n",
    "# Remove emails\n",
    "rev_df_sampled['FinalText'] = rev_df_sampled['FinalText'].apply(lambda x: email_pattern.sub('', x))\n",
    "# Remove hashtags\n",
    "rev_df_sampled['FinalText'] = rev_df_sampled['FinalText'].apply(lambda x: hashtags_pattern.sub('', x))\n",
    "# Remove ampersand\n",
    "rev_df_sampled['FinalText'] = rev_df_sampled['FinalText'].replace('&amp;', '', regex=True)\n",
    "# Remove newline and tab characters\n",
    "rev_df_sampled['FinalText'] = rev_df_sampled['FinalText'].replace('\\n\\t', ' ', regex=True)\n",
    "# Remove words containing numbers\n",
    "rev_df_sampled['FinalText'] = rev_df_sampled['FinalText'].replace(r'\\b\\w*\\d\\w*\\b', '', regex=True)\n",
    "# Remove digits \n",
    "rev_df_sampled['FinalText'] = rev_df_sampled['FinalText'].str.replace('\\d+', '', regex=True)\n",
    "# Remove brackets\n",
    "rev_df_sampled['FinalText'] = rev_df_sampled['FinalText'].str.replace(r'[\\(\\)\\[\\]\\{\\}]', ' ',regex=True)\n",
    "# Remove punctuation\n",
    "rev_df_sampled['FinalText'] = rev_df_sampled['FinalText'].apply(lambda x:x.translate(str.maketrans(\"\", \"\", string.punctuation+'”‘’“')))\n",
    "# Remove extra spaces\n",
    "rev_df_sampled['FinalText'] = rev_df_sampled['FinalText'].replace('\\s+', ' ', regex=True)\n",
    "# Convert string to lowercase\n",
    "rev_df_sampled['FinalText'] = rev_df_sampled['FinalText'].str.lower()"
   ]
  },
  {
   "cell_type": "code",
   "execution_count": 21,
   "id": "69f079a2-13e7-44c0-bf36-f9a5800e697a",
   "metadata": {
    "colab": {
     "base_uri": "https://localhost:8080/",
     "height": 206
    },
    "id": "69f079a2-13e7-44c0-bf36-f9a5800e697a",
    "outputId": "2de02379-f3b3-40ef-c439-188ae6172e1c",
    "tags": []
   },
   "outputs": [
    {
     "data": {
      "text/html": [
       "\n",
       "  <div id=\"df-267de87e-c92d-4df3-930e-84ed2ec760eb\">\n",
       "    <div class=\"colab-df-container\">\n",
       "      <div>\n",
       "<style scoped>\n",
       "    .dataframe tbody tr th:only-of-type {\n",
       "        vertical-align: middle;\n",
       "    }\n",
       "\n",
       "    .dataframe tbody tr th {\n",
       "        vertical-align: top;\n",
       "    }\n",
       "\n",
       "    .dataframe thead th {\n",
       "        text-align: right;\n",
       "    }\n",
       "</style>\n",
       "<table border=\"1\" class=\"dataframe\">\n",
       "  <thead>\n",
       "    <tr style=\"text-align: right;\">\n",
       "      <th></th>\n",
       "      <th>SummaryTextCombined</th>\n",
       "      <th>FinalText</th>\n",
       "    </tr>\n",
       "  </thead>\n",
       "  <tbody>\n",
       "    <tr>\n",
       "      <th>0</th>\n",
       "      <td>Doesn't taste like \"real\" peanut butter. I bou...</td>\n",
       "      <td>does not taste like real peanut butter i bough...</td>\n",
       "    </tr>\n",
       "    <tr>\n",
       "      <th>1</th>\n",
       "      <td>Stale! I was really excited to receive this pr...</td>\n",
       "      <td>stale i was really excited to receive this pro...</td>\n",
       "    </tr>\n",
       "    <tr>\n",
       "      <th>2</th>\n",
       "      <td>Taste like muddy water maybe because it is out...</td>\n",
       "      <td>taste like muddy water maybe because it is out...</td>\n",
       "    </tr>\n",
       "    <tr>\n",
       "      <th>3</th>\n",
       "      <td>Salmon Formula This smells more like cat food....</td>\n",
       "      <td>salmon formula this smells more like cat food ...</td>\n",
       "    </tr>\n",
       "    <tr>\n",
       "      <th>4</th>\n",
       "      <td>Over a dollar for a K-cup? The coffee is good ...</td>\n",
       "      <td>over a dollar for a kcup the coffee is good bu...</td>\n",
       "    </tr>\n",
       "  </tbody>\n",
       "</table>\n",
       "</div>\n",
       "      <button class=\"colab-df-convert\" onclick=\"convertToInteractive('df-267de87e-c92d-4df3-930e-84ed2ec760eb')\"\n",
       "              title=\"Convert this dataframe to an interactive table.\"\n",
       "              style=\"display:none;\">\n",
       "        \n",
       "  <svg xmlns=\"http://www.w3.org/2000/svg\" height=\"24px\"viewBox=\"0 0 24 24\"\n",
       "       width=\"24px\">\n",
       "    <path d=\"M0 0h24v24H0V0z\" fill=\"none\"/>\n",
       "    <path d=\"M18.56 5.44l.94 2.06.94-2.06 2.06-.94-2.06-.94-.94-2.06-.94 2.06-2.06.94zm-11 1L8.5 8.5l.94-2.06 2.06-.94-2.06-.94L8.5 2.5l-.94 2.06-2.06.94zm10 10l.94 2.06.94-2.06 2.06-.94-2.06-.94-.94-2.06-.94 2.06-2.06.94z\"/><path d=\"M17.41 7.96l-1.37-1.37c-.4-.4-.92-.59-1.43-.59-.52 0-1.04.2-1.43.59L10.3 9.45l-7.72 7.72c-.78.78-.78 2.05 0 2.83L4 21.41c.39.39.9.59 1.41.59.51 0 1.02-.2 1.41-.59l7.78-7.78 2.81-2.81c.8-.78.8-2.07 0-2.86zM5.41 20L4 18.59l7.72-7.72 1.47 1.35L5.41 20z\"/>\n",
       "  </svg>\n",
       "      </button>\n",
       "      \n",
       "  <style>\n",
       "    .colab-df-container {\n",
       "      display:flex;\n",
       "      flex-wrap:wrap;\n",
       "      gap: 12px;\n",
       "    }\n",
       "\n",
       "    .colab-df-convert {\n",
       "      background-color: #E8F0FE;\n",
       "      border: none;\n",
       "      border-radius: 50%;\n",
       "      cursor: pointer;\n",
       "      display: none;\n",
       "      fill: #1967D2;\n",
       "      height: 32px;\n",
       "      padding: 0 0 0 0;\n",
       "      width: 32px;\n",
       "    }\n",
       "\n",
       "    .colab-df-convert:hover {\n",
       "      background-color: #E2EBFA;\n",
       "      box-shadow: 0px 1px 2px rgba(60, 64, 67, 0.3), 0px 1px 3px 1px rgba(60, 64, 67, 0.15);\n",
       "      fill: #174EA6;\n",
       "    }\n",
       "\n",
       "    [theme=dark] .colab-df-convert {\n",
       "      background-color: #3B4455;\n",
       "      fill: #D2E3FC;\n",
       "    }\n",
       "\n",
       "    [theme=dark] .colab-df-convert:hover {\n",
       "      background-color: #434B5C;\n",
       "      box-shadow: 0px 1px 3px 1px rgba(0, 0, 0, 0.15);\n",
       "      filter: drop-shadow(0px 1px 2px rgba(0, 0, 0, 0.3));\n",
       "      fill: #FFFFFF;\n",
       "    }\n",
       "  </style>\n",
       "\n",
       "      <script>\n",
       "        const buttonEl =\n",
       "          document.querySelector('#df-267de87e-c92d-4df3-930e-84ed2ec760eb button.colab-df-convert');\n",
       "        buttonEl.style.display =\n",
       "          google.colab.kernel.accessAllowed ? 'block' : 'none';\n",
       "\n",
       "        async function convertToInteractive(key) {\n",
       "          const element = document.querySelector('#df-267de87e-c92d-4df3-930e-84ed2ec760eb');\n",
       "          const dataTable =\n",
       "            await google.colab.kernel.invokeFunction('convertToInteractive',\n",
       "                                                     [key], {});\n",
       "          if (!dataTable) return;\n",
       "\n",
       "          const docLinkHtml = 'Like what you see? Visit the ' +\n",
       "            '<a target=\"_blank\" href=https://colab.research.google.com/notebooks/data_table.ipynb>data table notebook</a>'\n",
       "            + ' to learn more about interactive tables.';\n",
       "          element.innerHTML = '';\n",
       "          dataTable['output_type'] = 'display_data';\n",
       "          await google.colab.output.renderOutput(dataTable, element);\n",
       "          const docLink = document.createElement('div');\n",
       "          docLink.innerHTML = docLinkHtml;\n",
       "          element.appendChild(docLink);\n",
       "        }\n",
       "      </script>\n",
       "    </div>\n",
       "  </div>\n",
       "  "
      ],
      "text/plain": [
       "                                 SummaryTextCombined  \\\n",
       "0  Doesn't taste like \"real\" peanut butter. I bou...   \n",
       "1  Stale! I was really excited to receive this pr...   \n",
       "2  Taste like muddy water maybe because it is out...   \n",
       "3  Salmon Formula This smells more like cat food....   \n",
       "4  Over a dollar for a K-cup? The coffee is good ...   \n",
       "\n",
       "                                           FinalText  \n",
       "0  does not taste like real peanut butter i bough...  \n",
       "1  stale i was really excited to receive this pro...  \n",
       "2  taste like muddy water maybe because it is out...  \n",
       "3  salmon formula this smells more like cat food ...  \n",
       "4  over a dollar for a kcup the coffee is good bu...  "
      ]
     },
     "execution_count": 21,
     "metadata": {},
     "output_type": "execute_result"
    }
   ],
   "source": [
    "rev_df_sampled[['SummaryTextCombined','FinalText']].head()"
   ]
  },
  {
   "cell_type": "markdown",
   "id": "pXE3NJigktqz",
   "metadata": {
    "id": "pXE3NJigktqz"
   },
   "source": [
    "#### Remove stopwords"
   ]
  },
  {
   "cell_type": "code",
   "execution_count": 22,
   "id": "599e3edf-4a48-49a7-8a4d-93e838eb350b",
   "metadata": {
    "id": "599e3edf-4a48-49a7-8a4d-93e838eb350b"
   },
   "outputs": [],
   "source": [
    "## Remove stopwords using gensim\n",
    "rev_df_sampled['FinalText'] =  rev_df_sampled['FinalText'].apply(lambda x: remove_stopwords(x))"
   ]
  },
  {
   "cell_type": "markdown",
   "id": "ea48edae-4b94-496f-83a4-552878ce8b30",
   "metadata": {
    "id": "ea48edae-4b94-496f-83a4-552878ce8b30"
   },
   "source": [
    "#### Tokenization and Lemmatization"
   ]
  },
  {
   "cell_type": "code",
   "execution_count": 23,
   "id": "af57ca2f-8e2f-4dd2-bb37-c733c7bd3320",
   "metadata": {
    "id": "af57ca2f-8e2f-4dd2-bb37-c733c7bd3320"
   },
   "outputs": [],
   "source": [
    "def tokenize_lemmatize_text(text):\n",
    "    tokenized_sent = word_tokenize(text)\n",
    "    return \" \".join([wordnet_lemmatizer.lemmatize(word) for word in tokenized_sent])\n",
    "\n",
    "wordnet_lemmatizer = WordNetLemmatizer()\n",
    "rev_df_sampled['FinalText'] =  rev_df_sampled['FinalText'].apply(lambda x: tokenize_lemmatize_text(x))"
   ]
  },
  {
   "cell_type": "markdown",
   "id": "BCaVyJiInbXH",
   "metadata": {
    "id": "BCaVyJiInbXH"
   },
   "source": [
    "## Clustering using KMeans"
   ]
  },
  {
   "cell_type": "code",
   "execution_count": 24,
   "id": "Zy1i-kZAocea",
   "metadata": {
    "id": "Zy1i-kZAocea"
   },
   "outputs": [],
   "source": [
    "def calc_distance(input_vec, centroids):\n",
    "    return cosine_distances(input_vec, centroids)"
   ]
  },
  {
   "cell_type": "markdown",
   "id": "__BNDoZMk2uf",
   "metadata": {
    "id": "__BNDoZMk2uf"
   },
   "source": [
    "### Step 0 - Feature extraction with TF-IDF Vectorization"
   ]
  },
  {
   "cell_type": "code",
   "execution_count": 25,
   "id": "29f760ec-cd5a-4b3e-8a44-2d1b730c1ba8",
   "metadata": {
    "colab": {
     "base_uri": "https://localhost:8080/"
    },
    "id": "29f760ec-cd5a-4b3e-8a44-2d1b730c1ba8",
    "outputId": "31934464-04c7-4694-ea37-05d090e4dc9c"
   },
   "outputs": [
    {
     "name": "stdout",
     "output_type": "stream",
     "text": [
      "(9990, 5636)\n"
     ]
    }
   ],
   "source": [
    "tfidf_vect = TfidfVectorizer(ngram_range=(1,2), min_df=10)\n",
    "tfidf_vect.fit(rev_df_sampled[\"FinalText\"])\n",
    "final_tfidf = tfidf_vect.transform(rev_df_sampled[\"FinalText\"])\n",
    "print(final_tfidf.toarray().shape)"
   ]
  },
  {
   "cell_type": "markdown",
   "id": "IgpMQtb4nvwT",
   "metadata": {
    "id": "IgpMQtb4nvwT"
   },
   "source": [
    "### Step 1 - Pick k random \"centroids\""
   ]
  },
  {
   "cell_type": "code",
   "execution_count": 26,
   "id": "pEoPD5eenoBh",
   "metadata": {
    "id": "pEoPD5eenoBh"
   },
   "outputs": [],
   "source": [
    "def select_rand_centroids(input_vec, num_clusters):\n",
    "    ## Choose centroid from document row\n",
    "    idx = np.random.choice(len(input_vec), num_clusters, replace=False)\n",
    "    # Select the centroid vectors from index\n",
    "    centroids = input_vec[idx, :]\n",
    "    return centroids"
   ]
  },
  {
   "cell_type": "markdown",
   "id": "WERJtaRFoK31",
   "metadata": {
    "id": "WERJtaRFoK31"
   },
   "source": [
    "### Step 2 - Assign each vector to its closest centroid"
   ]
  },
  {
   "cell_type": "code",
   "execution_count": 27,
   "id": "vLRQ8OkPnq1_",
   "metadata": {
    "id": "vLRQ8OkPnq1_"
   },
   "outputs": [],
   "source": [
    "def vect_assignment(input_vec,centroids):\n",
    "    distances = calc_distance(input_vec, centroids)\n",
    "    cluster_pts = np.array([np.argmin(i) for i in distances])\n",
    "    return cluster_pts"
   ]
  },
  {
   "cell_type": "markdown",
   "id": "Gwz62zmnoPg5",
   "metadata": {
    "id": "Gwz62zmnoPg5"
   },
   "source": [
    "### Step 3: Recalculate the centroids based on the closest vectors"
   ]
  },
  {
   "cell_type": "code",
   "execution_count": 28,
   "id": "J7p7ktsontsQ",
   "metadata": {
    "id": "J7p7ktsontsQ"
   },
   "outputs": [],
   "source": [
    "def recalc_centroids(input_vec, num_clusters, cluster_pts):\n",
    "    centroids = []\n",
    "    for idx in range(num_clusters):\n",
    "        #Updating Centroids by taking mean of Cluster it belongs to\n",
    "        temp_cent = input_vec[cluster_pts==idx].mean(axis=0) \n",
    "        centroids.append(temp_cent)\n",
    "\n",
    "    centroids = np.vstack(centroids)\n",
    "    return centroids"
   ]
  },
  {
   "cell_type": "markdown",
   "id": "ZFXkF9z9ofNs",
   "metadata": {
    "id": "ZFXkF9z9ofNs"
   },
   "source": [
    "### Main KMeans Clustering Function "
   ]
  },
  {
   "cell_type": "code",
   "execution_count": 29,
   "id": "c75a3aaa-a94b-4471-9c8c-99fc295fec55",
   "metadata": {
    "colab": {
     "base_uri": "https://localhost:8080/"
    },
    "id": "c75a3aaa-a94b-4471-9c8c-99fc295fec55",
    "outputId": "f06150ba-377a-4a08-a363-4e19d5b42a87"
   },
   "outputs": [
    {
     "name": "stdout",
     "output_type": "stream",
     "text": [
      "Centroid dist 0.9995134310779002\n",
      "Centroid dist 0.1318012133345096\n",
      "Centroid dist 0.04544669820667952\n",
      "Centroid dist 0.02848816120478576\n",
      "Centroid dist 0.026098959924332518\n",
      "Centroid dist 0.026531287355323268\n",
      "Centroid dist 0.030318871179048638\n",
      "Centroid dist 0.028597434966549373\n",
      "Centroid dist 0.018626733207345404\n",
      "Centroid dist 0.01628455050263522\n",
      "Centroid dist 0.017616148426449294\n",
      "Centroid dist 0.02764038430387186\n",
      "Centroid dist 0.03161941536209105\n",
      "Centroid dist 0.011252493797709602\n",
      "Centroid dist 0.016452524083238836\n",
      "Centroid dist 0.026468600218424475\n",
      "Centroid dist 0.02437917639843002\n",
      "Centroid dist 0.015538884702647278\n",
      "Centroid dist 0.00621465003936906\n",
      "Centroid dist 0.004781330543040913\n",
      "Centroid dist 0.004295408427627234\n",
      "Centroid dist 0.0015750225690313888\n",
      "Centroid dist 0.0007424775759312668\n",
      "Stopping at number of iterations - 22\n"
     ]
    }
   ],
   "source": [
    "np.random.seed(5)\n",
    "def kmeans_new(input_vec, num_clusters, niter):\n",
    "    \n",
    "    old_centroids = select_rand_centroids(input_vec, num_clusters)    \n",
    "    cluster_pts = vect_assignment(input_vec,old_centroids)\n",
    "\n",
    "    for iteration in range(niter): \n",
    "        new_centroids = recalc_centroids(input_vec, num_clusters, cluster_pts)\n",
    "        centroid_dist = np.linalg.norm(new_centroids - old_centroids, 2)\n",
    "        print(\"Centroid dist\",centroid_dist)\n",
    "        \n",
    "        ## Break loop if no change in centroid updates\n",
    "        if centroid_dist <= 0.001:\n",
    "            print(f\"Stopping at number of iterations - {iteration}\")\n",
    "            break\n",
    "        \n",
    "        old_centroids = new_centroids\n",
    "        distances = calc_distance(input_vec, new_centroids)\n",
    "        cluster_pts = np.array([np.argmin(i) for i in distances])\n",
    "\n",
    "    return cluster_pts, new_centroids\n",
    "\n",
    "cluster_pts, centroids = kmeans_new(final_tfidf.toarray(), 5, 50)"
   ]
  },
  {
   "cell_type": "code",
   "execution_count": 30,
   "id": "8d273756-df19-487f-8af0-d114d75fea9f",
   "metadata": {
    "colab": {
     "base_uri": "https://localhost:8080/"
    },
    "id": "8d273756-df19-487f-8af0-d114d75fea9f",
    "outputId": "3da28ca6-db56-4ba3-d6b3-bdbbdc423d93"
   },
   "outputs": [
    {
     "data": {
      "text/plain": [
       "array([3, 3, 3, ..., 1, 3, 0])"
      ]
     },
     "execution_count": 30,
     "metadata": {},
     "output_type": "execute_result"
    }
   ],
   "source": [
    "cluster_pts"
   ]
  },
  {
   "cell_type": "code",
   "execution_count": 31,
   "id": "873bb807-f1cb-4d23-9b27-c66378852e9b",
   "metadata": {
    "id": "873bb807-f1cb-4d23-9b27-c66378852e9b"
   },
   "outputs": [],
   "source": [
    "rev_df_sampled['cluster'] = cluster_pts"
   ]
  },
  {
   "cell_type": "markdown",
   "id": "2E1-Ye-3v3sA",
   "metadata": {
    "id": "2E1-Ye-3v3sA"
   },
   "source": [
    "### Display the top keywords with their magnitudes and top representative documents for each cluster"
   ]
  },
  {
   "cell_type": "code",
   "execution_count": 32,
   "id": "a87afaa3-f896-43e4-ab0a-31121c0a3958",
   "metadata": {
    "colab": {
     "base_uri": "https://localhost:8080/"
    },
    "id": "a87afaa3-f896-43e4-ab0a-31121c0a3958",
    "outputId": "adb9e6ee-73ee-428e-b414-50ba9638e90c"
   },
   "outputs": [
    {
     "name": "stdout",
     "output_type": "stream",
     "text": [
      "Cluster number = 0\n",
      "Top 5 tokens => ['coffee', 'cup', 'roast', 'flavor', 'taste']\n",
      "Magnitudes => [0.21986713 0.05528961 0.03734275 0.03472274 0.03385823]\n",
      "\n",
      "|-- dollar kcup coffee good price ridiculous kcup approx green mountain cent kcup delivered buy cent kcup bed bath kohl \n",
      "\n",
      "|-- expected tully french roast favorite morning coffee supply unusually bitter buying locally smaller quantity feel dumped old product purchase likely toss advice buy nearer home check use date box come loose kcups inside date whatsoever \n",
      "\n",
      "|-- enjoy coffee probably taste like coffee flavorless saw good review thought couple box stuck bunch k cup want drink literally drink k cup tried fan k cup worst \n",
      "\n",
      "|-- stale flavor thought coffee mild earthy flavor recognize mildly stale happened ordering amazon read review indicating experienced brand coffee directly company check brewing date week buying local roaster \n",
      "\n",
      "|-- kcups properly sealed coffee inside box surprised opened box kcups properly sealed coffee spilled inside box kcups obviously unusable time buy brand coffee taste ok paying kcups box trash waste poor packaging quality control \n",
      "\n",
      "Cluster number = 1\n",
      "Top 5 tokens => ['chocolate', 'bar', 'cooky', 'taste', 'dark']\n",
      "Magnitudes => [0.13793764 0.08474376 0.07505569 0.03589227 0.03220703]\n",
      "\n",
      "|-- buy bar amazon thinkthin great bar amazon delivers stale bar bar left hot warehouse delivery monthly shipment bar dry crumbled package open cancelled standing order \n",
      "\n",
      "|-- choc covered banana snack disappointed taste kopali organic chocolate covered dried banana chocolate waxy banana soft expecting crunch drier banana banana taste banana purchase \n",
      "\n",
      "|-- worth money bite allnothing scratch wasabi label verge false advertisibgboldmy behindthe reason star almond \n",
      "\n",
      "|-- variety suppose varity pack tootsie pop package cherry chocolate strawberry lemon lime blue raspberry watermelon wanted cherry tootsie pop bought wanted different flavor ruined carnival game kid disappointed \n",
      "\n",
      "|-- gourmet product bought case stuff dark chocolate based positive review big mistake half step swiss miss definitely level archer target brand twinings grocery store cadbury overseas grocery store cocoa ingredient chocolate ingredient bunch fat filler archer cocoa second ingredient chocolate ingredient like stephen chocolate badvery light color little aroma dissolve disappointing purchase \n",
      "\n",
      "Cluster number = 2\n",
      "Top 5 tokens => ['dog', 'cat', 'treat', 'food', 'love']\n",
      "Magnitudes => [0.1368592  0.08334669 0.07565408 0.0693581  0.04191536]\n",
      "\n",
      "|-- salmon formula smell like cat food dog ate mixed half previous food touch \n",
      "\n",
      "|-- great usa labrador love treat dogswell dogswell jerky treat come china dog lover knowingly dog product china cagefree sure dogswell jerky bar usa dog love bad news regular jerky upside dogswell usa product \n",
      "\n",
      "|-- baby love plastic daughter favorite baby food far one eat rarely eat kind taste bland adult unfinished portion fridge sort watery point throw unique combination vegetable especially zucchini update review today saw little piece stretchy plastic jar baby food plastic baby food notified earth best sending piece plastic testing giving baby food like \n",
      "\n",
      "|-- medium large breed little puppy bought week old german wirehaired pointer puppy thinking little mouth little toy ripped shred day toy size small breed \n",
      "\n",
      "|-- twin hate twin picky eater eat eat gerbers organic \n",
      "\n",
      "Cluster number = 3\n",
      "Top 5 tokens => ['taste', 'product', 'like', 'good', 'flavor']\n",
      "Magnitudes => [0.03108395 0.03042762 0.02875375 0.02861791 0.0258079 ]\n",
      "\n",
      "|-- taste like real peanut butter bought product thought good backpacking food low fatcalories wanted like product like taste fact added sugar lot people like taste unhappy gave try try flavoring cooking \n",
      "\n",
      "|-- stale excited receive product stale piece seaweed come apart eat bad throw \n",
      "\n",
      "|-- taste like muddy water maybe date product taste like muddy water maybe date know buy \n",
      "\n",
      "|-- poor quality product product described organic raw cacao powder peru clearly inferior raw cacao powder taste product definitely good product bitter muddy taste compared fuller richer taste real thing vendor soon tasted product destined trash bag understood cheaper organic cacao vendor near good spend dollar real thing \n",
      "\n",
      "|-- wholly underwhelming happy writing review high expectation high praise given reviewer concerned based weak aroma opening initial concern confirmed use little flavor home recipe based ingredient list stuff spice rack produce better result beef rub brown sugar sea salt paprika chille rosemary fresh garlic chipotle powder cumin mccormick montreal steak seasoning chicken rub brown sugar paprika sea salt chille mccormick montreal chicken seasoning curry garlic cinnamon chinese spice \n",
      "\n",
      "Cluster number = 4\n",
      "Top 5 tokens => ['tea', 'ginger', 'taste', 'drink', 'green']\n",
      "Magnitudes => [0.26079448 0.05422869 0.0399393  0.03749449 0.03736643]\n",
      "\n",
      "|-- bird feather bird feather inside tea incredibly disguisting mind feather ahead people receive tea clean second thought packaging general link contact seller return buyer beware \n",
      "\n",
      "|-- m s l b e l e d h d d e n l b e l l e d t e fan jasmine tea year ago taste twinnings jasmine tea fell love sweet delicate flavourtotally different english breakfast tea company english breakfast tea darjeeling fortum mason royal blend tea different usual orange pekoe orange pekoe black tea usually get bagged supermarket rarified tea far like usual tea jasmine tea jasmine tea twinnings total favourite went purchase twinnings jasmine tea amazon itthank goodness turn temporarily know timeand bought substitute offeredsunflower jasmine tea figured jasmine tea jasmine tea matter make right sunflower tea slightly expensiveso bought cup taste like jasmine tea remember appreciate pale tea colourand worse taste somewhat peppery ulgh slightest hint wonderful jasmine tea flavour remember went wrong wondered different tea tree know nationality political extremely bewildered confusedfor minute reason think started write reviewseeking sunflower jasmine tea wanted write review jasmine tea listed type twinnings jasmine tea jasmine tea jasmine green tea suspect reason dislike jasmine tea sunflower straight jasmine teabut jasmine green tea green tea said myriad health benefit sure tasty satisfying brew jasmine tea mixed jasmine tea expect people people republic china know difference label tea accordingly including tea expertand difference jasmine tea jasmine green tea noted teabox label tea novice ia thoughtfully twinnings tea present extremely disappointed carelessness labeling want jasmine tea sure likewise disappointed probablymislabeledbymistakeorbycarelessness jasmine tea jasmine tea palate certain jasmine green tea difference taste know green tea good tea combine ordinary tea supermarket far flavourful note second cup tea mixed ordinary orange pekoe tea teabags taste thereforeas listed note p decided keeping tea putting sale enjoy jasmine green tea obviously people reflected sterling review tea like pound minus serving bargain price tea certainly taste disappointed great difference price stick buying genuine jasmine tea twinnings take time trouble carefully label type jasmine tea sunflower decide mend way relabel tea great flavor disappointment careless labelling p note today march day written review day received tea finally seen yes indeedythe package green tea jasmine flower tin smallish lettering tin amazoncom illustration product description state jasmine tea pleasanttasting green tea available mention differentiation variety jasmine tea ane jasmine green tea twinnings tea thoughtfully proudct description probably supplied sunflower novice know distinct different type jasmine tea definitely variety phone sister concurs love plain jasmine tea detests jasmine green tea suppopose enjoy jasmine green tea looking ohter sterling review tea like glad like cup tea revised opinion keeping putting sale amazoncom shop lose mnney transaction better suffering jasmine green tea probably like guess favour good deed day putting bargain price truly enjoy jasmine green tea want buy twice aforesaid bargain price hey rhyme note sunflower tea label tea carefully \n",
      "\n",
      "|-- green good decaf disappointed esp given glowing review appear green taste green fresh grassy flavor authentic japanese green tea actually good paring seafood detect slight fishiness taste yuk stash decaf green nonorganic nonpremium tea actually little better people like matter personal taste buy tea \n",
      "\n",
      "|-- weak english breakfast tea despite good review tea weak close twinings eb tea bad tea longer subscribe save hopefully come order bigelow \n",
      "\n",
      "|-- cup tea instant ginger tea like better lemon flavor real powdered lemon rind juice irritated throat chemical flavoring natural throwaway term clearly misleading product lemon chemical flavor natural \n",
      "\n"
     ]
    }
   ],
   "source": [
    "for centroid_idx, centroid in enumerate(centroids):\n",
    "    \n",
    "    idx = np.argsort(-centroid)[:5]\n",
    "    topktokens = [tfidf_vect.get_feature_names_out()[i] for i in idx]\n",
    "    print(\"Cluster number =\",centroid_idx)\n",
    "    print(\"Top 5 tokens =>\", topktokens)\n",
    "    print(\"Magnitudes =>\", centroid[idx])\n",
    "    \n",
    "    docs = rev_df_sampled[rev_df_sampled['cluster'] == centroid_idx]['FinalText'].iloc[:5].values \n",
    "    \n",
    "    print()\n",
    "    for doc in docs:\n",
    "        print(f\"|--\", doc, \"\\n\")"
   ]
  },
  {
   "cell_type": "markdown",
   "id": "Jl2mZppZwLKf",
   "metadata": {
    "id": "Jl2mZppZwLKf"
   },
   "source": [
    "### Confusion matrix between clusters and sentiment scores"
   ]
  },
  {
   "cell_type": "code",
   "execution_count": 33,
   "id": "HG7WcNzFwPY-",
   "metadata": {
    "colab": {
     "base_uri": "https://localhost:8080/",
     "height": 279
    },
    "id": "HG7WcNzFwPY-",
    "outputId": "2b1e3a29-eef8-455a-ece9-cbf9b8c8baca"
   },
   "outputs": [
    {
     "data": {
      "image/png": "[encoded data removed]",
      "text/plain": [
       "<Figure size 432x288 with 2 Axes>"
      ]
     },
     "metadata": {
      "needs_background": "light"
     },
     "output_type": "display_data"
    }
   ],
   "source": [
    "fig, ax = plt.subplots()\n",
    "cm = confusion_matrix(rev_df_sampled['SentimentScore'].values + 1, cluster_pts+1)\n",
    "\n",
    "sns.heatmap(cm, annot=True, fmt='g', cmap='Blues')\n",
    "plt.xlabel('Clusters')\n",
    "plt.ylabel('Score')\n",
    "ax.set_yticklabels([1,2,3,\"\",\"\"])\n",
    "plt.show()"
   ]
  },
  {
   "cell_type": "markdown",
   "id": "IZPGEpRWwZlp",
   "metadata": {
    "id": "IZPGEpRWwZlp"
   },
   "source": [
    "### Confusion matrix between clusters and scores"
   ]
  },
  {
   "cell_type": "code",
   "execution_count": 34,
   "id": "7e2ea87d-da67-4f5c-8c8d-ef3b25fdc7a8",
   "metadata": {
    "colab": {
     "base_uri": "https://localhost:8080/",
     "height": 279
    },
    "id": "7e2ea87d-da67-4f5c-8c8d-ef3b25fdc7a8",
    "outputId": "812c000c-0321-479e-a2f5-52719e5a91b2"
   },
   "outputs": [
    {
     "data": {
      "image/png": "[encoded data removed]",
      "text/plain": [
       "<Figure size 432x288 with 2 Axes>"
      ]
     },
     "metadata": {
      "needs_background": "light"
     },
     "output_type": "display_data"
    }
   ],
   "source": [
    "fig, ax = plt.subplots()\n",
    "cm = confusion_matrix(rev_df_sampled['Score'].values, cluster_pts+1)\n",
    "\n",
    "sns.heatmap(cm, annot=True, fmt='g', cmap='Blues')\n",
    "plt.xlabel('Clusters')\n",
    "plt.ylabel('Ratings')\n",
    "plt.show()"
   ]
  },
  {
   "cell_type": "markdown",
   "id": "d7a7a4a3-edea-4c1a-abac-b1406abf1208",
   "metadata": {
    "id": "d7a7a4a3-edea-4c1a-abac-b1406abf1208"
   },
   "source": [
    "## Dataset split"
   ]
  },
  {
   "cell_type": "code",
   "execution_count": 35,
   "id": "daab26e8-42d0-40e3-803a-5101f7c56b0a",
   "metadata": {
    "id": "daab26e8-42d0-40e3-803a-5101f7c56b0a"
   },
   "outputs": [],
   "source": [
    "X, y = rev_df_sampled[\"FinalText\"], rev_df_sampled['SentimentScore']"
   ]
  },
  {
   "cell_type": "code",
   "execution_count": 36,
   "id": "165f6156-77db-4dd6-a6b9-4ca9f315d9de",
   "metadata": {
    "colab": {
     "base_uri": "https://localhost:8080/"
    },
    "id": "165f6156-77db-4dd6-a6b9-4ca9f315d9de",
    "outputId": "1ce9cf15-2f7d-4ca7-bf35-5d8f517a3683"
   },
   "outputs": [
    {
     "data": {
      "text/plain": [
       "0    3330\n",
       "1    3330\n",
       "2    3330\n",
       "Name: SentimentScore, dtype: int64"
      ]
     },
     "execution_count": 36,
     "metadata": {},
     "output_type": "execute_result"
    }
   ],
   "source": [
    "y.value_counts()"
   ]
  },
  {
   "cell_type": "code",
   "execution_count": 37,
   "id": "c101872d-a69d-48ca-bd10-d191168b9951",
   "metadata": {
    "id": "c101872d-a69d-48ca-bd10-d191168b9951"
   },
   "outputs": [],
   "source": [
    "X_train, X_test, y_train, y_test = train_test_split(X, y, test_size=0.2, random_state=2, stratify=y)\n",
    "X_train, X_val, y_train, y_val = train_test_split(X_train, y_train, test_size=0.25, random_state=2, stratify=y_train)"
   ]
  },
  {
   "cell_type": "code",
   "execution_count": 38,
   "id": "dd180a21-4f32-460f-9b8b-87bf61a696af",
   "metadata": {
    "colab": {
     "base_uri": "https://localhost:8080/"
    },
    "id": "dd180a21-4f32-460f-9b8b-87bf61a696af",
    "outputId": "3cac9ffd-63f1-46c7-fd31-4a341b396319"
   },
   "outputs": [
    {
     "data": {
      "text/plain": [
       "((5994,), (5994,), (1998,), (1998,), (1998,), (1998,))"
      ]
     },
     "execution_count": 38,
     "metadata": {},
     "output_type": "execute_result"
    }
   ],
   "source": [
    "X_train.shape, y_train.shape, X_val.shape, y_val.shape, X_test.shape, y_test.shape"
   ]
  },
  {
   "cell_type": "markdown",
   "id": "tXTrky7ZwvIe",
   "metadata": {
    "id": "tXTrky7ZwvIe"
   },
   "source": [
    "### Label Distribution"
   ]
  },
  {
   "cell_type": "code",
   "execution_count": 39,
   "id": "afe00b30-b63d-4924-96c2-233ec2948197",
   "metadata": {
    "colab": {
     "base_uri": "https://localhost:8080/",
     "height": 350
    },
    "id": "afe00b30-b63d-4924-96c2-233ec2948197",
    "outputId": "95fe5395-467d-4c41-9b1d-b5ab4b65bb0e"
   },
   "outputs": [
    {
     "name": "stdout",
     "output_type": "stream",
     "text": [
      "Target Labels Distribution\n"
     ]
    },
    {
     "data": {
      "text/html": [
       "\n",
       "  <div id=\"df-210878f2-d49d-4ad6-b3a9-83c9b23e6a1f\">\n",
       "    <div class=\"colab-df-container\">\n",
       "      <div>\n",
       "<style scoped>\n",
       "    .dataframe tbody tr th:only-of-type {\n",
       "        vertical-align: middle;\n",
       "    }\n",
       "\n",
       "    .dataframe tbody tr th {\n",
       "        vertical-align: top;\n",
       "    }\n",
       "\n",
       "    .dataframe thead th {\n",
       "        text-align: right;\n",
       "    }\n",
       "</style>\n",
       "<table border=\"1\" class=\"dataframe\">\n",
       "  <thead>\n",
       "    <tr style=\"text-align: right;\">\n",
       "      <th></th>\n",
       "      <th>Set</th>\n",
       "      <th>label_counts</th>\n",
       "      <th>target_labels</th>\n",
       "    </tr>\n",
       "  </thead>\n",
       "  <tbody>\n",
       "    <tr>\n",
       "      <th>0</th>\n",
       "      <td>Train</td>\n",
       "      <td>1998</td>\n",
       "      <td>0</td>\n",
       "    </tr>\n",
       "    <tr>\n",
       "      <th>1</th>\n",
       "      <td>Train</td>\n",
       "      <td>1998</td>\n",
       "      <td>1</td>\n",
       "    </tr>\n",
       "    <tr>\n",
       "      <th>2</th>\n",
       "      <td>Train</td>\n",
       "      <td>1998</td>\n",
       "      <td>2</td>\n",
       "    </tr>\n",
       "    <tr>\n",
       "      <th>3</th>\n",
       "      <td>Valid</td>\n",
       "      <td>666</td>\n",
       "      <td>0</td>\n",
       "    </tr>\n",
       "    <tr>\n",
       "      <th>4</th>\n",
       "      <td>Valid</td>\n",
       "      <td>666</td>\n",
       "      <td>1</td>\n",
       "    </tr>\n",
       "    <tr>\n",
       "      <th>5</th>\n",
       "      <td>Valid</td>\n",
       "      <td>666</td>\n",
       "      <td>2</td>\n",
       "    </tr>\n",
       "    <tr>\n",
       "      <th>6</th>\n",
       "      <td>Test</td>\n",
       "      <td>666</td>\n",
       "      <td>0</td>\n",
       "    </tr>\n",
       "    <tr>\n",
       "      <th>7</th>\n",
       "      <td>Test</td>\n",
       "      <td>666</td>\n",
       "      <td>1</td>\n",
       "    </tr>\n",
       "    <tr>\n",
       "      <th>8</th>\n",
       "      <td>Test</td>\n",
       "      <td>666</td>\n",
       "      <td>2</td>\n",
       "    </tr>\n",
       "  </tbody>\n",
       "</table>\n",
       "</div>\n",
       "      <button class=\"colab-df-convert\" onclick=\"convertToInteractive('df-210878f2-d49d-4ad6-b3a9-83c9b23e6a1f')\"\n",
       "              title=\"Convert this dataframe to an interactive table.\"\n",
       "              style=\"display:none;\">\n",
       "        \n",
       "  <svg xmlns=\"http://www.w3.org/2000/svg\" height=\"24px\"viewBox=\"0 0 24 24\"\n",
       "       width=\"24px\">\n",
       "    <path d=\"M0 0h24v24H0V0z\" fill=\"none\"/>\n",
       "    <path d=\"M18.56 5.44l.94 2.06.94-2.06 2.06-.94-2.06-.94-.94-2.06-.94 2.06-2.06.94zm-11 1L8.5 8.5l.94-2.06 2.06-.94-2.06-.94L8.5 2.5l-.94 2.06-2.06.94zm10 10l.94 2.06.94-2.06 2.06-.94-2.06-.94-.94-2.06-.94 2.06-2.06.94z\"/><path d=\"M17.41 7.96l-1.37-1.37c-.4-.4-.92-.59-1.43-.59-.52 0-1.04.2-1.43.59L10.3 9.45l-7.72 7.72c-.78.78-.78 2.05 0 2.83L4 21.41c.39.39.9.59 1.41.59.51 0 1.02-.2 1.41-.59l7.78-7.78 2.81-2.81c.8-.78.8-2.07 0-2.86zM5.41 20L4 18.59l7.72-7.72 1.47 1.35L5.41 20z\"/>\n",
       "  </svg>\n",
       "      </button>\n",
       "      \n",
       "  <style>\n",
       "    .colab-df-container {\n",
       "      display:flex;\n",
       "      flex-wrap:wrap;\n",
       "      gap: 12px;\n",
       "    }\n",
       "\n",
       "    .colab-df-convert {\n",
       "      background-color: #E8F0FE;\n",
       "      border: none;\n",
       "      border-radius: 50%;\n",
       "      cursor: pointer;\n",
       "      display: none;\n",
       "      fill: #1967D2;\n",
       "      height: 32px;\n",
       "      padding: 0 0 0 0;\n",
       "      width: 32px;\n",
       "    }\n",
       "\n",
       "    .colab-df-convert:hover {\n",
       "      background-color: #E2EBFA;\n",
       "      box-shadow: 0px 1px 2px rgba(60, 64, 67, 0.3), 0px 1px 3px 1px rgba(60, 64, 67, 0.15);\n",
       "      fill: #174EA6;\n",
       "    }\n",
       "\n",
       "    [theme=dark] .colab-df-convert {\n",
       "      background-color: #3B4455;\n",
       "      fill: #D2E3FC;\n",
       "    }\n",
       "\n",
       "    [theme=dark] .colab-df-convert:hover {\n",
       "      background-color: #434B5C;\n",
       "      box-shadow: 0px 1px 3px 1px rgba(0, 0, 0, 0.15);\n",
       "      filter: drop-shadow(0px 1px 2px rgba(0, 0, 0, 0.3));\n",
       "      fill: #FFFFFF;\n",
       "    }\n",
       "  </style>\n",
       "\n",
       "      <script>\n",
       "        const buttonEl =\n",
       "          document.querySelector('#df-210878f2-d49d-4ad6-b3a9-83c9b23e6a1f button.colab-df-convert');\n",
       "        buttonEl.style.display =\n",
       "          google.colab.kernel.accessAllowed ? 'block' : 'none';\n",
       "\n",
       "        async function convertToInteractive(key) {\n",
       "          const element = document.querySelector('#df-210878f2-d49d-4ad6-b3a9-83c9b23e6a1f');\n",
       "          const dataTable =\n",
       "            await google.colab.kernel.invokeFunction('convertToInteractive',\n",
       "                                                     [key], {});\n",
       "          if (!dataTable) return;\n",
       "\n",
       "          const docLinkHtml = 'Like what you see? Visit the ' +\n",
       "            '<a target=\"_blank\" href=https://colab.research.google.com/notebooks/data_table.ipynb>data table notebook</a>'\n",
       "            + ' to learn more about interactive tables.';\n",
       "          element.innerHTML = '';\n",
       "          dataTable['output_type'] = 'display_data';\n",
       "          await google.colab.output.renderOutput(dataTable, element);\n",
       "          const docLink = document.createElement('div');\n",
       "          docLink.innerHTML = docLinkHtml;\n",
       "          element.appendChild(docLink);\n",
       "        }\n",
       "      </script>\n",
       "    </div>\n",
       "  </div>\n",
       "  "
      ],
      "text/plain": [
       "     Set  label_counts  target_labels\n",
       "0  Train          1998              0\n",
       "1  Train          1998              1\n",
       "2  Train          1998              2\n",
       "3  Valid           666              0\n",
       "4  Valid           666              1\n",
       "5  Valid           666              2\n",
       "6   Test           666              0\n",
       "7   Test           666              1\n",
       "8   Test           666              2"
      ]
     },
     "execution_count": 39,
     "metadata": {},
     "output_type": "execute_result"
    }
   ],
   "source": [
    "print(\"Target Labels Distribution\")\n",
    "train_dist = pd.DataFrame(y_train.value_counts()).reset_index().rename(columns={\"index\":\"target_labels\",\"SentimentScore\":\"label_counts\"}).sort_values(by='target_labels')\n",
    "train_dist[\"Set\"] = \"Train\"\n",
    "val_dist = pd.DataFrame(y_val.value_counts()).reset_index().rename(columns={\"index\":\"target_labels\",\"SentimentScore\":\"label_counts\"}).sort_values(by='target_labels')\n",
    "val_dist[\"Set\"] = \"Valid\"\n",
    "test_dist = pd.DataFrame(y_test.value_counts()).reset_index().rename(columns={\"index\":\"target_labels\",\"SentimentScore\":\"label_counts\"}).sort_values(by='target_labels')\n",
    "test_dist[\"Set\"] = \"Test\"\n",
    "final_dist = pd.concat([train_dist, val_dist, test_dist]) \n",
    "final_dist[[\"Set\",\"label_counts\",\"target_labels\"]].reset_index(drop=True)"
   ]
  },
  {
   "cell_type": "markdown",
   "id": "27ec5c25-9387-4905-9745-d52077230307",
   "metadata": {
    "id": "27ec5c25-9387-4905-9745-d52077230307"
   },
   "source": [
    "## Classification"
   ]
  },
  {
   "cell_type": "code",
   "execution_count": 40,
   "id": "185aee60-f350-4fbc-9412-2ec4455d676c",
   "metadata": {
    "id": "185aee60-f350-4fbc-9412-2ec4455d676c"
   },
   "outputs": [],
   "source": [
    "def format_3dec(val):\n",
    "    formatted = \"{:.3f}\".format(val)\n",
    "    return formatted\n",
    "\n",
    "def get_classifier_metrics(y_true, y_pred):\n",
    "    precision = precision_score(y_true, y_pred, average='macro')\n",
    "    recall = recall_score(y_true, y_pred, average='macro')\n",
    "    f1 = f1_score(y_true, y_pred, average='macro')\n",
    "    acc = accuracy_score(y_true, y_pred)\n",
    "    return format_3dec(acc), format_3dec(precision), format_3dec(recall), format_3dec(f1)"
   ]
  },
  {
   "cell_type": "markdown",
   "id": "f8ddb505-42f6-439e-b57a-bc7e4c8ab36d",
   "metadata": {
    "id": "f8ddb505-42f6-439e-b57a-bc7e4c8ab36d"
   },
   "source": [
    "### 1. Dummy classifier with strategy \"most_frequent\""
   ]
  },
  {
   "cell_type": "code",
   "execution_count": 41,
   "id": "06912177-70c4-4321-b81d-fc3b175edb53",
   "metadata": {
    "colab": {
     "base_uri": "https://localhost:8080/"
    },
    "id": "06912177-70c4-4321-b81d-fc3b175edb53",
    "outputId": "c6971dae-7d58-45c2-d580-7fc1df216be3"
   },
   "outputs": [
    {
     "name": "stdout",
     "output_type": "stream",
     "text": [
      "Training Classifier scores for most frequent dummy classifier:  0.333 0.111 0.333 0.167\n",
      "Classifier scores for most frequent dummy classifier:  0.333 0.111 0.333 0.167\n"
     ]
    }
   ],
   "source": [
    "dummy = DummyClassifier(strategy=\"most_frequent\")\n",
    "dummy.fit(X_train, y_train)\n",
    "\n",
    "y_train_pred = dummy.predict(X_train)\n",
    "y_pred = dummy.predict(X_val)\n",
    "\n",
    "acc_dumfreq_trn, prec_dumfreq_trn, rec_dumfreq_trn, f1_dumfreq_trn = get_classifier_metrics(y_train, y_train_pred)\n",
    "print(\"Training Classifier scores for most frequent dummy classifier: \",acc_dumfreq_trn, prec_dumfreq_trn, rec_dumfreq_trn, f1_dumfreq_trn)\n",
    "\n",
    "acc_dumfreq, prec_dumfreq, rec_dumfreq, f1_dumfreq = get_classifier_metrics(y_val, y_pred)\n",
    "print(\"Classifier scores for most frequent dummy classifier: \",acc_dumfreq, prec_dumfreq, rec_dumfreq, f1_dumfreq)"
   ]
  },
  {
   "cell_type": "markdown",
   "id": "4c0fb2c9-5db4-490b-83eb-a74c49d68518",
   "metadata": {
    "id": "4c0fb2c9-5db4-490b-83eb-a74c49d68518"
   },
   "source": [
    "### 2. Dummy classifier with strategy \"stratified\""
   ]
  },
  {
   "cell_type": "code",
   "execution_count": 42,
   "id": "8c845bdf-980b-444a-8b51-64c003e2127f",
   "metadata": {
    "colab": {
     "base_uri": "https://localhost:8080/"
    },
    "id": "8c845bdf-980b-444a-8b51-64c003e2127f",
    "outputId": "b8f50c6f-0ef4-4e57-8d98-f16f146f7af6"
   },
   "outputs": [
    {
     "name": "stdout",
     "output_type": "stream",
     "text": [
      "Training Classifier scores for stratified dummy classifier:  0.337 0.337 0.337 0.337\n",
      "Classifier scores for stratified dummy classifier:  0.332 0.332 0.332 0.332\n"
     ]
    }
   ],
   "source": [
    "dummy_strat = DummyClassifier(strategy=\"stratified\")\n",
    "dummy_strat.fit(X_train, y_train)\n",
    "\n",
    "y_train_pred = dummy_strat.predict(X_train)\n",
    "y_pred = dummy_strat.predict(X_val)\n",
    "\n",
    "acc_dumstrat_trn, prec_dumstrat_trn, rec_dumstrat_trn, f1_dumstrat_trn = get_classifier_metrics(y_train, y_train_pred)\n",
    "print(\"Training Classifier scores for stratified dummy classifier: \",acc_dumstrat_trn, prec_dumstrat_trn, rec_dumstrat_trn, f1_dumstrat_trn)\n",
    "\n",
    "acc_dumstrat, prec_dumstrat, rec_dumstrat, f1_dumstrat = get_classifier_metrics(y_val, y_pred)\n",
    "print(\"Classifier scores for stratified dummy classifier: \",acc_dumstrat, prec_dumstrat, rec_dumstrat, f1_dumstrat)"
   ]
  },
  {
   "cell_type": "markdown",
   "id": "d8e3e79d-5c1b-4464-a2d0-8c8e58ac0dd1",
   "metadata": {
    "id": "d8e3e79d-5c1b-4464-a2d0-8c8e58ac0dd1"
   },
   "source": [
    "### 3. LogisticRegression with One-hot vectorization"
   ]
  },
  {
   "cell_type": "code",
   "execution_count": 43,
   "id": "5e125819-6092-4886-9f5d-6337be2bcd48",
   "metadata": {
    "colab": {
     "base_uri": "https://localhost:8080/"
    },
    "id": "5e125819-6092-4886-9f5d-6337be2bcd48",
    "outputId": "01b826b6-0dd4-4886-e8dd-03683545e8bd"
   },
   "outputs": [
    {
     "name": "stdout",
     "output_type": "stream",
     "text": [
      "Training Classifier scores for most frequent dummy classifier:  0.988 0.988 0.988 0.988\n",
      "Classifier scores for logistic regression (onehot) classifier:  0.653 0.652 0.653 0.652\n"
     ]
    }
   ],
   "source": [
    "onehotenc = CountVectorizer(binary=True)\n",
    "X_train_one_hot = onehotenc.fit_transform(X_train)\n",
    "X_val_one_hot = onehotenc.transform(X_val)\n",
    "\n",
    "log_reg = LogisticRegression()\n",
    "log_reg.fit(X_train_one_hot, y_train)\n",
    "\n",
    "y_train_pred = log_reg.predict(X_train_one_hot)\n",
    "y_pred = log_reg.predict(X_val_one_hot)\n",
    "\n",
    "acc_logonehot_trn, prec_logonehot_trn, rec_logonehot_trn, f1_logonehot_trn = get_classifier_metrics(y_train, y_train_pred)\n",
    "print(\"Training Classifier scores for most frequent dummy classifier: \",acc_logonehot_trn, prec_logonehot_trn, rec_logonehot_trn, f1_logonehot_trn)\n",
    "\n",
    "acc_logonehot, prec_logonehot, rec_logonehot, f1_logonehot = get_classifier_metrics(y_val, y_pred)\n",
    "print(\"Classifier scores for logistic regression (onehot) classifier: \",acc_logonehot, prec_logonehot, rec_logonehot, f1_logonehot)"
   ]
  },
  {
   "cell_type": "markdown",
   "id": "f6e4f53a-8b49-4c71-af37-1617fc358a5d",
   "metadata": {
    "id": "f6e4f53a-8b49-4c71-af37-1617fc358a5d"
   },
   "source": [
    "### 4. LogisticRegression with TFIDF vectorization"
   ]
  },
  {
   "cell_type": "code",
   "execution_count": 44,
   "id": "e8a3cec1-c5bd-40bc-bf40-c961a4d43da3",
   "metadata": {
    "colab": {
     "base_uri": "https://localhost:8080/"
    },
    "id": "e8a3cec1-c5bd-40bc-bf40-c961a4d43da3",
    "outputId": "bfbb5665-82d3-4fc7-f03e-321873b69402"
   },
   "outputs": [
    {
     "name": "stdout",
     "output_type": "stream",
     "text": [
      "Training Classifier scores for most frequent dummy classifier:  0.878 0.878 0.878 0.878\n",
      "Classifier scores for logistic regression (tfidf) classifier:  0.684 0.686 0.684 0.685\n"
     ]
    }
   ],
   "source": [
    "vectorizer = TfidfVectorizer()\n",
    "X_train_tfidf = vectorizer.fit_transform(X_train)\n",
    "X_val_tfidf = vectorizer.transform(X_val)\n",
    "\n",
    "log_reg = LogisticRegression()\n",
    "log_reg.fit(X_train_tfidf, y_train)\n",
    "\n",
    "y_train_pred = log_reg.predict(X_train_tfidf)\n",
    "y_pred = log_reg.predict(X_val_tfidf)\n",
    "\n",
    "acc_logtfidf_trn, prec_logtfidf_trn, rec_logtfidf_trn, f1_logtfidf_trn = get_classifier_metrics(y_train, y_train_pred)\n",
    "print(\"Training Classifier scores for most frequent dummy classifier: \",acc_logtfidf_trn, prec_logtfidf_trn, rec_logtfidf_trn, f1_logtfidf_trn)\n",
    "\n",
    "acc_logtfidf, prec_logtfidf, rec_logtfidf, f1_logtfidf = get_classifier_metrics(y_val, y_pred)\n",
    "print(\"Classifier scores for logistic regression (tfidf) classifier: \",acc_logtfidf, prec_logtfidf, rec_logtfidf, f1_logtfidf)"
   ]
  },
  {
   "cell_type": "markdown",
   "id": "7a292537-bb0e-486e-bb71-c4a08120aeeb",
   "metadata": {
    "id": "7a292537-bb0e-486e-bb71-c4a08120aeeb"
   },
   "source": [
    "### 5. SVC (RBF Kernel) with Onehot vectorization"
   ]
  },
  {
   "cell_type": "code",
   "execution_count": 45,
   "id": "d68132dc-e83f-42df-a304-a18cb1905f1c",
   "metadata": {
    "colab": {
     "base_uri": "https://localhost:8080/"
    },
    "id": "d68132dc-e83f-42df-a304-a18cb1905f1c",
    "outputId": "cd1b1266-a774-4f79-8f73-16455d1fcc50"
   },
   "outputs": [
    {
     "name": "stdout",
     "output_type": "stream",
     "text": [
      "Training Classifier scores for most frequent dummy classifier:  0.934 0.934 0.934 0.934\n",
      "Classifier scores for logistic regression (tfidf) classifier:  0.669 0.673 0.669 0.670\n"
     ]
    }
   ],
   "source": [
    "onehotenc = CountVectorizer(binary=True)\n",
    "X_train_one_hot = onehotenc.fit_transform(X_train)\n",
    "X_val_one_hot = onehotenc.transform(X_val)\n",
    "\n",
    "svc = SVC(kernel='rbf')\n",
    "svc.fit(X_train_one_hot, y_train)\n",
    "\n",
    "y_train_pred = svc.predict(X_train_one_hot)\n",
    "y_pred = svc.predict(X_val_one_hot)\n",
    "\n",
    "acc_svc_trn, prec_svc_trn, rec_svc_trn, f1_svc_trn = get_classifier_metrics(y_train, y_train_pred)\n",
    "print(\"Training Classifier scores for most frequent dummy classifier: \",acc_svc_trn, prec_svc_trn, rec_svc_trn, f1_svc_trn)\n",
    "\n",
    "acc_svc, prec_svc, rec_svc, f1_svc = get_classifier_metrics(y_val, y_pred)\n",
    "print(\"Classifier scores for logistic regression (tfidf) classifier: \",acc_svc, prec_svc, rec_svc, f1_svc)"
   ]
  },
  {
   "cell_type": "markdown",
   "id": "z9YaIcV7w6y3",
   "metadata": {
    "id": "z9YaIcV7w6y3"
   },
   "source": [
    "### Classifier Models Comparison Table"
   ]
  },
  {
   "cell_type": "code",
   "execution_count": 46,
   "id": "53b4dcdc-7a87-4e6d-af4e-dcfa5e5dfb20",
   "metadata": {
    "colab": {
     "base_uri": "https://localhost:8080/",
     "height": 677
    },
    "id": "53b4dcdc-7a87-4e6d-af4e-dcfa5e5dfb20",
    "outputId": "635c52b8-e1b2-4755-9e39-0f45e60a7d4a"
   },
   "outputs": [
    {
     "data": {
      "text/html": [
       "\n",
       "  <div id=\"df-e25626b9-6ffb-4645-8931-050c66fe5b60\">\n",
       "    <div class=\"colab-df-container\">\n",
       "      <div>\n",
       "<style scoped>\n",
       "    .dataframe tbody tr th:only-of-type {\n",
       "        vertical-align: middle;\n",
       "    }\n",
       "\n",
       "    .dataframe tbody tr th {\n",
       "        vertical-align: top;\n",
       "    }\n",
       "\n",
       "    .dataframe thead th {\n",
       "        text-align: right;\n",
       "    }\n",
       "</style>\n",
       "<table border=\"1\" class=\"dataframe\">\n",
       "  <thead>\n",
       "    <tr style=\"text-align: right;\">\n",
       "      <th></th>\n",
       "      <th>Model</th>\n",
       "      <th>Metrics</th>\n",
       "      <th>Training_Set</th>\n",
       "      <th>Validation_Set</th>\n",
       "    </tr>\n",
       "  </thead>\n",
       "  <tbody>\n",
       "    <tr>\n",
       "      <th>0</th>\n",
       "      <td>Dummy_MostFrequent</td>\n",
       "      <td>Accuracy</td>\n",
       "      <td>0.333</td>\n",
       "      <td>0.333</td>\n",
       "    </tr>\n",
       "    <tr>\n",
       "      <th>1</th>\n",
       "      <td>Dummy_MostFrequent</td>\n",
       "      <td>MacroAvg_Precision</td>\n",
       "      <td>0.111</td>\n",
       "      <td>0.111</td>\n",
       "    </tr>\n",
       "    <tr>\n",
       "      <th>2</th>\n",
       "      <td>Dummy_MostFrequent</td>\n",
       "      <td>MacroAvg_Recall</td>\n",
       "      <td>0.333</td>\n",
       "      <td>0.333</td>\n",
       "    </tr>\n",
       "    <tr>\n",
       "      <th>3</th>\n",
       "      <td>Dummy_MostFrequent</td>\n",
       "      <td>MacroAvg_F1Score</td>\n",
       "      <td>0.167</td>\n",
       "      <td>0.167</td>\n",
       "    </tr>\n",
       "    <tr>\n",
       "      <th>4</th>\n",
       "      <td>Dummy_Stratified</td>\n",
       "      <td>Accuracy</td>\n",
       "      <td>0.337</td>\n",
       "      <td>0.332</td>\n",
       "    </tr>\n",
       "    <tr>\n",
       "      <th>5</th>\n",
       "      <td>Dummy_Stratified</td>\n",
       "      <td>MacroAvg_Precision</td>\n",
       "      <td>0.337</td>\n",
       "      <td>0.332</td>\n",
       "    </tr>\n",
       "    <tr>\n",
       "      <th>6</th>\n",
       "      <td>Dummy_Stratified</td>\n",
       "      <td>MacroAvg_Recall</td>\n",
       "      <td>0.337</td>\n",
       "      <td>0.332</td>\n",
       "    </tr>\n",
       "    <tr>\n",
       "      <th>7</th>\n",
       "      <td>Dummy_Stratified</td>\n",
       "      <td>MacroAvg_F1Score</td>\n",
       "      <td>0.337</td>\n",
       "      <td>0.332</td>\n",
       "    </tr>\n",
       "    <tr>\n",
       "      <th>8</th>\n",
       "      <td>LogisticReg_OneHot</td>\n",
       "      <td>Accuracy</td>\n",
       "      <td>0.988</td>\n",
       "      <td>0.653</td>\n",
       "    </tr>\n",
       "    <tr>\n",
       "      <th>9</th>\n",
       "      <td>LogisticReg_OneHot</td>\n",
       "      <td>MacroAvg_Precision</td>\n",
       "      <td>0.988</td>\n",
       "      <td>0.652</td>\n",
       "    </tr>\n",
       "    <tr>\n",
       "      <th>10</th>\n",
       "      <td>LogisticReg_OneHot</td>\n",
       "      <td>MacroAvg_Recall</td>\n",
       "      <td>0.988</td>\n",
       "      <td>0.653</td>\n",
       "    </tr>\n",
       "    <tr>\n",
       "      <th>11</th>\n",
       "      <td>LogisticReg_OneHot</td>\n",
       "      <td>MacroAvg_F1Score</td>\n",
       "      <td>0.988</td>\n",
       "      <td>0.652</td>\n",
       "    </tr>\n",
       "    <tr>\n",
       "      <th>12</th>\n",
       "      <td>LogisticReg_TFIDF</td>\n",
       "      <td>Accuracy</td>\n",
       "      <td>0.878</td>\n",
       "      <td>0.684</td>\n",
       "    </tr>\n",
       "    <tr>\n",
       "      <th>13</th>\n",
       "      <td>LogisticReg_TFIDF</td>\n",
       "      <td>MacroAvg_Precision</td>\n",
       "      <td>0.878</td>\n",
       "      <td>0.686</td>\n",
       "    </tr>\n",
       "    <tr>\n",
       "      <th>14</th>\n",
       "      <td>LogisticReg_TFIDF</td>\n",
       "      <td>MacroAvg_Recall</td>\n",
       "      <td>0.878</td>\n",
       "      <td>0.684</td>\n",
       "    </tr>\n",
       "    <tr>\n",
       "      <th>15</th>\n",
       "      <td>LogisticReg_TFIDF</td>\n",
       "      <td>MacroAvg_F1Score</td>\n",
       "      <td>0.878</td>\n",
       "      <td>0.685</td>\n",
       "    </tr>\n",
       "    <tr>\n",
       "      <th>16</th>\n",
       "      <td>SVC_RBF</td>\n",
       "      <td>Accuracy</td>\n",
       "      <td>0.934</td>\n",
       "      <td>0.669</td>\n",
       "    </tr>\n",
       "    <tr>\n",
       "      <th>17</th>\n",
       "      <td>SVC_RBF</td>\n",
       "      <td>MacroAvg_Precision</td>\n",
       "      <td>0.934</td>\n",
       "      <td>0.673</td>\n",
       "    </tr>\n",
       "    <tr>\n",
       "      <th>18</th>\n",
       "      <td>SVC_RBF</td>\n",
       "      <td>MacroAvg_Recall</td>\n",
       "      <td>0.934</td>\n",
       "      <td>0.669</td>\n",
       "    </tr>\n",
       "    <tr>\n",
       "      <th>19</th>\n",
       "      <td>SVC_RBF</td>\n",
       "      <td>MacroAvg_F1Score</td>\n",
       "      <td>0.934</td>\n",
       "      <td>0.670</td>\n",
       "    </tr>\n",
       "  </tbody>\n",
       "</table>\n",
       "</div>\n",
       "      <button class=\"colab-df-convert\" onclick=\"convertToInteractive('df-e25626b9-6ffb-4645-8931-050c66fe5b60')\"\n",
       "              title=\"Convert this dataframe to an interactive table.\"\n",
       "              style=\"display:none;\">\n",
       "        \n",
       "  <svg xmlns=\"http://www.w3.org/2000/svg\" height=\"24px\"viewBox=\"0 0 24 24\"\n",
       "       width=\"24px\">\n",
       "    <path d=\"M0 0h24v24H0V0z\" fill=\"none\"/>\n",
       "    <path d=\"M18.56 5.44l.94 2.06.94-2.06 2.06-.94-2.06-.94-.94-2.06-.94 2.06-2.06.94zm-11 1L8.5 8.5l.94-2.06 2.06-.94-2.06-.94L8.5 2.5l-.94 2.06-2.06.94zm10 10l.94 2.06.94-2.06 2.06-.94-2.06-.94-.94-2.06-.94 2.06-2.06.94z\"/><path d=\"M17.41 7.96l-1.37-1.37c-.4-.4-.92-.59-1.43-.59-.52 0-1.04.2-1.43.59L10.3 9.45l-7.72 7.72c-.78.78-.78 2.05 0 2.83L4 21.41c.39.39.9.59 1.41.59.51 0 1.02-.2 1.41-.59l7.78-7.78 2.81-2.81c.8-.78.8-2.07 0-2.86zM5.41 20L4 18.59l7.72-7.72 1.47 1.35L5.41 20z\"/>\n",
       "  </svg>\n",
       "      </button>\n",
       "      \n",
       "  <style>\n",
       "    .colab-df-container {\n",
       "      display:flex;\n",
       "      flex-wrap:wrap;\n",
       "      gap: 12px;\n",
       "    }\n",
       "\n",
       "    .colab-df-convert {\n",
       "      background-color: #E8F0FE;\n",
       "      border: none;\n",
       "      border-radius: 50%;\n",
       "      cursor: pointer;\n",
       "      display: none;\n",
       "      fill: #1967D2;\n",
       "      height: 32px;\n",
       "      padding: 0 0 0 0;\n",
       "      width: 32px;\n",
       "    }\n",
       "\n",
       "    .colab-df-convert:hover {\n",
       "      background-color: #E2EBFA;\n",
       "      box-shadow: 0px 1px 2px rgba(60, 64, 67, 0.3), 0px 1px 3px 1px rgba(60, 64, 67, 0.15);\n",
       "      fill: #174EA6;\n",
       "    }\n",
       "\n",
       "    [theme=dark] .colab-df-convert {\n",
       "      background-color: #3B4455;\n",
       "      fill: #D2E3FC;\n",
       "    }\n",
       "\n",
       "    [theme=dark] .colab-df-convert:hover {\n",
       "      background-color: #434B5C;\n",
       "      box-shadow: 0px 1px 3px 1px rgba(0, 0, 0, 0.15);\n",
       "      filter: drop-shadow(0px 1px 2px rgba(0, 0, 0, 0.3));\n",
       "      fill: #FFFFFF;\n",
       "    }\n",
       "  </style>\n",
       "\n",
       "      <script>\n",
       "        const buttonEl =\n",
       "          document.querySelector('#df-e25626b9-6ffb-4645-8931-050c66fe5b60 button.colab-df-convert');\n",
       "        buttonEl.style.display =\n",
       "          google.colab.kernel.accessAllowed ? 'block' : 'none';\n",
       "\n",
       "        async function convertToInteractive(key) {\n",
       "          const element = document.querySelector('#df-e25626b9-6ffb-4645-8931-050c66fe5b60');\n",
       "          const dataTable =\n",
       "            await google.colab.kernel.invokeFunction('convertToInteractive',\n",
       "                                                     [key], {});\n",
       "          if (!dataTable) return;\n",
       "\n",
       "          const docLinkHtml = 'Like what you see? Visit the ' +\n",
       "            '<a target=\"_blank\" href=https://colab.research.google.com/notebooks/data_table.ipynb>data table notebook</a>'\n",
       "            + ' to learn more about interactive tables.';\n",
       "          element.innerHTML = '';\n",
       "          dataTable['output_type'] = 'display_data';\n",
       "          await google.colab.output.renderOutput(dataTable, element);\n",
       "          const docLink = document.createElement('div');\n",
       "          docLink.innerHTML = docLinkHtml;\n",
       "          element.appendChild(docLink);\n",
       "        }\n",
       "      </script>\n",
       "    </div>\n",
       "  </div>\n",
       "  "
      ],
      "text/plain": [
       "                 Model             Metrics Training_Set Validation_Set\n",
       "0   Dummy_MostFrequent            Accuracy        0.333          0.333\n",
       "1   Dummy_MostFrequent  MacroAvg_Precision        0.111          0.111\n",
       "2   Dummy_MostFrequent     MacroAvg_Recall        0.333          0.333\n",
       "3   Dummy_MostFrequent    MacroAvg_F1Score        0.167          0.167\n",
       "4     Dummy_Stratified            Accuracy        0.337          0.332\n",
       "5     Dummy_Stratified  MacroAvg_Precision        0.337          0.332\n",
       "6     Dummy_Stratified     MacroAvg_Recall        0.337          0.332\n",
       "7     Dummy_Stratified    MacroAvg_F1Score        0.337          0.332\n",
       "8   LogisticReg_OneHot            Accuracy        0.988          0.653\n",
       "9   LogisticReg_OneHot  MacroAvg_Precision        0.988          0.652\n",
       "10  LogisticReg_OneHot     MacroAvg_Recall        0.988          0.653\n",
       "11  LogisticReg_OneHot    MacroAvg_F1Score        0.988          0.652\n",
       "12   LogisticReg_TFIDF            Accuracy        0.878          0.684\n",
       "13   LogisticReg_TFIDF  MacroAvg_Precision        0.878          0.686\n",
       "14   LogisticReg_TFIDF     MacroAvg_Recall        0.878          0.684\n",
       "15   LogisticReg_TFIDF    MacroAvg_F1Score        0.878          0.685\n",
       "16             SVC_RBF            Accuracy        0.934          0.669\n",
       "17             SVC_RBF  MacroAvg_Precision        0.934          0.673\n",
       "18             SVC_RBF     MacroAvg_Recall        0.934          0.669\n",
       "19             SVC_RBF    MacroAvg_F1Score        0.934          0.670"
      ]
     },
     "execution_count": 46,
     "metadata": {},
     "output_type": "execute_result"
    }
   ],
   "source": [
    "metrics = [\"Accuracy\", \"MacroAvg_Precision\", \"MacroAvg_Recall\", \"MacroAvg_F1Score\"]\n",
    "\n",
    "dumfreq_dict = {\n",
    "    \"Model\":\"Dummy_MostFrequent\",\n",
    "    \"Metrics\":metrics,\n",
    "    \"Training_Set\": [acc_dumfreq_trn, prec_dumfreq_trn, rec_dumfreq_trn, f1_dumfreq_trn],\n",
    "    \"Validation_Set\" : [acc_dumfreq, prec_dumfreq, rec_dumfreq, f1_dumfreq]\n",
    "}\n",
    "\n",
    "dumstrat_dict = {\n",
    "    \"Model\":\"Dummy_Stratified\",\n",
    "    \"Metrics\":metrics,\n",
    "    \"Training_Set\": [acc_dumstrat_trn, prec_dumstrat_trn, rec_dumstrat_trn, f1_dumstrat_trn],\n",
    "    \"Validation_Set\" : [acc_dumstrat, prec_dumstrat, rec_dumstrat, f1_dumstrat]\n",
    "}\n",
    "\n",
    "logregonehot_dict = {\n",
    "    \"Model\":\"LogisticReg_OneHot\",\n",
    "    \"Metrics\":metrics,\n",
    "    \"Training_Set\": [acc_logonehot_trn, prec_logonehot_trn, rec_logonehot_trn, f1_logonehot_trn],\n",
    "    \"Validation_Set\" : [acc_logonehot, prec_logonehot, rec_logonehot, f1_logonehot]\n",
    "}\n",
    "\n",
    "logregtfidf_dict = {\n",
    "    \"Model\":\"LogisticReg_TFIDF\",\n",
    "    \"Metrics\":metrics,\n",
    "    \"Training_Set\": [acc_logtfidf_trn, prec_logtfidf_trn, rec_logtfidf_trn, f1_logtfidf_trn],\n",
    "    \"Validation_Set\" : [acc_logtfidf, prec_logtfidf, rec_logtfidf, f1_logtfidf]\n",
    "}\n",
    "\n",
    "svc_dict = {\n",
    "    \"Model\":\"SVC_RBF\",\n",
    "    \"Metrics\":metrics,\n",
    "    \"Training_Set\": [acc_svc_trn, prec_svc_trn, rec_svc_trn, f1_svc_trn],\n",
    "    \"Validation_Set\" : [acc_svc, prec_svc, rec_svc, f1_svc]\n",
    "}\n",
    "\n",
    "a = pd.DataFrame(dumfreq_dict)\n",
    "b = pd.DataFrame(dumstrat_dict)\n",
    "c = pd.DataFrame(logregonehot_dict)\n",
    "d = pd.DataFrame(logregtfidf_dict)\n",
    "e = pd.DataFrame(svc_dict)\n",
    "\n",
    "clf_comp_df = pd.concat([a,b,c,d,e]).reset_index(drop=True)\n",
    "clf_comp_df"
   ]
  },
  {
   "cell_type": "markdown",
   "id": "c4ebc4b6-4a39-4948-895c-eb13fdb311d8",
   "metadata": {
    "id": "c4ebc4b6-4a39-4948-895c-eb13fdb311d8"
   },
   "source": [
    "- The best classifier by Macro F1 on validation set = **Logistic Regression with TFIDF Vectorization**"
   ]
  },
  {
   "cell_type": "markdown",
   "id": "xyTGFZfUxcgY",
   "metadata": {
    "id": "xyTGFZfUxcgY"
   },
   "source": [
    "### Class-wise F1 Score Plot for best classifier baseline model"
   ]
  },
  {
   "cell_type": "code",
   "execution_count": 47,
   "id": "8654795b-4c81-4050-af5d-717a76533b64",
   "metadata": {
    "id": "8654795b-4c81-4050-af5d-717a76533b64"
   },
   "outputs": [],
   "source": [
    "vectorizer = TfidfVectorizer()\n",
    "X_train_tfidf = vectorizer.fit_transform(X_train)\n",
    "X_val_tfidf = vectorizer.transform(X_val)\n",
    "\n",
    "log_reg = LogisticRegression()\n",
    "log_reg.fit(X_train_tfidf, y_train)\n",
    "\n",
    "y_pred = log_reg.predict(X_val_tfidf)\n",
    "\n",
    "precision, recall, f1_score_classwise, support = precision_recall_fscore_support(y_val, y_pred, average=None)"
   ]
  },
  {
   "cell_type": "code",
   "execution_count": 48,
   "id": "433774f2-8e03-4d20-a8d3-ea305893d7f7",
   "metadata": {
    "colab": {
     "base_uri": "https://localhost:8080/",
     "height": 295
    },
    "id": "433774f2-8e03-4d20-a8d3-ea305893d7f7",
    "outputId": "ceacd29f-1619-4ed4-84a1-ba9d71455d70"
   },
   "outputs": [
    {
     "data": {
      "image/png": "[encoded data removed]",
      "text/plain": [
       "<Figure size 432x288 with 1 Axes>"
      ]
     },
     "metadata": {
      "needs_background": "light"
     },
     "output_type": "display_data"
    }
   ],
   "source": [
    "labels = ['Class 0', 'Class 1', 'Class 2']\n",
    "plt.bar(labels, f1_score_classwise)\n",
    "plt.xlabel('Class')\n",
    "plt.ylabel('F1 Score')\n",
    "plt.title('F1 Scores by Class')\n",
    "\n",
    "plt.show()"
   ]
  },
  {
   "cell_type": "markdown",
   "id": "d9c6eaa1-dd1c-45e3-9b6e-a845b45dd4d7",
   "metadata": {
    "id": "d9c6eaa1-dd1c-45e3-9b6e-a845b45dd4d7"
   },
   "source": [
    "### Own Classifier - SVC RBF Classifier with TF-IDF Vectorization"
   ]
  },
  {
   "cell_type": "code",
   "execution_count": 49,
   "id": "b7447e92-4835-4aa4-b047-509fa5dc2bfc",
   "metadata": {
    "id": "b7447e92-4835-4aa4-b047-509fa5dc2bfc"
   },
   "outputs": [],
   "source": [
    "vectorizer = TfidfVectorizer(binary=True)\n",
    "X_train_tfidf = vectorizer.fit_transform(X_train)\n",
    "X_val_tfidf = vectorizer.transform(X_val)"
   ]
  },
  {
   "cell_type": "code",
   "execution_count": 50,
   "id": "37ff83fc-f2f2-424a-ba17-314af6edfabf",
   "metadata": {
    "colab": {
     "base_uri": "https://localhost:8080/"
    },
    "id": "37ff83fc-f2f2-424a-ba17-314af6edfabf",
    "outputId": "09d8e3da-a542-4965-abbb-e4c88908cc84"
   },
   "outputs": [
    {
     "name": "stdout",
     "output_type": "stream",
     "text": [
      "Best parameters: {'C': 1, 'gamma': 1}\n",
      "Training Classifier scores for linear SVC classifier:  0.988 0.988 0.988 0.988\n",
      "Validation Classifier scores for linear SVC classifier:  0.683 0.686 0.683 0.684\n"
     ]
    }
   ],
   "source": [
    "param_grid = {\n",
    "    'C': [0.01, 0.1, 1, 5], # Regularization Parameter\n",
    "    'gamma': [0.1, 1, 5] # Smoothness of decision boundary\n",
    "}\n",
    "\n",
    "svc = SVC(kernel='rbf', class_weight='balanced')\n",
    "\n",
    "grid_search = GridSearchCV(svc, param_grid, n_jobs=-1)\n",
    "grid_search.fit(X_train_tfidf, y_train)\n",
    "\n",
    "print(\"Best parameters:\", grid_search.best_params_)\n",
    "\n",
    "y_pred_trn = grid_search.predict(X_train_tfidf)\n",
    "y_pred = grid_search.predict(X_val_tfidf)\n",
    "\n",
    "acc_rftfidf_trn, prec_rftfidf_trn, rec_rftfidf_trn, f1_rftfidf_trn = get_classifier_metrics(y_train, y_pred_trn)\n",
    "print(\"Training Classifier scores for linear SVC classifier: \",acc_rftfidf_trn, prec_rftfidf_trn, rec_rftfidf_trn, f1_rftfidf_trn)\n",
    "\n",
    "acc_rftfidf, prec_rftfidf, rec_rftfidf, f1_rftfidf = get_classifier_metrics(y_val, y_pred)\n",
    "print(\"Validation Classifier scores for linear SVC classifier: \",acc_rftfidf, prec_rftfidf, rec_rftfidf, f1_rftfidf)"
   ]
  },
  {
   "cell_type": "markdown",
   "id": "73d002fc-8675-4681-8262-d1a8c59f72b5",
   "metadata": {
    "id": "73d002fc-8675-4681-8262-d1a8c59f72b5"
   },
   "source": [
    "## Parameter Tuning"
   ]
  },
  {
   "cell_type": "code",
   "execution_count": 51,
   "id": "865714ec-bddb-4780-a945-aabc6d11a5d7",
   "metadata": {
    "id": "865714ec-bddb-4780-a945-aabc6d11a5d7"
   },
   "outputs": [],
   "source": [
    "parameters = {\n",
    "    'vect__sublinear_tf': [True, False],\n",
    "    'vect__max_features': [None, 1000, 10000, 50000],\n",
    "    'vect__ngram_range': [(1,1), (1,2)],\n",
    "    'clf__C': [0.001, 0.01, 0.1, 1, 10, 100, 1000, 10000],\n",
    "    'clf__penalty': ['l1', 'l2'],\n",
    "    #'clf__max_iter': [100, 200]\n",
    "}"
   ]
  },
  {
   "cell_type": "code",
   "execution_count": 52,
   "id": "53cde2e6-a31e-406e-a512-7c0b714b265f",
   "metadata": {
    "colab": {
     "base_uri": "https://localhost:8080/"
    },
    "collapsed": true,
    "id": "53cde2e6-a31e-406e-a512-7c0b714b265f",
    "jupyter": {
     "outputs_hidden": true
    },
    "outputId": "38642179-5a07-4fc3-c686-84e280156029",
    "tags": []
   },
   "outputs": [
    {
     "name": "stdout",
     "output_type": "stream",
     "text": [
      "Best parameters: {'clf__C': 10, 'clf__penalty': 'l2', 'vect__max_features': None, 'vect__ngram_range': (1, 2), 'vect__sublinear_tf': True}\n"
     ]
    }
   ],
   "source": [
    "pipeline = Pipeline([\n",
    "    ('vect', TfidfVectorizer()),\n",
    "    ('clf', LogisticRegression())\n",
    "])\n",
    "\n",
    "grid_search = GridSearchCV(pipeline, parameters, verbose=0, n_jobs=-1)\n",
    "grid_search.fit(X_train, y_train)\n",
    "\n",
    "y_pred = grid_search.predict(X_val)\n",
    "\n",
    "print(\"Best parameters:\", grid_search.best_params_)\n"
   ]
  },
  {
   "cell_type": "code",
   "execution_count": 53,
   "id": "93a6ea37-09a3-447e-b8e8-faf258c23923",
   "metadata": {
    "colab": {
     "base_uri": "https://localhost:8080/"
    },
    "id": "93a6ea37-09a3-447e-b8e8-faf258c23923",
    "outputId": "ab76e864-d83b-409a-d146-2e602ffaf4a3"
   },
   "outputs": [
    {
     "name": "stdout",
     "output_type": "stream",
     "text": [
      "Best parameters: {'clf__C': 10, 'clf__penalty': 'l2', 'vect__max_features': None, 'vect__ngram_range': (1, 2), 'vect__sublinear_tf': True}\n"
     ]
    }
   ],
   "source": [
    "print(\"Best parameters:\", grid_search.best_params_)"
   ]
  },
  {
   "cell_type": "code",
   "execution_count": 54,
   "id": "8ac53dc8-a081-47cf-9ec4-3f53fa78a4ea",
   "metadata": {
    "colab": {
     "base_uri": "https://localhost:8080/"
    },
    "id": "8ac53dc8-a081-47cf-9ec4-3f53fa78a4ea",
    "outputId": "6bbe547c-3369-48d1-f7ba-ca4181d013d5"
   },
   "outputs": [
    {
     "data": {
      "text/plain": [
       "0.6936948013160661"
      ]
     },
     "execution_count": 54,
     "metadata": {},
     "output_type": "execute_result"
    }
   ],
   "source": [
    "grid_search.best_score_"
   ]
  },
  {
   "cell_type": "code",
   "execution_count": 55,
   "id": "7a037226-e1c5-41a0-980f-674bc90bb7f7",
   "metadata": {
    "colab": {
     "base_uri": "https://localhost:8080/"
    },
    "id": "7a037226-e1c5-41a0-980f-674bc90bb7f7",
    "outputId": "3b965559-a766-4e3b-86f0-77392b899581"
   },
   "outputs": [
    {
     "name": "stdout",
     "output_type": "stream",
     "text": [
      "Classifier scores for logistic regression (tfidf) classifier:  0.688 0.689 0.688 0.689\n"
     ]
    }
   ],
   "source": [
    "acc_logtfidf, prec_logtfidf, rec_logtfidf, f1_logtfidf = get_classifier_metrics(y_val, y_pred)\n",
    "print(\"Classifier scores for logistic regression (tfidf) classifier: \",acc_logtfidf, prec_logtfidf, rec_logtfidf, f1_logtfidf)"
   ]
  },
  {
   "cell_type": "markdown",
   "id": "56f399fc-d694-432c-af44-f45611875a92",
   "metadata": {
    "id": "56f399fc-d694-432c-af44-f45611875a92"
   },
   "source": [
    "## Context Vectors using BERT"
   ]
  },
  {
   "cell_type": "markdown",
   "id": "2LjHZwwHx327",
   "metadata": {
    "id": "2LjHZwwHx327"
   },
   "source": [
    "### Import related libraries"
   ]
  },
  {
   "cell_type": "code",
   "execution_count": 56,
   "id": "5ac1263d-5ec3-46c1-8ccd-7c17c59972aa",
   "metadata": {
    "id": "5ac1263d-5ec3-46c1-8ccd-7c17c59972aa"
   },
   "outputs": [],
   "source": [
    "from transformers import AutoModelForSequenceClassification, AutoModel\n",
    "from transformers import RobertaModel, RobertaTokenizerFast\n",
    "from transformers import TrainingArguments, Trainer\n",
    "from transformers import set_seed, pipeline\n",
    "from datasets import Dataset\n",
    "import torch\n",
    "\n",
    "## Set seed to replicate results\n",
    "set_seed(42)"
   ]
  },
  {
   "cell_type": "code",
   "execution_count": 57,
   "id": "bBV2hcM2wqsh",
   "metadata": {
    "id": "bBV2hcM2wqsh"
   },
   "outputs": [],
   "source": [
    "X_train_bert = X_train.reset_index(drop=True)\n",
    "y_train_bert = y_train.reset_index(drop=True)\n",
    "X_val_bert = X_val.reset_index(drop=True)\n",
    "y_val_bert = y_val.reset_index(drop=True)"
   ]
  },
  {
   "cell_type": "markdown",
   "id": "bn6rQwcmyLo3",
   "metadata": {
    "id": "bn6rQwcmyLo3"
   },
   "source": [
    "### Initialize Roberta Tokenizer and Model"
   ]
  },
  {
   "cell_type": "code",
   "execution_count": 58,
   "id": "PZMeDEMnyIqC",
   "metadata": {
    "colab": {
     "base_uri": "https://localhost:8080/",
     "height": 252,
     "referenced_widgets": [
      "b1cdf3251e554ac9957003144139e90a",
      "a3921bd42c3341f4a613b571ca2614aa",
      "4f5559150967477ba209f57b9de6d1df",
      "6f63c173cb1a4d0695a68b9e9224f626",
      "fc6e984c61744bb4ba1aae7c9220612e",
      "7516577a3baf43cd9dd4c71f9fd2017e",
      "398bd57d1521497fada0887183d3757e",
      "ce4a3dcf4eb34cf7ab245e4ed862cd7c",
      "3e2e20d9a2a4435298edd2baf230fdfe",
      "778049aa07144b32b38fb5edcc0f2931",
      "ec2b60304de342b68242ab299d6901bb",
      "ac03ca0fa3834367990e0c384d966759",
      "4c65447313c84ce7bb5e0aa811b229b2",
      "8b5ef9b6aab34c69aff9ef0627ad3573",
      "c4fd71ea75654367b9ab5542d27dcd32",
      "e03f124b65494b19990572ce412e4594",
      "818142e0233d48d3ad0438c6ca966560",
      "5e3ba11363fd412a9d495773d760b2f3",
      "ab1af4baa9184dc3afa9c2c7455d20af",
      "1cec0c8c98464ab3b69088f2851380e9",
      "3b2b2cf1fecf4376bee2a9ef82db93db",
      "6c4e1c96829c4dfda411ea29939dbceb",
      "5b9c328731f5444baa7e31817d033534",
      "4e04100717a04375a57a204d669c0f26",
      "54d79ad7106944838de47f8a9d1c599e",
      "0cc05b4d73ad4bb282b82af741b604e9",
      "bd3c267dd9f740a1887fd7df2b951409",
      "a567142b11444889b3087134d6875ab3",
      "4fc81ca7547d42ecbf5bc95259b683eb",
      "f19565ee4c404a70a81eba0d30c36a4d",
      "b39807cb9cdc4750a51598a2063f8702",
      "942ce6fa474a4a32b6f90197d3b44f25",
      "b25874df3a4c472780e9f37e21a87aa8",
      "81a718a99ccf431191aaf34140819be4",
      "99e7dda43cc942809b96b04281a88e11",
      "5b4a849c2a2b4bcfad2076965dc7fc69",
      "447fb46e5a3348b1866938ce6b1c9520",
      "6d8c8d2080104339bc1dab4d994297f1",
      "a362a38348f54b438199cd30134ec8cc",
      "f8e5dcf3a9cd4bb38de515b315c90b65",
      "b65dcbe803a2431dbd7292223d83a30d",
      "b1a5045738504f1f96b13a68e56f4967",
      "7b0bf06e16f844da9405b2666b1cd38d",
      "8c3b29c24a3741d7b6ff63baa23949ef",
      "75cb08ae94de49109da0dbfebc3236e4",
      "59bc4c1c995c498aad75da34c28d9246",
      "7522d1c2a71342d2bc45d3cfb17b2a6c",
      "b14ce7b7df944f51913cde882913d386",
      "51e1b5000cfc433b8e2afc021bbc8f8c",
      "bb3cd200ac644d278908af63fdfe5f6c",
      "1de64ee7318a4ce79a2f42c31fa2eadc",
      "0e408b8a6a2d410f859b96e5178192bb",
      "0b283b4447e04d948e1ecdb591fdcbea",
      "0e09bcdf61c34783b3bef9cec14fa88a",
      "b3ac4caf25894501b0116323a9b694d6"
     ]
    },
    "id": "PZMeDEMnyIqC",
    "outputId": "e50c4d69-9742-4c7f-f35d-2f127296c702"
   },
   "outputs": [
    {
     "data": {
      "application/vnd.jupyter.widget-view+json": {
       "model_id": "b1cdf3251e554ac9957003144139e90a",
       "version_major": 2,
       "version_minor": 0
      },
      "text/plain": [
       "Downloading (…)olve/main/vocab.json:   0%|          | 0.00/899k [00:00<?, ?B/s]"
      ]
     },
     "metadata": {},
     "output_type": "display_data"
    },
    {
     "data": {
      "application/vnd.jupyter.widget-view+json": {
       "model_id": "ac03ca0fa3834367990e0c384d966759",
       "version_major": 2,
       "version_minor": 0
      },
      "text/plain": [
       "Downloading (…)olve/main/merges.txt:   0%|          | 0.00/456k [00:00<?, ?B/s]"
      ]
     },
     "metadata": {},
     "output_type": "display_data"
    },
    {
     "data": {
      "application/vnd.jupyter.widget-view+json": {
       "model_id": "5b9c328731f5444baa7e31817d033534",
       "version_major": 2,
       "version_minor": 0
      },
      "text/plain": [
       "Downloading (…)/main/tokenizer.json:   0%|          | 0.00/1.36M [00:00<?, ?B/s]"
      ]
     },
     "metadata": {},
     "output_type": "display_data"
    },
    {
     "data": {
      "application/vnd.jupyter.widget-view+json": {
       "model_id": "81a718a99ccf431191aaf34140819be4",
       "version_major": 2,
       "version_minor": 0
      },
      "text/plain": [
       "Downloading (…)lve/main/config.json:   0%|          | 0.00/481 [00:00<?, ?B/s]"
      ]
     },
     "metadata": {},
     "output_type": "display_data"
    },
    {
     "data": {
      "application/vnd.jupyter.widget-view+json": {
       "model_id": "75cb08ae94de49109da0dbfebc3236e4",
       "version_major": 2,
       "version_minor": 0
      },
      "text/plain": [
       "Downloading pytorch_model.bin:   0%|          | 0.00/501M [00:00<?, ?B/s]"
      ]
     },
     "metadata": {},
     "output_type": "display_data"
    },
    {
     "name": "stderr",
     "output_type": "stream",
     "text": [
      "Some weights of the model checkpoint at roberta-base were not used when initializing RobertaModel: ['lm_head.dense.bias', 'lm_head.layer_norm.weight', 'lm_head.decoder.weight', 'lm_head.bias', 'lm_head.dense.weight', 'lm_head.layer_norm.bias']\n",
      "- This IS expected if you are initializing RobertaModel from the checkpoint of a model trained on another task or with another architecture (e.g. initializing a BertForSequenceClassification model from a BertForPreTraining model).\n",
      "- This IS NOT expected if you are initializing RobertaModel from the checkpoint of a model that you expect to be exactly identical (initializing a BertForSequenceClassification model from a BertForSequenceClassification model).\n"
     ]
    }
   ],
   "source": [
    "tokenizer = RobertaTokenizerFast.from_pretrained(\"roberta-base\")\n",
    "model = AutoModel.from_pretrained(\"roberta-base\")"
   ]
  },
  {
   "cell_type": "markdown",
   "id": "Y62cHYfrzT76",
   "metadata": {
    "id": "Y62cHYfrzT76"
   },
   "source": [
    "### Create feature extraction pipeline, generate embeddings for each data record and append to list"
   ]
  },
  {
   "cell_type": "code",
   "execution_count": 59,
   "id": "7149096f-8f1d-4e83-ab1f-0c0578584e88",
   "metadata": {
    "colab": {
     "base_uri": "https://localhost:8080/"
    },
    "id": "7149096f-8f1d-4e83-ab1f-0c0578584e88",
    "outputId": "75ea0825-10d1-4a41-e9e7-b5c035162eb6",
    "scrolled": true,
    "tags": []
   },
   "outputs": [
    {
     "name": "stdout",
     "output_type": "stream",
     "text": [
      "Training done\n",
      "Evaluation done\n"
     ]
    }
   ],
   "source": [
    "# Create the feature-extraction pipeline\n",
    "feature_extractor = pipeline(\"feature-extraction\", model=model, tokenizer=tokenizer)\n",
    "\n",
    "# Encode the training and validation data\n",
    "X_trnembeddings = []\n",
    "y_trnlst = []\n",
    "X_valembeddings = []\n",
    "y_vallst = []\n",
    "\n",
    "for X_traindoc, y_label in zip(X_train_bert, y_train_bert):\n",
    "\n",
    "    trn_encoded = feature_extractor(X_traindoc, max_length=512, padding=True, truncation=True)\n",
    "    frst_contextvec = np.array(trn_encoded[0][0])\n",
    "    X_trnembeddings.append(frst_contextvec)\n",
    "    y_trnlst.append(y_label)\n",
    "    \n",
    "print(\"Training done\")\n",
    "        \n",
    "for X_valdoc, y_vallabel in zip(X_val_bert, y_val_bert):\n",
    "    val_encoded = feature_extractor(X_valdoc, max_length=512, padding=True, truncation=True)\n",
    "    frst_contextvec_val = np.array(val_encoded[0][0])\n",
    "    X_valembeddings.append(frst_contextvec_val)\n",
    "    y_vallst.append(y_vallabel)\n",
    "\n",
    "print(\"Evaluation done\")"
   ]
  },
  {
   "cell_type": "markdown",
   "id": "AWDI8O5PzhsO",
   "metadata": {
    "id": "AWDI8O5PzhsO"
   },
   "source": [
    "### Train logistic regression model with embeddings and get validation metrics"
   ]
  },
  {
   "cell_type": "code",
   "execution_count": 60,
   "id": "fa77b9fd-e6bc-4287-acd6-c8272247a852",
   "metadata": {
    "colab": {
     "base_uri": "https://localhost:8080/",
     "height": 75
    },
    "id": "fa77b9fd-e6bc-4287-acd6-c8272247a852",
    "outputId": "6bb87494-7850-4ef9-9043-c16de7a7b9b0",
    "tags": []
   },
   "outputs": [
    {
     "data": {
      "text/html": [
       "<style>#sk-container-id-1 {color: black;background-color: white;}#sk-container-id-1 pre{padding: 0;}#sk-container-id-1 div.sk-toggleable {background-color: white;}#sk-container-id-1 label.sk-toggleable__label {cursor: pointer;display: block;width: 100%;margin-bottom: 0;padding: 0.3em;box-sizing: border-box;text-align: center;}#sk-container-id-1 label.sk-toggleable__label-arrow:before {content: \"▸\";float: left;margin-right: 0.25em;color: #696969;}#sk-container-id-1 label.sk-toggleable__label-arrow:hover:before {color: black;}#sk-container-id-1 div.sk-estimator:hover label.sk-toggleable__label-arrow:before {color: black;}#sk-container-id-1 div.sk-toggleable__content {max-height: 0;max-width: 0;overflow: hidden;text-align: left;background-color: #f0f8ff;}#sk-container-id-1 div.sk-toggleable__content pre {margin: 0.2em;color: black;border-radius: 0.25em;background-color: #f0f8ff;}#sk-container-id-1 input.sk-toggleable__control:checked~div.sk-toggleable__content {max-height: 200px;max-width: 100%;overflow: auto;}#sk-container-id-1 input.sk-toggleable__control:checked~label.sk-toggleable__label-arrow:before {content: \"▾\";}#sk-container-id-1 div.sk-estimator input.sk-toggleable__control:checked~label.sk-toggleable__label {background-color: #d4ebff;}#sk-container-id-1 div.sk-label input.sk-toggleable__control:checked~label.sk-toggleable__label {background-color: #d4ebff;}#sk-container-id-1 input.sk-hidden--visually {border: 0;clip: rect(1px 1px 1px 1px);clip: rect(1px, 1px, 1px, 1px);height: 1px;margin: -1px;overflow: hidden;padding: 0;position: absolute;width: 1px;}#sk-container-id-1 div.sk-estimator {font-family: monospace;background-color: #f0f8ff;border: 1px dotted black;border-radius: 0.25em;box-sizing: border-box;margin-bottom: 0.5em;}#sk-container-id-1 div.sk-estimator:hover {background-color: #d4ebff;}#sk-container-id-1 div.sk-parallel-item::after {content: \"\";width: 100%;border-bottom: 1px solid gray;flex-grow: 1;}#sk-container-id-1 div.sk-label:hover label.sk-toggleable__label {background-color: #d4ebff;}#sk-container-id-1 div.sk-serial::before {content: \"\";position: absolute;border-left: 1px solid gray;box-sizing: border-box;top: 0;bottom: 0;left: 50%;z-index: 0;}#sk-container-id-1 div.sk-serial {display: flex;flex-direction: column;align-items: center;background-color: white;padding-right: 0.2em;padding-left: 0.2em;position: relative;}#sk-container-id-1 div.sk-item {position: relative;z-index: 1;}#sk-container-id-1 div.sk-parallel {display: flex;align-items: stretch;justify-content: center;background-color: white;position: relative;}#sk-container-id-1 div.sk-item::before, #sk-container-id-1 div.sk-parallel-item::before {content: \"\";position: absolute;border-left: 1px solid gray;box-sizing: border-box;top: 0;bottom: 0;left: 50%;z-index: -1;}#sk-container-id-1 div.sk-parallel-item {display: flex;flex-direction: column;z-index: 1;position: relative;background-color: white;}#sk-container-id-1 div.sk-parallel-item:first-child::after {align-self: flex-end;width: 50%;}#sk-container-id-1 div.sk-parallel-item:last-child::after {align-self: flex-start;width: 50%;}#sk-container-id-1 div.sk-parallel-item:only-child::after {width: 0;}#sk-container-id-1 div.sk-dashed-wrapped {border: 1px dashed gray;margin: 0 0.4em 0.5em 0.4em;box-sizing: border-box;padding-bottom: 0.4em;background-color: white;}#sk-container-id-1 div.sk-label label {font-family: monospace;font-weight: bold;display: inline-block;line-height: 1.2em;}#sk-container-id-1 div.sk-label-container {text-align: center;}#sk-container-id-1 div.sk-container {/* jupyter's `normalize.less` sets `[hidden] { display: none; }` but bootstrap.min.css set `[hidden] { display: none !important; }` so we also need the `!important` here to be able to override the default hidden behavior on the sphinx rendered scikit-learn.org. See: https://github.com/scikit-learn/scikit-learn/issues/21755 */display: inline-block !important;position: relative;}#sk-container-id-1 div.sk-text-repr-fallback {display: none;}</style><div id=\"sk-container-id-1\" class=\"sk-top-container\"><div class=\"sk-text-repr-fallback\"><pre>LogisticRegression()</pre><b>In a Jupyter environment, please rerun this cell to show the HTML representation or trust the notebook. <br />On GitHub, the HTML representation is unable to render, please try loading this page with nbviewer.org.</b></div><div class=\"sk-container\" hidden><div class=\"sk-item\"><div class=\"sk-estimator sk-toggleable\"><input class=\"sk-toggleable__control sk-hidden--visually\" id=\"sk-estimator-id-1\" type=\"checkbox\" checked><label for=\"sk-estimator-id-1\" class=\"sk-toggleable__label sk-toggleable__label-arrow\">LogisticRegression</label><div class=\"sk-toggleable__content\"><pre>LogisticRegression()</pre></div></div></div></div></div>"
      ],
      "text/plain": [
       "LogisticRegression()"
      ]
     },
     "execution_count": 60,
     "metadata": {},
     "output_type": "execute_result"
    }
   ],
   "source": [
    "clf = LogisticRegression()\n",
    "clf.fit(X_trnembeddings, y_trnlst)"
   ]
  },
  {
   "cell_type": "code",
   "execution_count": 61,
   "id": "b7380f04-5562-4ef3-93b3-1991cdffbe2d",
   "metadata": {
    "colab": {
     "base_uri": "https://localhost:8080/"
    },
    "id": "b7380f04-5562-4ef3-93b3-1991cdffbe2d",
    "outputId": "903cfcd3-ed45-4954-d2b8-8968d227ad24"
   },
   "outputs": [
    {
     "name": "stdout",
     "output_type": "stream",
     "text": [
      "Logistic Regression Classifier scores:  0.651 0.648 0.651 0.649\n"
     ]
    }
   ],
   "source": [
    "y_pred = clf.predict(X_valembeddings)\n",
    "\n",
    "acc_val, prec_val, rec_val, f1_val = get_classifier_metrics(y_vallst, y_pred)\n",
    "print(\"Logistic Regression Classifier scores: \",acc_val, prec_val, rec_val, f1_val)"
   ]
  },
  {
   "cell_type": "markdown",
   "id": "7389b3f4-82e8-4ee1-a92a-f029491c308a",
   "metadata": {
    "id": "7389b3f4-82e8-4ee1-a92a-f029491c308a"
   },
   "source": [
    "### End-to-end Roberta Model"
   ]
  },
  {
   "cell_type": "code",
   "execution_count": 62,
   "id": "wyl6jfVU8n9u",
   "metadata": {
    "colab": {
     "base_uri": "https://localhost:8080/"
    },
    "id": "wyl6jfVU8n9u",
    "outputId": "583c6155-e8e1-4c5f-fce6-7a81bf38f31e"
   },
   "outputs": [
    {
     "data": {
      "text/plain": [
       "0"
      ]
     },
     "execution_count": 62,
     "metadata": {},
     "output_type": "execute_result"
    }
   ],
   "source": [
    "import gc\n",
    "gc.collect()\n",
    "torch.cuda.memory_allocated()\n",
    "torch.cuda.empty_cache()\n",
    "torch.cuda.memory_allocated()"
   ]
  },
  {
   "cell_type": "code",
   "execution_count": 63,
   "id": "ff3QXRzPd2C7",
   "metadata": {
    "id": "ff3QXRzPd2C7"
   },
   "outputs": [],
   "source": [
    "from transformers import AutoModelForSequenceClassification\n",
    "from transformers import RobertaModel, RobertaTokenizerFast\n",
    "from transformers import TrainingArguments, Trainer\n",
    "from transformers import set_seed, pipeline\n",
    "from datasets import Dataset\n",
    "import torch\n",
    "\n",
    "## Set seed to replicate results\n",
    "set_seed(42)"
   ]
  },
  {
   "cell_type": "code",
   "execution_count": 64,
   "id": "CiAfGAxUOG7l",
   "metadata": {
    "id": "CiAfGAxUOG7l"
   },
   "outputs": [],
   "source": [
    "## Create BERT-specific dataframe to be transformed into a Dataset object\n",
    "train_df_bert = pd.DataFrame({'text':X_train, 'label':y_train})\n",
    "val_df_bert = pd.DataFrame({'text':X_val, 'label':y_val})\n",
    "X_train_df = Dataset.from_pandas(train_df_bert)\n",
    "X_val_df = Dataset.from_pandas(val_df_bert)"
   ]
  },
  {
   "cell_type": "code",
   "execution_count": 65,
   "id": "iVvdIuMxzyla",
   "metadata": {
    "id": "iVvdIuMxzyla"
   },
   "outputs": [],
   "source": [
    "## Compute metrics function for transformers trainer function\n",
    "def compute_metrics(pred):\n",
    "    metrics_dict = {}\n",
    "    preds = pred.predictions.argmax(-1)\n",
    "    labels = pred.label_ids\n",
    "\n",
    "    accuracy = accuracy_score(labels, preds)\n",
    "    precision, recall, f1, _ = precision_recall_fscore_support(labels, preds, average='macro')\n",
    "\n",
    "    metrics_dict =  {'accuracy': accuracy,'precision': precision,'recall': recall,'f1': f1}\n",
    "    return metrics_dict"
   ]
  },
  {
   "cell_type": "markdown",
   "id": "z46rxZbZ1jin",
   "metadata": {
    "id": "z46rxZbZ1jin"
   },
   "source": [
    "### Tokenize dataset"
   ]
  },
  {
   "cell_type": "code",
   "execution_count": 66,
   "id": "VmO6mw1K1lmI",
   "metadata": {
    "colab": {
     "base_uri": "https://localhost:8080/",
     "height": 17,
     "referenced_widgets": [
      "f42fa8af99e94f71b2e4e77646c9f65a",
      "a429223109874b908ebf619034a4807d",
      "3656a5c1b5024310aca187dfad556add",
      "39600efd679644a78efab006fc7d0b37",
      "6bd632b29af740b58e7eb0bcffe9e56c",
      "a2bd8e066f5247c6982b8e46e8cf5f2b",
      "edcd9a9ae04a4711a8293452e5487eab",
      "795484939420440bb53f4ff4c5df2fd9",
      "f7bcb9c184c64dc6baf7ca005ac8e7c2",
      "94a6cd0aa995499a94321d6b2bcb55be",
      "811b623c23154e828ee5800eeb9c4c99",
      "b5d8376eb7a54473b3a169d7a36e326c",
      "448691a97149440bbbab5387bd1ccd0c",
      "59eccdeed777466184b56a18ce0c0807",
      "b678e7cad3f2405681dce3cd6b1ad94c",
      "886415e2959340ec9a0215624d9d9390",
      "de7d8d599c9b4d0d88d0759ee68e1d3f",
      "ec745982656148c6839fa6d41f41a2a7",
      "bf29f532a6164777817b634d939a1ab0",
      "f257da3d6cf44897ac5e70a1b0374cc3",
      "ffc85cf5d8ac41fd97251015df29e10e",
      "26181a097a1342ad962208e0e9eda1ae"
     ]
    },
    "id": "VmO6mw1K1lmI",
    "outputId": "1097a13e-fd26-4a4b-9363-5a1886b01f11"
   },
   "outputs": [
    {
     "data": {
      "application/vnd.jupyter.widget-view+json": {
       "model_id": "f42fa8af99e94f71b2e4e77646c9f65a",
       "version_major": 2,
       "version_minor": 0
      },
      "text/plain": [
       "Map:   0%|          | 0/5994 [00:00<?, ? examples/s]"
      ]
     },
     "metadata": {},
     "output_type": "display_data"
    },
    {
     "data": {
      "application/vnd.jupyter.widget-view+json": {
       "model_id": "b5d8376eb7a54473b3a169d7a36e326c",
       "version_major": 2,
       "version_minor": 0
      },
      "text/plain": [
       "Map:   0%|          | 0/1998 [00:00<?, ? examples/s]"
      ]
     },
     "metadata": {},
     "output_type": "display_data"
    }
   ],
   "source": [
    "def preprocess_data(examples):\n",
    "    return tokenizer(examples['text'], truncation=True, max_length=512, padding=\"max_length\")\n",
    "\n",
    "train_Dataset_tokenized = X_train_df.map(preprocess_data, batched=True)\n",
    "val_Dataset_tokenized = X_val_df.map(preprocess_data, batched=True)"
   ]
  },
  {
   "cell_type": "markdown",
   "id": "0lIJddnk1pPN",
   "metadata": {
    "id": "0lIJddnk1pPN"
   },
   "source": [
    "### Retrain Roberta Model"
   ]
  },
  {
   "cell_type": "code",
   "execution_count": 67,
   "id": "OTfuDsbBe4wa",
   "metadata": {
    "colab": {
     "base_uri": "https://localhost:8080/",
     "height": 274
    },
    "id": "OTfuDsbBe4wa",
    "outputId": "7374b63d-b255-4aaf-f590-9f0b15c1c4e5"
   },
   "outputs": [
    {
     "name": "stderr",
     "output_type": "stream",
     "text": [
      "Some weights of the model checkpoint at roberta-base were not used when initializing RobertaForSequenceClassification: ['roberta.pooler.dense.weight', 'lm_head.dense.bias', 'lm_head.layer_norm.weight', 'lm_head.decoder.weight', 'lm_head.bias', 'roberta.pooler.dense.bias', 'lm_head.dense.weight', 'lm_head.layer_norm.bias']\n",
      "- This IS expected if you are initializing RobertaForSequenceClassification from the checkpoint of a model trained on another task or with another architecture (e.g. initializing a BertForSequenceClassification model from a BertForPreTraining model).\n",
      "- This IS NOT expected if you are initializing RobertaForSequenceClassification from the checkpoint of a model that you expect to be exactly identical (initializing a BertForSequenceClassification model from a BertForSequenceClassification model).\n",
      "Some weights of RobertaForSequenceClassification were not initialized from the model checkpoint at roberta-base and are newly initialized: ['classifier.out_proj.bias', 'classifier.dense.bias', 'classifier.dense.weight', 'classifier.out_proj.weight']\n",
      "You should probably TRAIN this model on a down-stream task to be able to use it for predictions and inference.\n",
      "You're using a RobertaTokenizerFast tokenizer. Please note that with a fast tokenizer, using the `__call__` method is faster than using a method to encode the text followed by a call to the `pad` method to get a padded encoding.\n"
     ]
    },
    {
     "data": {
      "text/html": [
       "\n",
       "    <div>\n",
       "      \n",
       "      <progress value='375' max='375' style='width:300px; height:20px; vertical-align: middle;'></progress>\n",
       "      [375/375 02:37, Epoch 1/1]\n",
       "    </div>\n",
       "    <table border=\"1\" class=\"dataframe\">\n",
       "  <thead>\n",
       " <tr style=\"text-align: left;\">\n",
       "      <th>Epoch</th>\n",
       "      <th>Training Loss</th>\n",
       "      <th>Validation Loss</th>\n",
       "      <th>Accuracy</th>\n",
       "      <th>Precision</th>\n",
       "      <th>Recall</th>\n",
       "      <th>F1</th>\n",
       "    </tr>\n",
       "  </thead>\n",
       "  <tbody>\n",
       "    <tr>\n",
       "      <td>1</td>\n",
       "      <td>No log</td>\n",
       "      <td>1.099624</td>\n",
       "      <td>0.333333</td>\n",
       "      <td>0.111111</td>\n",
       "      <td>0.333333</td>\n",
       "      <td>0.166667</td>\n",
       "    </tr>\n",
       "  </tbody>\n",
       "</table><p>"
      ],
      "text/plain": [
       "<IPython.core.display.HTML object>"
      ]
     },
     "metadata": {},
     "output_type": "display_data"
    },
    {
     "data": {
      "text/plain": [
       "TrainOutput(global_step=375, training_loss=1.10506005859375, metrics={'train_runtime': 160.9875, 'train_samples_per_second': 37.233, 'train_steps_per_second': 2.329, 'total_flos': 1577101825861632.0, 'train_loss': 1.10506005859375, 'epoch': 1.0})"
      ]
     },
     "execution_count": 67,
     "metadata": {},
     "output_type": "execute_result"
    }
   ],
   "source": [
    "# Load the Roberta tokenizer and model\n",
    "tokenizer = RobertaTokenizerFast.from_pretrained(\"roberta-base\")\n",
    "model = AutoModelForSequenceClassification.from_pretrained(\"roberta-base\", num_labels=3)\n",
    "\n",
    "training_args = TrainingArguments(\n",
    "    output_dir=\"roberta_textclf\",\n",
    "    evaluation_strategy=\"epoch\",\n",
    "    learning_rate=1e-4,\n",
    "    per_device_train_batch_size=16, \n",
    "    per_device_eval_batch_size=16, \n",
    "    num_train_epochs=1, \n",
    "    weight_decay=0, \n",
    ")\n",
    "\n",
    "trainer = Trainer(\n",
    "    model=model,\n",
    "    args=training_args,\n",
    "    train_dataset=train_Dataset_tokenized, \n",
    "    eval_dataset=val_Dataset_tokenized,\n",
    "    tokenizer=tokenizer,\n",
    "    compute_metrics=compute_metrics,\n",
    ")\n",
    "\n",
    "# Train the model\n",
    "trainer.train()"
   ]
  },
  {
   "cell_type": "markdown",
   "id": "RQa-Cklqn4-3",
   "metadata": {
    "id": "RQa-Cklqn4-3"
   },
   "source": [
    "### Hyperparameter Tuning"
   ]
  },
  {
   "cell_type": "markdown",
   "id": "vjiG6oe0oL4f",
   "metadata": {
    "id": "vjiG6oe0oL4f"
   },
   "source": [
    "#### Case 1"
   ]
  },
  {
   "cell_type": "code",
   "execution_count": 68,
   "id": "a5b524c2-60c8-4102-bdc3-082939aff853",
   "metadata": {
    "id": "a5b524c2-60c8-4102-bdc3-082939aff853"
   },
   "outputs": [],
   "source": [
    "learning_rate = 1e-5\n",
    "batch_size = 24\n",
    "epochs = 7"
   ]
  },
  {
   "cell_type": "code",
   "execution_count": 77,
   "id": "46lp0ZSpo5RZ",
   "metadata": {
    "colab": {
     "base_uri": "https://localhost:8080/",
     "height": 206
    },
    "id": "46lp0ZSpo5RZ",
    "outputId": "645ea0c8-458e-4e7c-eb33-2bba864687a7"
   },
   "outputs": [
    {
     "data": {
      "text/html": [
       "\n",
       "    <div>\n",
       "      \n",
       "      <progress value='501' max='501' style='width:300px; height:20px; vertical-align: middle;'></progress>\n",
       "      [501/501 07:13, Epoch 3/3]\n",
       "    </div>\n",
       "    <table border=\"1\" class=\"dataframe\">\n",
       "  <thead>\n",
       " <tr style=\"text-align: left;\">\n",
       "      <th>Epoch</th>\n",
       "      <th>Training Loss</th>\n",
       "      <th>Validation Loss</th>\n",
       "      <th>Accuracy</th>\n",
       "      <th>Precision</th>\n",
       "      <th>Recall</th>\n",
       "      <th>F1</th>\n",
       "    </tr>\n",
       "  </thead>\n",
       "  <tbody>\n",
       "    <tr>\n",
       "      <td>1</td>\n",
       "      <td>No log</td>\n",
       "      <td>0.981441</td>\n",
       "      <td>0.685686</td>\n",
       "      <td>0.697989</td>\n",
       "      <td>0.685686</td>\n",
       "      <td>0.686566</td>\n",
       "    </tr>\n",
       "    <tr>\n",
       "      <td>2</td>\n",
       "      <td>No log</td>\n",
       "      <td>0.916348</td>\n",
       "      <td>0.699199</td>\n",
       "      <td>0.701806</td>\n",
       "      <td>0.699199</td>\n",
       "      <td>0.698917</td>\n",
       "    </tr>\n",
       "    <tr>\n",
       "      <td>3</td>\n",
       "      <td>0.378200</td>\n",
       "      <td>0.922641</td>\n",
       "      <td>0.700701</td>\n",
       "      <td>0.703096</td>\n",
       "      <td>0.700701</td>\n",
       "      <td>0.700547</td>\n",
       "    </tr>\n",
       "  </tbody>\n",
       "</table><p>"
      ],
      "text/plain": [
       "<IPython.core.display.HTML object>"
      ]
     },
     "metadata": {},
     "output_type": "display_data"
    },
    {
     "data": {
      "text/plain": [
       "TrainOutput(global_step=501, training_loss=0.3780139236750003, metrics={'train_runtime': 434.7122, 'train_samples_per_second': 41.365, 'train_steps_per_second': 1.152, 'total_flos': 4731305477584896.0, 'train_loss': 0.3780139236750003, 'epoch': 3.0})"
      ]
     },
     "execution_count": 77,
     "metadata": {},
     "output_type": "execute_result"
    }
   ],
   "source": [
    "training_args = TrainingArguments(\n",
    "    output_dir=\"roberta_textclf\",\n",
    "    evaluation_strategy=\"epoch\",\n",
    "    learning_rate=learning_rate, \n",
    "    per_device_train_batch_size=batch_size,\n",
    "    per_device_eval_batch_size=batch_size,\n",
    "    num_train_epochs=epochs,\n",
    ")\n",
    "\n",
    "trainer = Trainer(\n",
    "    model=model,\n",
    "    args=training_args,\n",
    "    train_dataset=train_Dataset_tokenized, \n",
    "    eval_dataset=val_Dataset_tokenized, \n",
    "    tokenizer=tokenizer,\n",
    "    compute_metrics = compute_metrics,\n",
    ")\n",
    "\n",
    "trainer.train()"
   ]
  },
  {
   "cell_type": "markdown",
   "id": "qIvTd5PUpAtt",
   "metadata": {
    "id": "qIvTd5PUpAtt"
   },
   "source": [
    "### Case 2"
   ]
  },
  {
   "cell_type": "code",
   "execution_count": 78,
   "id": "ziazYoDnpAtv",
   "metadata": {
    "id": "ziazYoDnpAtv"
   },
   "outputs": [],
   "source": [
    "learning_rate = 2e-5\n",
    "batch_size = 32\n",
    "epochs = 4"
   ]
  },
  {
   "cell_type": "code",
   "execution_count": 79,
   "id": "Gmoll5LRpG-Z",
   "metadata": {
    "colab": {
     "base_uri": "https://localhost:8080/",
     "height": 238
    },
    "id": "Gmoll5LRpG-Z",
    "outputId": "387a6211-16f3-4ae4-d83e-0ba8d96652b9"
   },
   "outputs": [
    {
     "data": {
      "text/html": [
       "\n",
       "    <div>\n",
       "      \n",
       "      <progress value='752' max='752' style='width:300px; height:20px; vertical-align: middle;'></progress>\n",
       "      [752/752 09:51, Epoch 4/4]\n",
       "    </div>\n",
       "    <table border=\"1\" class=\"dataframe\">\n",
       "  <thead>\n",
       " <tr style=\"text-align: left;\">\n",
       "      <th>Epoch</th>\n",
       "      <th>Training Loss</th>\n",
       "      <th>Validation Loss</th>\n",
       "      <th>Accuracy</th>\n",
       "      <th>Precision</th>\n",
       "      <th>Recall</th>\n",
       "      <th>F1</th>\n",
       "    </tr>\n",
       "  </thead>\n",
       "  <tbody>\n",
       "    <tr>\n",
       "      <td>1</td>\n",
       "      <td>No log</td>\n",
       "      <td>1.074965</td>\n",
       "      <td>0.673674</td>\n",
       "      <td>0.688993</td>\n",
       "      <td>0.673674</td>\n",
       "      <td>0.668556</td>\n",
       "    </tr>\n",
       "    <tr>\n",
       "      <td>2</td>\n",
       "      <td>No log</td>\n",
       "      <td>1.008735</td>\n",
       "      <td>0.689189</td>\n",
       "      <td>0.706539</td>\n",
       "      <td>0.689189</td>\n",
       "      <td>0.692467</td>\n",
       "    </tr>\n",
       "    <tr>\n",
       "      <td>3</td>\n",
       "      <td>0.354700</td>\n",
       "      <td>0.981673</td>\n",
       "      <td>0.691191</td>\n",
       "      <td>0.704276</td>\n",
       "      <td>0.691191</td>\n",
       "      <td>0.694793</td>\n",
       "    </tr>\n",
       "    <tr>\n",
       "      <td>4</td>\n",
       "      <td>0.354700</td>\n",
       "      <td>1.050980</td>\n",
       "      <td>0.696196</td>\n",
       "      <td>0.704946</td>\n",
       "      <td>0.696196</td>\n",
       "      <td>0.698206</td>\n",
       "    </tr>\n",
       "  </tbody>\n",
       "</table><p>"
      ],
      "text/plain": [
       "<IPython.core.display.HTML object>"
      ]
     },
     "metadata": {},
     "output_type": "display_data"
    },
    {
     "data": {
      "text/plain": [
       "TrainOutput(global_step=752, training_loss=0.32234488142297624, metrics={'train_runtime': 592.4579, 'train_samples_per_second': 40.469, 'train_steps_per_second': 1.269, 'total_flos': 6308407303446528.0, 'train_loss': 0.32234488142297624, 'epoch': 4.0})"
      ]
     },
     "execution_count": 79,
     "metadata": {},
     "output_type": "execute_result"
    }
   ],
   "source": [
    "training_args = TrainingArguments(\n",
    "    output_dir=\"roberta_textclf\",\n",
    "    evaluation_strategy=\"epoch\",\n",
    "    learning_rate=learning_rate, \n",
    "    per_device_train_batch_size=batch_size,\n",
    "    per_device_eval_batch_size=batch_size,\n",
    "    num_train_epochs=epochs,\n",
    ")\n",
    "\n",
    "trainer = Trainer(\n",
    "    model=model,\n",
    "    args=training_args,\n",
    "    train_dataset=train_Dataset_tokenized, \n",
    "    eval_dataset=val_Dataset_tokenized, \n",
    "    tokenizer=tokenizer,\n",
    "    compute_metrics = compute_metrics,\n",
    ")\n",
    "\n",
    "trainer.train()"
   ]
  },
  {
   "cell_type": "markdown",
   "id": "3aZLLJCtpRoD",
   "metadata": {
    "id": "3aZLLJCtpRoD"
   },
   "source": [
    "### Case 3"
   ]
  },
  {
   "cell_type": "code",
   "execution_count": 80,
   "id": "Ss4hw46OpOAk",
   "metadata": {
    "id": "Ss4hw46OpOAk"
   },
   "outputs": [],
   "source": [
    "learning_rate = 1.5e-5\n",
    "batch_size = 36\n",
    "epochs = 3"
   ]
  },
  {
   "cell_type": "code",
   "execution_count": 81,
   "id": "LZRERjI8pAtw",
   "metadata": {
    "colab": {
     "base_uri": "https://localhost:8080/",
     "height": 206
    },
    "id": "LZRERjI8pAtw",
    "outputId": "849a0e34-c6e5-4dc2-9f46-403c2577546c"
   },
   "outputs": [
    {
     "data": {
      "text/html": [
       "\n",
       "    <div>\n",
       "      \n",
       "      <progress value='501' max='501' style='width:300px; height:20px; vertical-align: middle;'></progress>\n",
       "      [501/501 07:14, Epoch 3/3]\n",
       "    </div>\n",
       "    <table border=\"1\" class=\"dataframe\">\n",
       "  <thead>\n",
       " <tr style=\"text-align: left;\">\n",
       "      <th>Epoch</th>\n",
       "      <th>Training Loss</th>\n",
       "      <th>Validation Loss</th>\n",
       "      <th>Accuracy</th>\n",
       "      <th>Precision</th>\n",
       "      <th>Recall</th>\n",
       "      <th>F1</th>\n",
       "    </tr>\n",
       "  </thead>\n",
       "  <tbody>\n",
       "    <tr>\n",
       "      <td>1</td>\n",
       "      <td>No log</td>\n",
       "      <td>1.254452</td>\n",
       "      <td>0.700701</td>\n",
       "      <td>0.708498</td>\n",
       "      <td>0.700701</td>\n",
       "      <td>0.702241</td>\n",
       "    </tr>\n",
       "    <tr>\n",
       "      <td>2</td>\n",
       "      <td>No log</td>\n",
       "      <td>1.213646</td>\n",
       "      <td>0.696196</td>\n",
       "      <td>0.710969</td>\n",
       "      <td>0.696196</td>\n",
       "      <td>0.699664</td>\n",
       "    </tr>\n",
       "    <tr>\n",
       "      <td>3</td>\n",
       "      <td>0.195000</td>\n",
       "      <td>1.254698</td>\n",
       "      <td>0.697197</td>\n",
       "      <td>0.706992</td>\n",
       "      <td>0.697197</td>\n",
       "      <td>0.699623</td>\n",
       "    </tr>\n",
       "  </tbody>\n",
       "</table><p>"
      ],
      "text/plain": [
       "<IPython.core.display.HTML object>"
      ]
     },
     "metadata": {},
     "output_type": "display_data"
    },
    {
     "data": {
      "text/plain": [
       "TrainOutput(global_step=501, training_loss=0.1946814854419279, metrics={'train_runtime': 435.6399, 'train_samples_per_second': 41.277, 'train_steps_per_second': 1.15, 'total_flos': 4731305477584896.0, 'train_loss': 0.1946814854419279, 'epoch': 3.0})"
      ]
     },
     "execution_count": 81,
     "metadata": {},
     "output_type": "execute_result"
    }
   ],
   "source": [
    "training_args = TrainingArguments(\n",
    "    output_dir=\"roberta_textclf\",\n",
    "    evaluation_strategy=\"epoch\",\n",
    "    learning_rate=learning_rate, \n",
    "    per_device_train_batch_size=batch_size,\n",
    "    per_device_eval_batch_size=batch_size,\n",
    "    num_train_epochs=epochs,\n",
    ")\n",
    "\n",
    "trainer = Trainer(\n",
    "    model=model,\n",
    "    args=training_args,\n",
    "    train_dataset=train_Dataset_tokenized, \n",
    "    eval_dataset=val_Dataset_tokenized, \n",
    "    tokenizer=tokenizer,\n",
    "    compute_metrics = compute_metrics,\n",
    ")\n",
    "\n",
    "trainer.train()"
   ]
  },
  {
   "cell_type": "markdown",
   "id": "wkIt0s5ToEV8",
   "metadata": {
    "id": "wkIt0s5ToEV8"
   },
   "source": [
    "## Testing using best model"
   ]
  },
  {
   "cell_type": "markdown",
   "id": "qc0vQl8uHZaK",
   "metadata": {
    "id": "qc0vQl8uHZaK"
   },
   "source": [
    "The BERT model having the following parameters is yielding the best evaluation metrics:\n",
    "- learning_rate = 1.5e-5\n",
    "- batch_size = 36\n",
    "- epochs = 1"
   ]
  },
  {
   "cell_type": "code",
   "execution_count": 82,
   "id": "cDYWWLFyH-3T",
   "metadata": {
    "colab": {
     "base_uri": "https://localhost:8080/",
     "height": 17,
     "referenced_widgets": [
      "9d7bffe464a94243ad388e9f68dfa2ae",
      "0465b88159dd4922b14c261a135fc557",
      "7ef9cf29ef0b4bc39823b2c480e18652",
      "620a34de230f4241aac987fa3d147ffb",
      "2a486fcfab3745949d2c0e93108fa0bb",
      "16bc0a75f2104d308c4a96a352fe6b12",
      "f44fcd89aeb6409590d75f1393c19b4d",
      "722b9da6334b4535b4dca05e64f363bc",
      "73d437b36e644c2c89afb0e53e156ede",
      "ff795f9d32614d8e8029aaeaeb1c6581",
      "c1c58ab029ea441cbb4db85c331bd832"
     ]
    },
    "id": "cDYWWLFyH-3T",
    "outputId": "579c689c-2ad8-4b5e-fc55-ad42ab762c9c"
   },
   "outputs": [
    {
     "data": {
      "application/vnd.jupyter.widget-view+json": {
       "model_id": "9d7bffe464a94243ad388e9f68dfa2ae",
       "version_major": 2,
       "version_minor": 0
      },
      "text/plain": [
       "Map:   0%|          | 0/1998 [00:00<?, ? examples/s]"
      ]
     },
     "metadata": {},
     "output_type": "display_data"
    }
   ],
   "source": [
    "test_df_bert = pd.DataFrame({'text':X_test, 'label':y_test})\n",
    "X_test_df = Dataset.from_pandas(test_df_bert)\n",
    "test_Dataset_tokenized = X_test_df.map(preprocess_data, batched=True)"
   ]
  },
  {
   "cell_type": "code",
   "execution_count": 83,
   "id": "jKcwbs7dHYfS",
   "metadata": {
    "id": "jKcwbs7dHYfS"
   },
   "outputs": [],
   "source": [
    "learning_rate = 1.5e-5\n",
    "batch_size = 36\n",
    "epochs = 1"
   ]
  },
  {
   "cell_type": "code",
   "execution_count": 84,
   "id": "cFDdSL7nHvYq",
   "metadata": {
    "colab": {
     "base_uri": "https://localhost:8080/",
     "height": 143
    },
    "id": "cFDdSL7nHvYq",
    "outputId": "8c233894-4457-438c-f70a-68ba6301f622"
   },
   "outputs": [
    {
     "data": {
      "text/html": [
       "\n",
       "    <div>\n",
       "      \n",
       "      <progress value='167' max='167' style='width:300px; height:20px; vertical-align: middle;'></progress>\n",
       "      [167/167 02:23, Epoch 1/1]\n",
       "    </div>\n",
       "    <table border=\"1\" class=\"dataframe\">\n",
       "  <thead>\n",
       " <tr style=\"text-align: left;\">\n",
       "      <th>Epoch</th>\n",
       "      <th>Training Loss</th>\n",
       "      <th>Validation Loss</th>\n",
       "      <th>Accuracy</th>\n",
       "      <th>Precision</th>\n",
       "      <th>Recall</th>\n",
       "      <th>F1</th>\n",
       "    </tr>\n",
       "  </thead>\n",
       "  <tbody>\n",
       "    <tr>\n",
       "      <td>1</td>\n",
       "      <td>No log</td>\n",
       "      <td>1.477902</td>\n",
       "      <td>0.686186</td>\n",
       "      <td>0.693396</td>\n",
       "      <td>0.686186</td>\n",
       "      <td>0.688612</td>\n",
       "    </tr>\n",
       "  </tbody>\n",
       "</table><p>"
      ],
      "text/plain": [
       "<IPython.core.display.HTML object>"
      ]
     },
     "metadata": {},
     "output_type": "display_data"
    },
    {
     "data": {
      "text/plain": [
       "TrainOutput(global_step=167, training_loss=0.14612379473840406, metrics={'train_runtime': 144.139, 'train_samples_per_second': 41.585, 'train_steps_per_second': 1.159, 'total_flos': 1577101825861632.0, 'train_loss': 0.14612379473840406, 'epoch': 1.0})"
      ]
     },
     "execution_count": 84,
     "metadata": {},
     "output_type": "execute_result"
    }
   ],
   "source": [
    "training_args = TrainingArguments(\n",
    "    output_dir=\"roberta_textclf\",\n",
    "    evaluation_strategy=\"epoch\",\n",
    "    learning_rate=learning_rate, \n",
    "    per_device_train_batch_size=batch_size,\n",
    "    per_device_eval_batch_size=batch_size,\n",
    "    num_train_epochs=epochs,\n",
    ")\n",
    "\n",
    "trainer = Trainer(\n",
    "    model=model,\n",
    "    args=training_args,\n",
    "    train_dataset=train_Dataset_tokenized, \n",
    "    eval_dataset=test_Dataset_tokenized, \n",
    "    tokenizer=tokenizer,\n",
    "    compute_metrics = compute_metrics,\n",
    ")\n",
    "\n",
    "trainer.train()"
   ]
  },
  {
   "cell_type": "code",
   "execution_count": 85,
   "id": "cLRU2um-IUcF",
   "metadata": {
    "colab": {
     "base_uri": "https://localhost:8080/",
     "height": 17
    },
    "id": "cLRU2um-IUcF",
    "outputId": "642f6c73-c319-4303-e21f-fd1a401ec48e"
   },
   "outputs": [
    {
     "data": {
      "text/html": [],
      "text/plain": [
       "<IPython.core.display.HTML object>"
      ]
     },
     "metadata": {},
     "output_type": "display_data"
    }
   ],
   "source": [
    "# Perform prediction on test dataset\n",
    "y_pred_test, label_ids, metrics = trainer.predict(test_Dataset_tokenized)"
   ]
  },
  {
   "cell_type": "code",
   "execution_count": 90,
   "id": "c0c0a2CSJnjU",
   "metadata": {
    "id": "c0c0a2CSJnjU"
   },
   "outputs": [],
   "source": [
    "## Get the class with the highest predicion score\n",
    "y_pred_test = y_pred_test.argmax(-1)"
   ]
  },
  {
   "cell_type": "code",
   "execution_count": 91,
   "id": "yDXkV0YmJ_wq",
   "metadata": {
    "colab": {
     "base_uri": "https://localhost:8080/"
    },
    "id": "yDXkV0YmJ_wq",
    "outputId": "b6c322d7-c08f-416e-d9d2-6d626a347d00"
   },
   "outputs": [
    {
     "data": {
      "text/plain": [
       "array([0, 1, 0, ..., 0, 2, 2])"
      ]
     },
     "execution_count": 91,
     "metadata": {},
     "output_type": "execute_result"
    }
   ],
   "source": [
    "y_pred_test"
   ]
  },
  {
   "cell_type": "code",
   "execution_count": 92,
   "id": "-xAJDKNnqvnn",
   "metadata": {
    "colab": {
     "base_uri": "https://localhost:8080/",
     "height": 279
    },
    "id": "-xAJDKNnqvnn",
    "outputId": "dea8c5b4-97b5-40fe-d05c-3ceca5257ff5"
   },
   "outputs": [
    {
     "data": {
      "image/png": "[encoded data removed]",
      "text/plain": [
       "<Figure size 432x288 with 2 Axes>"
      ]
     },
     "metadata": {
      "needs_background": "light"
     },
     "output_type": "display_data"
    }
   ],
   "source": [
    "# Plot confusion matrix\n",
    "fig, ax = plt.subplots()\n",
    "cm = confusion_matrix(y_test, y_pred_test)\n",
    "\n",
    "sns.heatmap(cm, annot=True, fmt='g', cmap='Blues')\n",
    "plt.xlabel('Test Actual')\n",
    "plt.ylabel('Test Predicted')\n",
    "plt.show()"
   ]
  }
 ],
 "metadata": {
  "accelerator": "GPU",
  "colab": {
   "machine_shape": "hm",
   "provenance": []
  },
  "gpuClass": "premium",
  "kernelspec": {
   "display_name": "Python 3 (ipykernel)",
   "language": "python",
   "name": "python3"
  },
  "language_info": {
   "codemirror_mode": {
    "name": "ipython",
    "version": 3
   },
   "file_extension": ".py",
   "mimetype": "text/x-python",
   "name": "python",
   "nbconvert_exporter": "python",
   "pygments_lexer": "ipython3",
   "version": "3.11.1"
  },
  "widgets": {
   "application/vnd.jupyter.widget-state+json": {
    "0465b88159dd4922b14c261a135fc557": {
     "model_module": "@jupyter-widgets/controls",
     "model_module_version": "1.5.0",
     "model_name": "HTMLModel",
     "state": {
      "_dom_classes": [],
      "_model_module": "@jupyter-widgets/controls",
      "_model_module_version": "1.5.0",
      "_model_name": "HTMLModel",
      "_view_count": null,
      "_view_module": "@jupyter-widgets/controls",
      "_view_module_version": "1.5.0",
      "_view_name": "HTMLView",
      "description": "",
      "description_tooltip": null,
      "layout": "IPY_MODEL_16bc0a75f2104d308c4a96a352fe6b12",
      "placeholder": "​",
      "style": "IPY_MODEL_f44fcd89aeb6409590d75f1393c19b4d",
      "value": "Map: 100%"
     }
    },
    "0b283b4447e04d948e1ecdb591fdcbea": {
     "model_module": "@jupyter-widgets/controls",
     "model_module_version": "1.5.0",
     "model_name": "ProgressStyleModel",
     "state": {
      "_model_module": "@jupyter-widgets/controls",
      "_model_module_version": "1.5.0",
      "_model_name": "ProgressStyleModel",
      "_view_count": null,
      "_view_module": "@jupyter-widgets/base",
      "_view_module_version": "1.2.0",
      "_view_name": "StyleView",
      "bar_color": null,
      "description_width": ""
     }
    },
    "0cc05b4d73ad4bb282b82af741b604e9": {
     "model_module": "@jupyter-widgets/controls",
     "model_module_version": "1.5.0",
     "model_name": "HTMLModel",
     "state": {
      "_dom_classes": [],
      "_model_module": "@jupyter-widgets/controls",
      "_model_module_version": "1.5.0",
      "_model_name": "HTMLModel",
      "_view_count": null,
      "_view_module": "@jupyter-widgets/controls",
      "_view_module_version": "1.5.0",
      "_view_name": "HTMLView",
      "description": "",
      "description_tooltip": null,
      "layout": "IPY_MODEL_942ce6fa474a4a32b6f90197d3b44f25",
      "placeholder": "​",
      "style": "IPY_MODEL_b25874df3a4c472780e9f37e21a87aa8",
      "value": " 1.36M/1.36M [00:01&lt;00:00, 1.16MB/s]"
     }
    },
    "0e09bcdf61c34783b3bef9cec14fa88a": {
     "model_module": "@jupyter-widgets/base",
     "model_module_version": "1.2.0",
     "model_name": "LayoutModel",
     "state": {
      "_model_module": "@jupyter-widgets/base",
      "_model_module_version": "1.2.0",
      "_model_name": "LayoutModel",
      "_view_count": null,
      "_view_module": "@jupyter-widgets/base",
      "_view_module_version": "1.2.0",
      "_view_name": "LayoutView",
      "align_content": null,
      "align_items": null,
      "align_self": null,
      "border": null,
      "bottom": null,
      "display": null,
      "flex": null,
      "flex_flow": null,
      "grid_area": null,
      "grid_auto_columns": null,
      "grid_auto_flow": null,
      "grid_auto_rows": null,
      "grid_column": null,
      "grid_gap": null,
      "grid_row": null,
      "grid_template_areas": null,
      "grid_template_columns": null,
      "grid_template_rows": null,
      "height": null,
      "justify_content": null,
      "justify_items": null,
      "left": null,
      "margin": null,
      "max_height": null,
      "max_width": null,
      "min_height": null,
      "min_width": null,
      "object_fit": null,
      "object_position": null,
      "order": null,
      "overflow": null,
      "overflow_x": null,
      "overflow_y": null,
      "padding": null,
      "right": null,
      "top": null,
      "visibility": null,
      "width": null
     }
    },
    "0e408b8a6a2d410f859b96e5178192bb": {
     "model_module": "@jupyter-widgets/base",
     "model_module_version": "1.2.0",
     "model_name": "LayoutModel",
     "state": {
      "_model_module": "@jupyter-widgets/base",
      "_model_module_version": "1.2.0",
      "_model_name": "LayoutModel",
      "_view_count": null,
      "_view_module": "@jupyter-widgets/base",
      "_view_module_version": "1.2.0",
      "_view_name": "LayoutView",
      "align_content": null,
      "align_items": null,
      "align_self": null,
      "border": null,
      "bottom": null,
      "display": null,
      "flex": null,
      "flex_flow": null,
      "grid_area": null,
      "grid_auto_columns": null,
      "grid_auto_flow": null,
      "grid_auto_rows": null,
      "grid_column": null,
      "grid_gap": null,
      "grid_row": null,
      "grid_template_areas": null,
      "grid_template_columns": null,
      "grid_template_rows": null,
      "height": null,
      "justify_content": null,
      "justify_items": null,
      "left": null,
      "margin": null,
      "max_height": null,
      "max_width": null,
      "min_height": null,
      "min_width": null,
      "object_fit": null,
      "object_position": null,
      "order": null,
      "overflow": null,
      "overflow_x": null,
      "overflow_y": null,
      "padding": null,
      "right": null,
      "top": null,
      "visibility": null,
      "width": null
     }
    },
    "16bc0a75f2104d308c4a96a352fe6b12": {
     "model_module": "@jupyter-widgets/base",
     "model_module_version": "1.2.0",
     "model_name": "LayoutModel",
     "state": {
      "_model_module": "@jupyter-widgets/base",
      "_model_module_version": "1.2.0",
      "_model_name": "LayoutModel",
      "_view_count": null,
      "_view_module": "@jupyter-widgets/base",
      "_view_module_version": "1.2.0",
      "_view_name": "LayoutView",
      "align_content": null,
      "align_items": null,
      "align_self": null,
      "border": null,
      "bottom": null,
      "display": null,
      "flex": null,
      "flex_flow": null,
      "grid_area": null,
      "grid_auto_columns": null,
      "grid_auto_flow": null,
      "grid_auto_rows": null,
      "grid_column": null,
      "grid_gap": null,
      "grid_row": null,
      "grid_template_areas": null,
      "grid_template_columns": null,
      "grid_template_rows": null,
      "height": null,
      "justify_content": null,
      "justify_items": null,
      "left": null,
      "margin": null,
      "max_height": null,
      "max_width": null,
      "min_height": null,
      "min_width": null,
      "object_fit": null,
      "object_position": null,
      "order": null,
      "overflow": null,
      "overflow_x": null,
      "overflow_y": null,
      "padding": null,
      "right": null,
      "top": null,
      "visibility": null,
      "width": null
     }
    },
    "1cec0c8c98464ab3b69088f2851380e9": {
     "model_module": "@jupyter-widgets/controls",
     "model_module_version": "1.5.0",
     "model_name": "ProgressStyleModel",
     "state": {
      "_model_module": "@jupyter-widgets/controls",
      "_model_module_version": "1.5.0",
      "_model_name": "ProgressStyleModel",
      "_view_count": null,
      "_view_module": "@jupyter-widgets/base",
      "_view_module_version": "1.2.0",
      "_view_name": "StyleView",
      "bar_color": null,
      "description_width": ""
     }
    },
    "1de64ee7318a4ce79a2f42c31fa2eadc": {
     "model_module": "@jupyter-widgets/controls",
     "model_module_version": "1.5.0",
     "model_name": "DescriptionStyleModel",
     "state": {
      "_model_module": "@jupyter-widgets/controls",
      "_model_module_version": "1.5.0",
      "_model_name": "DescriptionStyleModel",
      "_view_count": null,
      "_view_module": "@jupyter-widgets/base",
      "_view_module_version": "1.2.0",
      "_view_name": "StyleView",
      "description_width": ""
     }
    },
    "26181a097a1342ad962208e0e9eda1ae": {
     "model_module": "@jupyter-widgets/controls",
     "model_module_version": "1.5.0",
     "model_name": "DescriptionStyleModel",
     "state": {
      "_model_module": "@jupyter-widgets/controls",
      "_model_module_version": "1.5.0",
      "_model_name": "DescriptionStyleModel",
      "_view_count": null,
      "_view_module": "@jupyter-widgets/base",
      "_view_module_version": "1.2.0",
      "_view_name": "StyleView",
      "description_width": ""
     }
    },
    "2a486fcfab3745949d2c0e93108fa0bb": {
     "model_module": "@jupyter-widgets/base",
     "model_module_version": "1.2.0",
     "model_name": "LayoutModel",
     "state": {
      "_model_module": "@jupyter-widgets/base",
      "_model_module_version": "1.2.0",
      "_model_name": "LayoutModel",
      "_view_count": null,
      "_view_module": "@jupyter-widgets/base",
      "_view_module_version": "1.2.0",
      "_view_name": "LayoutView",
      "align_content": null,
      "align_items": null,
      "align_self": null,
      "border": null,
      "bottom": null,
      "display": null,
      "flex": null,
      "flex_flow": null,
      "grid_area": null,
      "grid_auto_columns": null,
      "grid_auto_flow": null,
      "grid_auto_rows": null,
      "grid_column": null,
      "grid_gap": null,
      "grid_row": null,
      "grid_template_areas": null,
      "grid_template_columns": null,
      "grid_template_rows": null,
      "height": null,
      "justify_content": null,
      "justify_items": null,
      "left": null,
      "margin": null,
      "max_height": null,
      "max_width": null,
      "min_height": null,
      "min_width": null,
      "object_fit": null,
      "object_position": null,
      "order": null,
      "overflow": null,
      "overflow_x": null,
      "overflow_y": null,
      "padding": null,
      "right": null,
      "top": null,
      "visibility": "hidden",
      "width": null
     }
    },
    "3656a5c1b5024310aca187dfad556add": {
     "model_module": "@jupyter-widgets/controls",
     "model_module_version": "1.5.0",
     "model_name": "FloatProgressModel",
     "state": {
      "_dom_classes": [],
      "_model_module": "@jupyter-widgets/controls",
      "_model_module_version": "1.5.0",
      "_model_name": "FloatProgressModel",
      "_view_count": null,
      "_view_module": "@jupyter-widgets/controls",
      "_view_module_version": "1.5.0",
      "_view_name": "ProgressView",
      "bar_style": "",
      "description": "",
      "description_tooltip": null,
      "layout": "IPY_MODEL_795484939420440bb53f4ff4c5df2fd9",
      "max": 5994,
      "min": 0,
      "orientation": "horizontal",
      "style": "IPY_MODEL_f7bcb9c184c64dc6baf7ca005ac8e7c2",
      "value": 5994
     }
    },
    "39600efd679644a78efab006fc7d0b37": {
     "model_module": "@jupyter-widgets/controls",
     "model_module_version": "1.5.0",
     "model_name": "HTMLModel",
     "state": {
      "_dom_classes": [],
      "_model_module": "@jupyter-widgets/controls",
      "_model_module_version": "1.5.0",
      "_model_name": "HTMLModel",
      "_view_count": null,
      "_view_module": "@jupyter-widgets/controls",
      "_view_module_version": "1.5.0",
      "_view_name": "HTMLView",
      "description": "",
      "description_tooltip": null,
      "layout": "IPY_MODEL_94a6cd0aa995499a94321d6b2bcb55be",
      "placeholder": "​",
      "style": "IPY_MODEL_811b623c23154e828ee5800eeb9c4c99",
      "value": " 5994/5994 [00:01&lt;00:00, 6079.81 examples/s]"
     }
    },
    "398bd57d1521497fada0887183d3757e": {
     "model_module": "@jupyter-widgets/controls",
     "model_module_version": "1.5.0",
     "model_name": "DescriptionStyleModel",
     "state": {
      "_model_module": "@jupyter-widgets/controls",
      "_model_module_version": "1.5.0",
      "_model_name": "DescriptionStyleModel",
      "_view_count": null,
      "_view_module": "@jupyter-widgets/base",
      "_view_module_version": "1.2.0",
      "_view_name": "StyleView",
      "description_width": ""
     }
    },
    "3b2b2cf1fecf4376bee2a9ef82db93db": {
     "model_module": "@jupyter-widgets/base",
     "model_module_version": "1.2.0",
     "model_name": "LayoutModel",
     "state": {
      "_model_module": "@jupyter-widgets/base",
      "_model_module_version": "1.2.0",
      "_model_name": "LayoutModel",
      "_view_count": null,
      "_view_module": "@jupyter-widgets/base",
      "_view_module_version": "1.2.0",
      "_view_name": "LayoutView",
      "align_content": null,
      "align_items": null,
      "align_self": null,
      "border": null,
      "bottom": null,
      "display": null,
      "flex": null,
      "flex_flow": null,
      "grid_area": null,
      "grid_auto_columns": null,
      "grid_auto_flow": null,
      "grid_auto_rows": null,
      "grid_column": null,
      "grid_gap": null,
      "grid_row": null,
      "grid_template_areas": null,
      "grid_template_columns": null,
      "grid_template_rows": null,
      "height": null,
      "justify_content": null,
      "justify_items": null,
      "left": null,
      "margin": null,
      "max_height": null,
      "max_width": null,
      "min_height": null,
      "min_width": null,
      "object_fit": null,
      "object_position": null,
      "order": null,
      "overflow": null,
      "overflow_x": null,
      "overflow_y": null,
      "padding": null,
      "right": null,
      "top": null,
      "visibility": null,
      "width": null
     }
    },
    "3e2e20d9a2a4435298edd2baf230fdfe": {
     "model_module": "@jupyter-widgets/controls",
     "model_module_version": "1.5.0",
     "model_name": "ProgressStyleModel",
     "state": {
      "_model_module": "@jupyter-widgets/controls",
      "_model_module_version": "1.5.0",
      "_model_name": "ProgressStyleModel",
      "_view_count": null,
      "_view_module": "@jupyter-widgets/base",
      "_view_module_version": "1.2.0",
      "_view_name": "StyleView",
      "bar_color": null,
      "description_width": ""
     }
    },
    "447fb46e5a3348b1866938ce6b1c9520": {
     "model_module": "@jupyter-widgets/controls",
     "model_module_version": "1.5.0",
     "model_name": "HTMLModel",
     "state": {
      "_dom_classes": [],
      "_model_module": "@jupyter-widgets/controls",
      "_model_module_version": "1.5.0",
      "_model_name": "HTMLModel",
      "_view_count": null,
      "_view_module": "@jupyter-widgets/controls",
      "_view_module_version": "1.5.0",
      "_view_name": "HTMLView",
      "description": "",
      "description_tooltip": null,
      "layout": "IPY_MODEL_7b0bf06e16f844da9405b2666b1cd38d",
      "placeholder": "​",
      "style": "IPY_MODEL_8c3b29c24a3741d7b6ff63baa23949ef",
      "value": " 481/481 [00:00&lt;00:00, 36.8kB/s]"
     }
    },
    "448691a97149440bbbab5387bd1ccd0c": {
     "model_module": "@jupyter-widgets/controls",
     "model_module_version": "1.5.0",
     "model_name": "HTMLModel",
     "state": {
      "_dom_classes": [],
      "_model_module": "@jupyter-widgets/controls",
      "_model_module_version": "1.5.0",
      "_model_name": "HTMLModel",
      "_view_count": null,
      "_view_module": "@jupyter-widgets/controls",
      "_view_module_version": "1.5.0",
      "_view_name": "HTMLView",
      "description": "",
      "description_tooltip": null,
      "layout": "IPY_MODEL_de7d8d599c9b4d0d88d0759ee68e1d3f",
      "placeholder": "​",
      "style": "IPY_MODEL_ec745982656148c6839fa6d41f41a2a7",
      "value": "Map: 100%"
     }
    },
    "4c65447313c84ce7bb5e0aa811b229b2": {
     "model_module": "@jupyter-widgets/controls",
     "model_module_version": "1.5.0",
     "model_name": "HTMLModel",
     "state": {
      "_dom_classes": [],
      "_model_module": "@jupyter-widgets/controls",
      "_model_module_version": "1.5.0",
      "_model_name": "HTMLModel",
      "_view_count": null,
      "_view_module": "@jupyter-widgets/controls",
      "_view_module_version": "1.5.0",
      "_view_name": "HTMLView",
      "description": "",
      "description_tooltip": null,
      "layout": "IPY_MODEL_818142e0233d48d3ad0438c6ca966560",
      "placeholder": "​",
      "style": "IPY_MODEL_5e3ba11363fd412a9d495773d760b2f3",
      "value": "Downloading (…)olve/main/merges.txt: 100%"
     }
    },
    "4e04100717a04375a57a204d669c0f26": {
     "model_module": "@jupyter-widgets/controls",
     "model_module_version": "1.5.0",
     "model_name": "HTMLModel",
     "state": {
      "_dom_classes": [],
      "_model_module": "@jupyter-widgets/controls",
      "_model_module_version": "1.5.0",
      "_model_name": "HTMLModel",
      "_view_count": null,
      "_view_module": "@jupyter-widgets/controls",
      "_view_module_version": "1.5.0",
      "_view_name": "HTMLView",
      "description": "",
      "description_tooltip": null,
      "layout": "IPY_MODEL_a567142b11444889b3087134d6875ab3",
      "placeholder": "​",
      "style": "IPY_MODEL_4fc81ca7547d42ecbf5bc95259b683eb",
      "value": "Downloading (…)/main/tokenizer.json: 100%"
     }
    },
    "4f5559150967477ba209f57b9de6d1df": {
     "model_module": "@jupyter-widgets/controls",
     "model_module_version": "1.5.0",
     "model_name": "FloatProgressModel",
     "state": {
      "_dom_classes": [],
      "_model_module": "@jupyter-widgets/controls",
      "_model_module_version": "1.5.0",
      "_model_name": "FloatProgressModel",
      "_view_count": null,
      "_view_module": "@jupyter-widgets/controls",
      "_view_module_version": "1.5.0",
      "_view_name": "ProgressView",
      "bar_style": "success",
      "description": "",
      "description_tooltip": null,
      "layout": "IPY_MODEL_ce4a3dcf4eb34cf7ab245e4ed862cd7c",
      "max": 898823,
      "min": 0,
      "orientation": "horizontal",
      "style": "IPY_MODEL_3e2e20d9a2a4435298edd2baf230fdfe",
      "value": 898823
     }
    },
    "4fc81ca7547d42ecbf5bc95259b683eb": {
     "model_module": "@jupyter-widgets/controls",
     "model_module_version": "1.5.0",
     "model_name": "DescriptionStyleModel",
     "state": {
      "_model_module": "@jupyter-widgets/controls",
      "_model_module_version": "1.5.0",
      "_model_name": "DescriptionStyleModel",
      "_view_count": null,
      "_view_module": "@jupyter-widgets/base",
      "_view_module_version": "1.2.0",
      "_view_name": "StyleView",
      "description_width": ""
     }
    },
    "51e1b5000cfc433b8e2afc021bbc8f8c": {
     "model_module": "@jupyter-widgets/base",
     "model_module_version": "1.2.0",
     "model_name": "LayoutModel",
     "state": {
      "_model_module": "@jupyter-widgets/base",
      "_model_module_version": "1.2.0",
      "_model_name": "LayoutModel",
      "_view_count": null,
      "_view_module": "@jupyter-widgets/base",
      "_view_module_version": "1.2.0",
      "_view_name": "LayoutView",
      "align_content": null,
      "align_items": null,
      "align_self": null,
      "border": null,
      "bottom": null,
      "display": null,
      "flex": null,
      "flex_flow": null,
      "grid_area": null,
      "grid_auto_columns": null,
      "grid_auto_flow": null,
      "grid_auto_rows": null,
      "grid_column": null,
      "grid_gap": null,
      "grid_row": null,
      "grid_template_areas": null,
      "grid_template_columns": null,
      "grid_template_rows": null,
      "height": null,
      "justify_content": null,
      "justify_items": null,
      "left": null,
      "margin": null,
      "max_height": null,
      "max_width": null,
      "min_height": null,
      "min_width": null,
      "object_fit": null,
      "object_position": null,
      "order": null,
      "overflow": null,
      "overflow_x": null,
      "overflow_y": null,
      "padding": null,
      "right": null,
      "top": null,
      "visibility": null,
      "width": null
     }
    },
    "54d79ad7106944838de47f8a9d1c599e": {
     "model_module": "@jupyter-widgets/controls",
     "model_module_version": "1.5.0",
     "model_name": "FloatProgressModel",
     "state": {
      "_dom_classes": [],
      "_model_module": "@jupyter-widgets/controls",
      "_model_module_version": "1.5.0",
      "_model_name": "FloatProgressModel",
      "_view_count": null,
      "_view_module": "@jupyter-widgets/controls",
      "_view_module_version": "1.5.0",
      "_view_name": "ProgressView",
      "bar_style": "success",
      "description": "",
      "description_tooltip": null,
      "layout": "IPY_MODEL_f19565ee4c404a70a81eba0d30c36a4d",
      "max": 1355863,
      "min": 0,
      "orientation": "horizontal",
      "style": "IPY_MODEL_b39807cb9cdc4750a51598a2063f8702",
      "value": 1355863
     }
    },
    "59bc4c1c995c498aad75da34c28d9246": {
     "model_module": "@jupyter-widgets/controls",
     "model_module_version": "1.5.0",
     "model_name": "HTMLModel",
     "state": {
      "_dom_classes": [],
      "_model_module": "@jupyter-widgets/controls",
      "_model_module_version": "1.5.0",
      "_model_name": "HTMLModel",
      "_view_count": null,
      "_view_module": "@jupyter-widgets/controls",
      "_view_module_version": "1.5.0",
      "_view_name": "HTMLView",
      "description": "",
      "description_tooltip": null,
      "layout": "IPY_MODEL_bb3cd200ac644d278908af63fdfe5f6c",
      "placeholder": "​",
      "style": "IPY_MODEL_1de64ee7318a4ce79a2f42c31fa2eadc",
      "value": "Downloading pytorch_model.bin: 100%"
     }
    },
    "59eccdeed777466184b56a18ce0c0807": {
     "model_module": "@jupyter-widgets/controls",
     "model_module_version": "1.5.0",
     "model_name": "FloatProgressModel",
     "state": {
      "_dom_classes": [],
      "_model_module": "@jupyter-widgets/controls",
      "_model_module_version": "1.5.0",
      "_model_name": "FloatProgressModel",
      "_view_count": null,
      "_view_module": "@jupyter-widgets/controls",
      "_view_module_version": "1.5.0",
      "_view_name": "ProgressView",
      "bar_style": "",
      "description": "",
      "description_tooltip": null,
      "layout": "IPY_MODEL_bf29f532a6164777817b634d939a1ab0",
      "max": 1998,
      "min": 0,
      "orientation": "horizontal",
      "style": "IPY_MODEL_f257da3d6cf44897ac5e70a1b0374cc3",
      "value": 1998
     }
    },
    "5b4a849c2a2b4bcfad2076965dc7fc69": {
     "model_module": "@jupyter-widgets/controls",
     "model_module_version": "1.5.0",
     "model_name": "FloatProgressModel",
     "state": {
      "_dom_classes": [],
      "_model_module": "@jupyter-widgets/controls",
      "_model_module_version": "1.5.0",
      "_model_name": "FloatProgressModel",
      "_view_count": null,
      "_view_module": "@jupyter-widgets/controls",
      "_view_module_version": "1.5.0",
      "_view_name": "ProgressView",
      "bar_style": "success",
      "description": "",
      "description_tooltip": null,
      "layout": "IPY_MODEL_b65dcbe803a2431dbd7292223d83a30d",
      "max": 481,
      "min": 0,
      "orientation": "horizontal",
      "style": "IPY_MODEL_b1a5045738504f1f96b13a68e56f4967",
      "value": 481
     }
    },
    "5b9c328731f5444baa7e31817d033534": {
     "model_module": "@jupyter-widgets/controls",
     "model_module_version": "1.5.0",
     "model_name": "HBoxModel",
     "state": {
      "_dom_classes": [],
      "_model_module": "@jupyter-widgets/controls",
      "_model_module_version": "1.5.0",
      "_model_name": "HBoxModel",
      "_view_count": null,
      "_view_module": "@jupyter-widgets/controls",
      "_view_module_version": "1.5.0",
      "_view_name": "HBoxView",
      "box_style": "",
      "children": [
       "IPY_MODEL_4e04100717a04375a57a204d669c0f26",
       "IPY_MODEL_54d79ad7106944838de47f8a9d1c599e",
       "IPY_MODEL_0cc05b4d73ad4bb282b82af741b604e9"
      ],
      "layout": "IPY_MODEL_bd3c267dd9f740a1887fd7df2b951409"
     }
    },
    "5e3ba11363fd412a9d495773d760b2f3": {
     "model_module": "@jupyter-widgets/controls",
     "model_module_version": "1.5.0",
     "model_name": "DescriptionStyleModel",
     "state": {
      "_model_module": "@jupyter-widgets/controls",
      "_model_module_version": "1.5.0",
      "_model_name": "DescriptionStyleModel",
      "_view_count": null,
      "_view_module": "@jupyter-widgets/base",
      "_view_module_version": "1.2.0",
      "_view_name": "StyleView",
      "description_width": ""
     }
    },
    "620a34de230f4241aac987fa3d147ffb": {
     "model_module": "@jupyter-widgets/controls",
     "model_module_version": "1.5.0",
     "model_name": "HTMLModel",
     "state": {
      "_dom_classes": [],
      "_model_module": "@jupyter-widgets/controls",
      "_model_module_version": "1.5.0",
      "_model_name": "HTMLModel",
      "_view_count": null,
      "_view_module": "@jupyter-widgets/controls",
      "_view_module_version": "1.5.0",
      "_view_name": "HTMLView",
      "description": "",
      "description_tooltip": null,
      "layout": "IPY_MODEL_ff795f9d32614d8e8029aaeaeb1c6581",
      "placeholder": "​",
      "style": "IPY_MODEL_c1c58ab029ea441cbb4db85c331bd832",
      "value": " 1998/1998 [00:00&lt;00:00, 6150.28 examples/s]"
     }
    },
    "6bd632b29af740b58e7eb0bcffe9e56c": {
     "model_module": "@jupyter-widgets/base",
     "model_module_version": "1.2.0",
     "model_name": "LayoutModel",
     "state": {
      "_model_module": "@jupyter-widgets/base",
      "_model_module_version": "1.2.0",
      "_model_name": "LayoutModel",
      "_view_count": null,
      "_view_module": "@jupyter-widgets/base",
      "_view_module_version": "1.2.0",
      "_view_name": "LayoutView",
      "align_content": null,
      "align_items": null,
      "align_self": null,
      "border": null,
      "bottom": null,
      "display": null,
      "flex": null,
      "flex_flow": null,
      "grid_area": null,
      "grid_auto_columns": null,
      "grid_auto_flow": null,
      "grid_auto_rows": null,
      "grid_column": null,
      "grid_gap": null,
      "grid_row": null,
      "grid_template_areas": null,
      "grid_template_columns": null,
      "grid_template_rows": null,
      "height": null,
      "justify_content": null,
      "justify_items": null,
      "left": null,
      "margin": null,
      "max_height": null,
      "max_width": null,
      "min_height": null,
      "min_width": null,
      "object_fit": null,
      "object_position": null,
      "order": null,
      "overflow": null,
      "overflow_x": null,
      "overflow_y": null,
      "padding": null,
      "right": null,
      "top": null,
      "visibility": "hidden",
      "width": null
     }
    },
    "6c4e1c96829c4dfda411ea29939dbceb": {
     "model_module": "@jupyter-widgets/controls",
     "model_module_version": "1.5.0",
     "model_name": "DescriptionStyleModel",
     "state": {
      "_model_module": "@jupyter-widgets/controls",
      "_model_module_version": "1.5.0",
      "_model_name": "DescriptionStyleModel",
      "_view_count": null,
      "_view_module": "@jupyter-widgets/base",
      "_view_module_version": "1.2.0",
      "_view_name": "StyleView",
      "description_width": ""
     }
    },
    "6d8c8d2080104339bc1dab4d994297f1": {
     "model_module": "@jupyter-widgets/base",
     "model_module_version": "1.2.0",
     "model_name": "LayoutModel",
     "state": {
      "_model_module": "@jupyter-widgets/base",
      "_model_module_version": "1.2.0",
      "_model_name": "LayoutModel",
      "_view_count": null,
      "_view_module": "@jupyter-widgets/base",
      "_view_module_version": "1.2.0",
      "_view_name": "LayoutView",
      "align_content": null,
      "align_items": null,
      "align_self": null,
      "border": null,
      "bottom": null,
      "display": null,
      "flex": null,
      "flex_flow": null,
      "grid_area": null,
      "grid_auto_columns": null,
      "grid_auto_flow": null,
      "grid_auto_rows": null,
      "grid_column": null,
      "grid_gap": null,
      "grid_row": null,
      "grid_template_areas": null,
      "grid_template_columns": null,
      "grid_template_rows": null,
      "height": null,
      "justify_content": null,
      "justify_items": null,
      "left": null,
      "margin": null,
      "max_height": null,
      "max_width": null,
      "min_height": null,
      "min_width": null,
      "object_fit": null,
      "object_position": null,
      "order": null,
      "overflow": null,
      "overflow_x": null,
      "overflow_y": null,
      "padding": null,
      "right": null,
      "top": null,
      "visibility": null,
      "width": null
     }
    },
    "6f63c173cb1a4d0695a68b9e9224f626": {
     "model_module": "@jupyter-widgets/controls",
     "model_module_version": "1.5.0",
     "model_name": "HTMLModel",
     "state": {
      "_dom_classes": [],
      "_model_module": "@jupyter-widgets/controls",
      "_model_module_version": "1.5.0",
      "_model_name": "HTMLModel",
      "_view_count": null,
      "_view_module": "@jupyter-widgets/controls",
      "_view_module_version": "1.5.0",
      "_view_name": "HTMLView",
      "description": "",
      "description_tooltip": null,
      "layout": "IPY_MODEL_778049aa07144b32b38fb5edcc0f2931",
      "placeholder": "​",
      "style": "IPY_MODEL_ec2b60304de342b68242ab299d6901bb",
      "value": " 899k/899k [00:01&lt;00:00, 740kB/s]"
     }
    },
    "722b9da6334b4535b4dca05e64f363bc": {
     "model_module": "@jupyter-widgets/base",
     "model_module_version": "1.2.0",
     "model_name": "LayoutModel",
     "state": {
      "_model_module": "@jupyter-widgets/base",
      "_model_module_version": "1.2.0",
      "_model_name": "LayoutModel",
      "_view_count": null,
      "_view_module": "@jupyter-widgets/base",
      "_view_module_version": "1.2.0",
      "_view_name": "LayoutView",
      "align_content": null,
      "align_items": null,
      "align_self": null,
      "border": null,
      "bottom": null,
      "display": null,
      "flex": null,
      "flex_flow": null,
      "grid_area": null,
      "grid_auto_columns": null,
      "grid_auto_flow": null,
      "grid_auto_rows": null,
      "grid_column": null,
      "grid_gap": null,
      "grid_row": null,
      "grid_template_areas": null,
      "grid_template_columns": null,
      "grid_template_rows": null,
      "height": null,
      "justify_content": null,
      "justify_items": null,
      "left": null,
      "margin": null,
      "max_height": null,
      "max_width": null,
      "min_height": null,
      "min_width": null,
      "object_fit": null,
      "object_position": null,
      "order": null,
      "overflow": null,
      "overflow_x": null,
      "overflow_y": null,
      "padding": null,
      "right": null,
      "top": null,
      "visibility": null,
      "width": null
     }
    },
    "73d437b36e644c2c89afb0e53e156ede": {
     "model_module": "@jupyter-widgets/controls",
     "model_module_version": "1.5.0",
     "model_name": "ProgressStyleModel",
     "state": {
      "_model_module": "@jupyter-widgets/controls",
      "_model_module_version": "1.5.0",
      "_model_name": "ProgressStyleModel",
      "_view_count": null,
      "_view_module": "@jupyter-widgets/base",
      "_view_module_version": "1.2.0",
      "_view_name": "StyleView",
      "bar_color": null,
      "description_width": ""
     }
    },
    "7516577a3baf43cd9dd4c71f9fd2017e": {
     "model_module": "@jupyter-widgets/base",
     "model_module_version": "1.2.0",
     "model_name": "LayoutModel",
     "state": {
      "_model_module": "@jupyter-widgets/base",
      "_model_module_version": "1.2.0",
      "_model_name": "LayoutModel",
      "_view_count": null,
      "_view_module": "@jupyter-widgets/base",
      "_view_module_version": "1.2.0",
      "_view_name": "LayoutView",
      "align_content": null,
      "align_items": null,
      "align_self": null,
      "border": null,
      "bottom": null,
      "display": null,
      "flex": null,
      "flex_flow": null,
      "grid_area": null,
      "grid_auto_columns": null,
      "grid_auto_flow": null,
      "grid_auto_rows": null,
      "grid_column": null,
      "grid_gap": null,
      "grid_row": null,
      "grid_template_areas": null,
      "grid_template_columns": null,
      "grid_template_rows": null,
      "height": null,
      "justify_content": null,
      "justify_items": null,
      "left": null,
      "margin": null,
      "max_height": null,
      "max_width": null,
      "min_height": null,
      "min_width": null,
      "object_fit": null,
      "object_position": null,
      "order": null,
      "overflow": null,
      "overflow_x": null,
      "overflow_y": null,
      "padding": null,
      "right": null,
      "top": null,
      "visibility": null,
      "width": null
     }
    },
    "7522d1c2a71342d2bc45d3cfb17b2a6c": {
     "model_module": "@jupyter-widgets/controls",
     "model_module_version": "1.5.0",
     "model_name": "FloatProgressModel",
     "state": {
      "_dom_classes": [],
      "_model_module": "@jupyter-widgets/controls",
      "_model_module_version": "1.5.0",
      "_model_name": "FloatProgressModel",
      "_view_count": null,
      "_view_module": "@jupyter-widgets/controls",
      "_view_module_version": "1.5.0",
      "_view_name": "ProgressView",
      "bar_style": "success",
      "description": "",
      "description_tooltip": null,
      "layout": "IPY_MODEL_0e408b8a6a2d410f859b96e5178192bb",
      "max": 501200538,
      "min": 0,
      "orientation": "horizontal",
      "style": "IPY_MODEL_0b283b4447e04d948e1ecdb591fdcbea",
      "value": 501200538
     }
    },
    "75cb08ae94de49109da0dbfebc3236e4": {
     "model_module": "@jupyter-widgets/controls",
     "model_module_version": "1.5.0",
     "model_name": "HBoxModel",
     "state": {
      "_dom_classes": [],
      "_model_module": "@jupyter-widgets/controls",
      "_model_module_version": "1.5.0",
      "_model_name": "HBoxModel",
      "_view_count": null,
      "_view_module": "@jupyter-widgets/controls",
      "_view_module_version": "1.5.0",
      "_view_name": "HBoxView",
      "box_style": "",
      "children": [
       "IPY_MODEL_59bc4c1c995c498aad75da34c28d9246",
       "IPY_MODEL_7522d1c2a71342d2bc45d3cfb17b2a6c",
       "IPY_MODEL_b14ce7b7df944f51913cde882913d386"
      ],
      "layout": "IPY_MODEL_51e1b5000cfc433b8e2afc021bbc8f8c"
     }
    },
    "778049aa07144b32b38fb5edcc0f2931": {
     "model_module": "@jupyter-widgets/base",
     "model_module_version": "1.2.0",
     "model_name": "LayoutModel",
     "state": {
      "_model_module": "@jupyter-widgets/base",
      "_model_module_version": "1.2.0",
      "_model_name": "LayoutModel",
      "_view_count": null,
      "_view_module": "@jupyter-widgets/base",
      "_view_module_version": "1.2.0",
      "_view_name": "LayoutView",
      "align_content": null,
      "align_items": null,
      "align_self": null,
      "border": null,
      "bottom": null,
      "display": null,
      "flex": null,
      "flex_flow": null,
      "grid_area": null,
      "grid_auto_columns": null,
      "grid_auto_flow": null,
      "grid_auto_rows": null,
      "grid_column": null,
      "grid_gap": null,
      "grid_row": null,
      "grid_template_areas": null,
      "grid_template_columns": null,
      "grid_template_rows": null,
      "height": null,
      "justify_content": null,
      "justify_items": null,
      "left": null,
      "margin": null,
      "max_height": null,
      "max_width": null,
      "min_height": null,
      "min_width": null,
      "object_fit": null,
      "object_position": null,
      "order": null,
      "overflow": null,
      "overflow_x": null,
      "overflow_y": null,
      "padding": null,
      "right": null,
      "top": null,
      "visibility": null,
      "width": null
     }
    },
    "795484939420440bb53f4ff4c5df2fd9": {
     "model_module": "@jupyter-widgets/base",
     "model_module_version": "1.2.0",
     "model_name": "LayoutModel",
     "state": {
      "_model_module": "@jupyter-widgets/base",
      "_model_module_version": "1.2.0",
      "_model_name": "LayoutModel",
      "_view_count": null,
      "_view_module": "@jupyter-widgets/base",
      "_view_module_version": "1.2.0",
      "_view_name": "LayoutView",
      "align_content": null,
      "align_items": null,
      "align_self": null,
      "border": null,
      "bottom": null,
      "display": null,
      "flex": null,
      "flex_flow": null,
      "grid_area": null,
      "grid_auto_columns": null,
      "grid_auto_flow": null,
      "grid_auto_rows": null,
      "grid_column": null,
      "grid_gap": null,
      "grid_row": null,
      "grid_template_areas": null,
      "grid_template_columns": null,
      "grid_template_rows": null,
      "height": null,
      "justify_content": null,
      "justify_items": null,
      "left": null,
      "margin": null,
      "max_height": null,
      "max_width": null,
      "min_height": null,
      "min_width": null,
      "object_fit": null,
      "object_position": null,
      "order": null,
      "overflow": null,
      "overflow_x": null,
      "overflow_y": null,
      "padding": null,
      "right": null,
      "top": null,
      "visibility": null,
      "width": null
     }
    },
    "7b0bf06e16f844da9405b2666b1cd38d": {
     "model_module": "@jupyter-widgets/base",
     "model_module_version": "1.2.0",
     "model_name": "LayoutModel",
     "state": {
      "_model_module": "@jupyter-widgets/base",
      "_model_module_version": "1.2.0",
      "_model_name": "LayoutModel",
      "_view_count": null,
      "_view_module": "@jupyter-widgets/base",
      "_view_module_version": "1.2.0",
      "_view_name": "LayoutView",
      "align_content": null,
      "align_items": null,
      "align_self": null,
      "border": null,
      "bottom": null,
      "display": null,
      "flex": null,
      "flex_flow": null,
      "grid_area": null,
      "grid_auto_columns": null,
      "grid_auto_flow": null,
      "grid_auto_rows": null,
      "grid_column": null,
      "grid_gap": null,
      "grid_row": null,
      "grid_template_areas": null,
      "grid_template_columns": null,
      "grid_template_rows": null,
      "height": null,
      "justify_content": null,
      "justify_items": null,
      "left": null,
      "margin": null,
      "max_height": null,
      "max_width": null,
      "min_height": null,
      "min_width": null,
      "object_fit": null,
      "object_position": null,
      "order": null,
      "overflow": null,
      "overflow_x": null,
      "overflow_y": null,
      "padding": null,
      "right": null,
      "top": null,
      "visibility": null,
      "width": null
     }
    },
    "7ef9cf29ef0b4bc39823b2c480e18652": {
     "model_module": "@jupyter-widgets/controls",
     "model_module_version": "1.5.0",
     "model_name": "FloatProgressModel",
     "state": {
      "_dom_classes": [],
      "_model_module": "@jupyter-widgets/controls",
      "_model_module_version": "1.5.0",
      "_model_name": "FloatProgressModel",
      "_view_count": null,
      "_view_module": "@jupyter-widgets/controls",
      "_view_module_version": "1.5.0",
      "_view_name": "ProgressView",
      "bar_style": "",
      "description": "",
      "description_tooltip": null,
      "layout": "IPY_MODEL_722b9da6334b4535b4dca05e64f363bc",
      "max": 1998,
      "min": 0,
      "orientation": "horizontal",
      "style": "IPY_MODEL_73d437b36e644c2c89afb0e53e156ede",
      "value": 1998
     }
    },
    "811b623c23154e828ee5800eeb9c4c99": {
     "model_module": "@jupyter-widgets/controls",
     "model_module_version": "1.5.0",
     "model_name": "DescriptionStyleModel",
     "state": {
      "_model_module": "@jupyter-widgets/controls",
      "_model_module_version": "1.5.0",
      "_model_name": "DescriptionStyleModel",
      "_view_count": null,
      "_view_module": "@jupyter-widgets/base",
      "_view_module_version": "1.2.0",
      "_view_name": "StyleView",
      "description_width": ""
     }
    },
    "818142e0233d48d3ad0438c6ca966560": {
     "model_module": "@jupyter-widgets/base",
     "model_module_version": "1.2.0",
     "model_name": "LayoutModel",
     "state": {
      "_model_module": "@jupyter-widgets/base",
      "_model_module_version": "1.2.0",
      "_model_name": "LayoutModel",
      "_view_count": null,
      "_view_module": "@jupyter-widgets/base",
      "_view_module_version": "1.2.0",
      "_view_name": "LayoutView",
      "align_content": null,
      "align_items": null,
      "align_self": null,
      "border": null,
      "bottom": null,
      "display": null,
      "flex": null,
      "flex_flow": null,
      "grid_area": null,
      "grid_auto_columns": null,
      "grid_auto_flow": null,
      "grid_auto_rows": null,
      "grid_column": null,
      "grid_gap": null,
      "grid_row": null,
      "grid_template_areas": null,
      "grid_template_columns": null,
      "grid_template_rows": null,
      "height": null,
      "justify_content": null,
      "justify_items": null,
      "left": null,
      "margin": null,
      "max_height": null,
      "max_width": null,
      "min_height": null,
      "min_width": null,
      "object_fit": null,
      "object_position": null,
      "order": null,
      "overflow": null,
      "overflow_x": null,
      "overflow_y": null,
      "padding": null,
      "right": null,
      "top": null,
      "visibility": null,
      "width": null
     }
    },
    "81a718a99ccf431191aaf34140819be4": {
     "model_module": "@jupyter-widgets/controls",
     "model_module_version": "1.5.0",
     "model_name": "HBoxModel",
     "state": {
      "_dom_classes": [],
      "_model_module": "@jupyter-widgets/controls",
      "_model_module_version": "1.5.0",
      "_model_name": "HBoxModel",
      "_view_count": null,
      "_view_module": "@jupyter-widgets/controls",
      "_view_module_version": "1.5.0",
      "_view_name": "HBoxView",
      "box_style": "",
      "children": [
       "IPY_MODEL_99e7dda43cc942809b96b04281a88e11",
       "IPY_MODEL_5b4a849c2a2b4bcfad2076965dc7fc69",
       "IPY_MODEL_447fb46e5a3348b1866938ce6b1c9520"
      ],
      "layout": "IPY_MODEL_6d8c8d2080104339bc1dab4d994297f1"
     }
    },
    "886415e2959340ec9a0215624d9d9390": {
     "model_module": "@jupyter-widgets/base",
     "model_module_version": "1.2.0",
     "model_name": "LayoutModel",
     "state": {
      "_model_module": "@jupyter-widgets/base",
      "_model_module_version": "1.2.0",
      "_model_name": "LayoutModel",
      "_view_count": null,
      "_view_module": "@jupyter-widgets/base",
      "_view_module_version": "1.2.0",
      "_view_name": "LayoutView",
      "align_content": null,
      "align_items": null,
      "align_self": null,
      "border": null,
      "bottom": null,
      "display": null,
      "flex": null,
      "flex_flow": null,
      "grid_area": null,
      "grid_auto_columns": null,
      "grid_auto_flow": null,
      "grid_auto_rows": null,
      "grid_column": null,
      "grid_gap": null,
      "grid_row": null,
      "grid_template_areas": null,
      "grid_template_columns": null,
      "grid_template_rows": null,
      "height": null,
      "justify_content": null,
      "justify_items": null,
      "left": null,
      "margin": null,
      "max_height": null,
      "max_width": null,
      "min_height": null,
      "min_width": null,
      "object_fit": null,
      "object_position": null,
      "order": null,
      "overflow": null,
      "overflow_x": null,
      "overflow_y": null,
      "padding": null,
      "right": null,
      "top": null,
      "visibility": "hidden",
      "width": null
     }
    },
    "8b5ef9b6aab34c69aff9ef0627ad3573": {
     "model_module": "@jupyter-widgets/controls",
     "model_module_version": "1.5.0",
     "model_name": "FloatProgressModel",
     "state": {
      "_dom_classes": [],
      "_model_module": "@jupyter-widgets/controls",
      "_model_module_version": "1.5.0",
      "_model_name": "FloatProgressModel",
      "_view_count": null,
      "_view_module": "@jupyter-widgets/controls",
      "_view_module_version": "1.5.0",
      "_view_name": "ProgressView",
      "bar_style": "success",
      "description": "",
      "description_tooltip": null,
      "layout": "IPY_MODEL_ab1af4baa9184dc3afa9c2c7455d20af",
      "max": 456318,
      "min": 0,
      "orientation": "horizontal",
      "style": "IPY_MODEL_1cec0c8c98464ab3b69088f2851380e9",
      "value": 456318
     }
    },
    "8c3b29c24a3741d7b6ff63baa23949ef": {
     "model_module": "@jupyter-widgets/controls",
     "model_module_version": "1.5.0",
     "model_name": "DescriptionStyleModel",
     "state": {
      "_model_module": "@jupyter-widgets/controls",
      "_model_module_version": "1.5.0",
      "_model_name": "DescriptionStyleModel",
      "_view_count": null,
      "_view_module": "@jupyter-widgets/base",
      "_view_module_version": "1.2.0",
      "_view_name": "StyleView",
      "description_width": ""
     }
    },
    "942ce6fa474a4a32b6f90197d3b44f25": {
     "model_module": "@jupyter-widgets/base",
     "model_module_version": "1.2.0",
     "model_name": "LayoutModel",
     "state": {
      "_model_module": "@jupyter-widgets/base",
      "_model_module_version": "1.2.0",
      "_model_name": "LayoutModel",
      "_view_count": null,
      "_view_module": "@jupyter-widgets/base",
      "_view_module_version": "1.2.0",
      "_view_name": "LayoutView",
      "align_content": null,
      "align_items": null,
      "align_self": null,
      "border": null,
      "bottom": null,
      "display": null,
      "flex": null,
      "flex_flow": null,
      "grid_area": null,
      "grid_auto_columns": null,
      "grid_auto_flow": null,
      "grid_auto_rows": null,
      "grid_column": null,
      "grid_gap": null,
      "grid_row": null,
      "grid_template_areas": null,
      "grid_template_columns": null,
      "grid_template_rows": null,
      "height": null,
      "justify_content": null,
      "justify_items": null,
      "left": null,
      "margin": null,
      "max_height": null,
      "max_width": null,
      "min_height": null,
      "min_width": null,
      "object_fit": null,
      "object_position": null,
      "order": null,
      "overflow": null,
      "overflow_x": null,
      "overflow_y": null,
      "padding": null,
      "right": null,
      "top": null,
      "visibility": null,
      "width": null
     }
    },
    "94a6cd0aa995499a94321d6b2bcb55be": {
     "model_module": "@jupyter-widgets/base",
     "model_module_version": "1.2.0",
     "model_name": "LayoutModel",
     "state": {
      "_model_module": "@jupyter-widgets/base",
      "_model_module_version": "1.2.0",
      "_model_name": "LayoutModel",
      "_view_count": null,
      "_view_module": "@jupyter-widgets/base",
      "_view_module_version": "1.2.0",
      "_view_name": "LayoutView",
      "align_content": null,
      "align_items": null,
      "align_self": null,
      "border": null,
      "bottom": null,
      "display": null,
      "flex": null,
      "flex_flow": null,
      "grid_area": null,
      "grid_auto_columns": null,
      "grid_auto_flow": null,
      "grid_auto_rows": null,
      "grid_column": null,
      "grid_gap": null,
      "grid_row": null,
      "grid_template_areas": null,
      "grid_template_columns": null,
      "grid_template_rows": null,
      "height": null,
      "justify_content": null,
      "justify_items": null,
      "left": null,
      "margin": null,
      "max_height": null,
      "max_width": null,
      "min_height": null,
      "min_width": null,
      "object_fit": null,
      "object_position": null,
      "order": null,
      "overflow": null,
      "overflow_x": null,
      "overflow_y": null,
      "padding": null,
      "right": null,
      "top": null,
      "visibility": null,
      "width": null
     }
    },
    "99e7dda43cc942809b96b04281a88e11": {
     "model_module": "@jupyter-widgets/controls",
     "model_module_version": "1.5.0",
     "model_name": "HTMLModel",
     "state": {
      "_dom_classes": [],
      "_model_module": "@jupyter-widgets/controls",
      "_model_module_version": "1.5.0",
      "_model_name": "HTMLModel",
      "_view_count": null,
      "_view_module": "@jupyter-widgets/controls",
      "_view_module_version": "1.5.0",
      "_view_name": "HTMLView",
      "description": "",
      "description_tooltip": null,
      "layout": "IPY_MODEL_a362a38348f54b438199cd30134ec8cc",
      "placeholder": "​",
      "style": "IPY_MODEL_f8e5dcf3a9cd4bb38de515b315c90b65",
      "value": "Downloading (…)lve/main/config.json: 100%"
     }
    },
    "9d7bffe464a94243ad388e9f68dfa2ae": {
     "model_module": "@jupyter-widgets/controls",
     "model_module_version": "1.5.0",
     "model_name": "HBoxModel",
     "state": {
      "_dom_classes": [],
      "_model_module": "@jupyter-widgets/controls",
      "_model_module_version": "1.5.0",
      "_model_name": "HBoxModel",
      "_view_count": null,
      "_view_module": "@jupyter-widgets/controls",
      "_view_module_version": "1.5.0",
      "_view_name": "HBoxView",
      "box_style": "",
      "children": [
       "IPY_MODEL_0465b88159dd4922b14c261a135fc557",
       "IPY_MODEL_7ef9cf29ef0b4bc39823b2c480e18652",
       "IPY_MODEL_620a34de230f4241aac987fa3d147ffb"
      ],
      "layout": "IPY_MODEL_2a486fcfab3745949d2c0e93108fa0bb"
     }
    },
    "a2bd8e066f5247c6982b8e46e8cf5f2b": {
     "model_module": "@jupyter-widgets/base",
     "model_module_version": "1.2.0",
     "model_name": "LayoutModel",
     "state": {
      "_model_module": "@jupyter-widgets/base",
      "_model_module_version": "1.2.0",
      "_model_name": "LayoutModel",
      "_view_count": null,
      "_view_module": "@jupyter-widgets/base",
      "_view_module_version": "1.2.0",
      "_view_name": "LayoutView",
      "align_content": null,
      "align_items": null,
      "align_self": null,
      "border": null,
      "bottom": null,
      "display": null,
      "flex": null,
      "flex_flow": null,
      "grid_area": null,
      "grid_auto_columns": null,
      "grid_auto_flow": null,
      "grid_auto_rows": null,
      "grid_column": null,
      "grid_gap": null,
      "grid_row": null,
      "grid_template_areas": null,
      "grid_template_columns": null,
      "grid_template_rows": null,
      "height": null,
      "justify_content": null,
      "justify_items": null,
      "left": null,
      "margin": null,
      "max_height": null,
      "max_width": null,
      "min_height": null,
      "min_width": null,
      "object_fit": null,
      "object_position": null,
      "order": null,
      "overflow": null,
      "overflow_x": null,
      "overflow_y": null,
      "padding": null,
      "right": null,
      "top": null,
      "visibility": null,
      "width": null
     }
    },
    "a362a38348f54b438199cd30134ec8cc": {
     "model_module": "@jupyter-widgets/base",
     "model_module_version": "1.2.0",
     "model_name": "LayoutModel",
     "state": {
      "_model_module": "@jupyter-widgets/base",
      "_model_module_version": "1.2.0",
      "_model_name": "LayoutModel",
      "_view_count": null,
      "_view_module": "@jupyter-widgets/base",
      "_view_module_version": "1.2.0",
      "_view_name": "LayoutView",
      "align_content": null,
      "align_items": null,
      "align_self": null,
      "border": null,
      "bottom": null,
      "display": null,
      "flex": null,
      "flex_flow": null,
      "grid_area": null,
      "grid_auto_columns": null,
      "grid_auto_flow": null,
      "grid_auto_rows": null,
      "grid_column": null,
      "grid_gap": null,
      "grid_row": null,
      "grid_template_areas": null,
      "grid_template_columns": null,
      "grid_template_rows": null,
      "height": null,
      "justify_content": null,
      "justify_items": null,
      "left": null,
      "margin": null,
      "max_height": null,
      "max_width": null,
      "min_height": null,
      "min_width": null,
      "object_fit": null,
      "object_position": null,
      "order": null,
      "overflow": null,
      "overflow_x": null,
      "overflow_y": null,
      "padding": null,
      "right": null,
      "top": null,
      "visibility": null,
      "width": null
     }
    },
    "a3921bd42c3341f4a613b571ca2614aa": {
     "model_module": "@jupyter-widgets/controls",
     "model_module_version": "1.5.0",
     "model_name": "HTMLModel",
     "state": {
      "_dom_classes": [],
      "_model_module": "@jupyter-widgets/controls",
      "_model_module_version": "1.5.0",
      "_model_name": "HTMLModel",
      "_view_count": null,
      "_view_module": "@jupyter-widgets/controls",
      "_view_module_version": "1.5.0",
      "_view_name": "HTMLView",
      "description": "",
      "description_tooltip": null,
      "layout": "IPY_MODEL_7516577a3baf43cd9dd4c71f9fd2017e",
      "placeholder": "​",
      "style": "IPY_MODEL_398bd57d1521497fada0887183d3757e",
      "value": "Downloading (…)olve/main/vocab.json: 100%"
     }
    },
    "a429223109874b908ebf619034a4807d": {
     "model_module": "@jupyter-widgets/controls",
     "model_module_version": "1.5.0",
     "model_name": "HTMLModel",
     "state": {
      "_dom_classes": [],
      "_model_module": "@jupyter-widgets/controls",
      "_model_module_version": "1.5.0",
      "_model_name": "HTMLModel",
      "_view_count": null,
      "_view_module": "@jupyter-widgets/controls",
      "_view_module_version": "1.5.0",
      "_view_name": "HTMLView",
      "description": "",
      "description_tooltip": null,
      "layout": "IPY_MODEL_a2bd8e066f5247c6982b8e46e8cf5f2b",
      "placeholder": "​",
      "style": "IPY_MODEL_edcd9a9ae04a4711a8293452e5487eab",
      "value": "Map: 100%"
     }
    },
    "a567142b11444889b3087134d6875ab3": {
     "model_module": "@jupyter-widgets/base",
     "model_module_version": "1.2.0",
     "model_name": "LayoutModel",
     "state": {
      "_model_module": "@jupyter-widgets/base",
      "_model_module_version": "1.2.0",
      "_model_name": "LayoutModel",
      "_view_count": null,
      "_view_module": "@jupyter-widgets/base",
      "_view_module_version": "1.2.0",
      "_view_name": "LayoutView",
      "align_content": null,
      "align_items": null,
      "align_self": null,
      "border": null,
      "bottom": null,
      "display": null,
      "flex": null,
      "flex_flow": null,
      "grid_area": null,
      "grid_auto_columns": null,
      "grid_auto_flow": null,
      "grid_auto_rows": null,
      "grid_column": null,
      "grid_gap": null,
      "grid_row": null,
      "grid_template_areas": null,
      "grid_template_columns": null,
      "grid_template_rows": null,
      "height": null,
      "justify_content": null,
      "justify_items": null,
      "left": null,
      "margin": null,
      "max_height": null,
      "max_width": null,
      "min_height": null,
      "min_width": null,
      "object_fit": null,
      "object_position": null,
      "order": null,
      "overflow": null,
      "overflow_x": null,
      "overflow_y": null,
      "padding": null,
      "right": null,
      "top": null,
      "visibility": null,
      "width": null
     }
    },
    "ab1af4baa9184dc3afa9c2c7455d20af": {
     "model_module": "@jupyter-widgets/base",
     "model_module_version": "1.2.0",
     "model_name": "LayoutModel",
     "state": {
      "_model_module": "@jupyter-widgets/base",
      "_model_module_version": "1.2.0",
      "_model_name": "LayoutModel",
      "_view_count": null,
      "_view_module": "@jupyter-widgets/base",
      "_view_module_version": "1.2.0",
      "_view_name": "LayoutView",
      "align_content": null,
      "align_items": null,
      "align_self": null,
      "border": null,
      "bottom": null,
      "display": null,
      "flex": null,
      "flex_flow": null,
      "grid_area": null,
      "grid_auto_columns": null,
      "grid_auto_flow": null,
      "grid_auto_rows": null,
      "grid_column": null,
      "grid_gap": null,
      "grid_row": null,
      "grid_template_areas": null,
      "grid_template_columns": null,
      "grid_template_rows": null,
      "height": null,
      "justify_content": null,
      "justify_items": null,
      "left": null,
      "margin": null,
      "max_height": null,
      "max_width": null,
      "min_height": null,
      "min_width": null,
      "object_fit": null,
      "object_position": null,
      "order": null,
      "overflow": null,
      "overflow_x": null,
      "overflow_y": null,
      "padding": null,
      "right": null,
      "top": null,
      "visibility": null,
      "width": null
     }
    },
    "ac03ca0fa3834367990e0c384d966759": {
     "model_module": "@jupyter-widgets/controls",
     "model_module_version": "1.5.0",
     "model_name": "HBoxModel",
     "state": {
      "_dom_classes": [],
      "_model_module": "@jupyter-widgets/controls",
      "_model_module_version": "1.5.0",
      "_model_name": "HBoxModel",
      "_view_count": null,
      "_view_module": "@jupyter-widgets/controls",
      "_view_module_version": "1.5.0",
      "_view_name": "HBoxView",
      "box_style": "",
      "children": [
       "IPY_MODEL_4c65447313c84ce7bb5e0aa811b229b2",
       "IPY_MODEL_8b5ef9b6aab34c69aff9ef0627ad3573",
       "IPY_MODEL_c4fd71ea75654367b9ab5542d27dcd32"
      ],
      "layout": "IPY_MODEL_e03f124b65494b19990572ce412e4594"
     }
    },
    "b14ce7b7df944f51913cde882913d386": {
     "model_module": "@jupyter-widgets/controls",
     "model_module_version": "1.5.0",
     "model_name": "HTMLModel",
     "state": {
      "_dom_classes": [],
      "_model_module": "@jupyter-widgets/controls",
      "_model_module_version": "1.5.0",
      "_model_name": "HTMLModel",
      "_view_count": null,
      "_view_module": "@jupyter-widgets/controls",
      "_view_module_version": "1.5.0",
      "_view_name": "HTMLView",
      "description": "",
      "description_tooltip": null,
      "layout": "IPY_MODEL_0e09bcdf61c34783b3bef9cec14fa88a",
      "placeholder": "​",
      "style": "IPY_MODEL_b3ac4caf25894501b0116323a9b694d6",
      "value": " 501M/501M [00:05&lt;00:00, 84.6MB/s]"
     }
    },
    "b1a5045738504f1f96b13a68e56f4967": {
     "model_module": "@jupyter-widgets/controls",
     "model_module_version": "1.5.0",
     "model_name": "ProgressStyleModel",
     "state": {
      "_model_module": "@jupyter-widgets/controls",
      "_model_module_version": "1.5.0",
      "_model_name": "ProgressStyleModel",
      "_view_count": null,
      "_view_module": "@jupyter-widgets/base",
      "_view_module_version": "1.2.0",
      "_view_name": "StyleView",
      "bar_color": null,
      "description_width": ""
     }
    },
    "b1cdf3251e554ac9957003144139e90a": {
     "model_module": "@jupyter-widgets/controls",
     "model_module_version": "1.5.0",
     "model_name": "HBoxModel",
     "state": {
      "_dom_classes": [],
      "_model_module": "@jupyter-widgets/controls",
      "_model_module_version": "1.5.0",
      "_model_name": "HBoxModel",
      "_view_count": null,
      "_view_module": "@jupyter-widgets/controls",
      "_view_module_version": "1.5.0",
      "_view_name": "HBoxView",
      "box_style": "",
      "children": [
       "IPY_MODEL_a3921bd42c3341f4a613b571ca2614aa",
       "IPY_MODEL_4f5559150967477ba209f57b9de6d1df",
       "IPY_MODEL_6f63c173cb1a4d0695a68b9e9224f626"
      ],
      "layout": "IPY_MODEL_fc6e984c61744bb4ba1aae7c9220612e"
     }
    },
    "b25874df3a4c472780e9f37e21a87aa8": {
     "model_module": "@jupyter-widgets/controls",
     "model_module_version": "1.5.0",
     "model_name": "DescriptionStyleModel",
     "state": {
      "_model_module": "@jupyter-widgets/controls",
      "_model_module_version": "1.5.0",
      "_model_name": "DescriptionStyleModel",
      "_view_count": null,
      "_view_module": "@jupyter-widgets/base",
      "_view_module_version": "1.2.0",
      "_view_name": "StyleView",
      "description_width": ""
     }
    },
    "b39807cb9cdc4750a51598a2063f8702": {
     "model_module": "@jupyter-widgets/controls",
     "model_module_version": "1.5.0",
     "model_name": "ProgressStyleModel",
     "state": {
      "_model_module": "@jupyter-widgets/controls",
      "_model_module_version": "1.5.0",
      "_model_name": "ProgressStyleModel",
      "_view_count": null,
      "_view_module": "@jupyter-widgets/base",
      "_view_module_version": "1.2.0",
      "_view_name": "StyleView",
      "bar_color": null,
      "description_width": ""
     }
    },
    "b3ac4caf25894501b0116323a9b694d6": {
     "model_module": "@jupyter-widgets/controls",
     "model_module_version": "1.5.0",
     "model_name": "DescriptionStyleModel",
     "state": {
      "_model_module": "@jupyter-widgets/controls",
      "_model_module_version": "1.5.0",
      "_model_name": "DescriptionStyleModel",
      "_view_count": null,
      "_view_module": "@jupyter-widgets/base",
      "_view_module_version": "1.2.0",
      "_view_name": "StyleView",
      "description_width": ""
     }
    },
    "b5d8376eb7a54473b3a169d7a36e326c": {
     "model_module": "@jupyter-widgets/controls",
     "model_module_version": "1.5.0",
     "model_name": "HBoxModel",
     "state": {
      "_dom_classes": [],
      "_model_module": "@jupyter-widgets/controls",
      "_model_module_version": "1.5.0",
      "_model_name": "HBoxModel",
      "_view_count": null,
      "_view_module": "@jupyter-widgets/controls",
      "_view_module_version": "1.5.0",
      "_view_name": "HBoxView",
      "box_style": "",
      "children": [
       "IPY_MODEL_448691a97149440bbbab5387bd1ccd0c",
       "IPY_MODEL_59eccdeed777466184b56a18ce0c0807",
       "IPY_MODEL_b678e7cad3f2405681dce3cd6b1ad94c"
      ],
      "layout": "IPY_MODEL_886415e2959340ec9a0215624d9d9390"
     }
    },
    "b65dcbe803a2431dbd7292223d83a30d": {
     "model_module": "@jupyter-widgets/base",
     "model_module_version": "1.2.0",
     "model_name": "LayoutModel",
     "state": {
      "_model_module": "@jupyter-widgets/base",
      "_model_module_version": "1.2.0",
      "_model_name": "LayoutModel",
      "_view_count": null,
      "_view_module": "@jupyter-widgets/base",
      "_view_module_version": "1.2.0",
      "_view_name": "LayoutView",
      "align_content": null,
      "align_items": null,
      "align_self": null,
      "border": null,
      "bottom": null,
      "display": null,
      "flex": null,
      "flex_flow": null,
      "grid_area": null,
      "grid_auto_columns": null,
      "grid_auto_flow": null,
      "grid_auto_rows": null,
      "grid_column": null,
      "grid_gap": null,
      "grid_row": null,
      "grid_template_areas": null,
      "grid_template_columns": null,
      "grid_template_rows": null,
      "height": null,
      "justify_content": null,
      "justify_items": null,
      "left": null,
      "margin": null,
      "max_height": null,
      "max_width": null,
      "min_height": null,
      "min_width": null,
      "object_fit": null,
      "object_position": null,
      "order": null,
      "overflow": null,
      "overflow_x": null,
      "overflow_y": null,
      "padding": null,
      "right": null,
      "top": null,
      "visibility": null,
      "width": null
     }
    },
    "b678e7cad3f2405681dce3cd6b1ad94c": {
     "model_module": "@jupyter-widgets/controls",
     "model_module_version": "1.5.0",
     "model_name": "HTMLModel",
     "state": {
      "_dom_classes": [],
      "_model_module": "@jupyter-widgets/controls",
      "_model_module_version": "1.5.0",
      "_model_name": "HTMLModel",
      "_view_count": null,
      "_view_module": "@jupyter-widgets/controls",
      "_view_module_version": "1.5.0",
      "_view_name": "HTMLView",
      "description": "",
      "description_tooltip": null,
      "layout": "IPY_MODEL_ffc85cf5d8ac41fd97251015df29e10e",
      "placeholder": "​",
      "style": "IPY_MODEL_26181a097a1342ad962208e0e9eda1ae",
      "value": " 1998/1998 [00:00&lt;00:00, 6123.19 examples/s]"
     }
    },
    "bb3cd200ac644d278908af63fdfe5f6c": {
     "model_module": "@jupyter-widgets/base",
     "model_module_version": "1.2.0",
     "model_name": "LayoutModel",
     "state": {
      "_model_module": "@jupyter-widgets/base",
      "_model_module_version": "1.2.0",
      "_model_name": "LayoutModel",
      "_view_count": null,
      "_view_module": "@jupyter-widgets/base",
      "_view_module_version": "1.2.0",
      "_view_name": "LayoutView",
      "align_content": null,
      "align_items": null,
      "align_self": null,
      "border": null,
      "bottom": null,
      "display": null,
      "flex": null,
      "flex_flow": null,
      "grid_area": null,
      "grid_auto_columns": null,
      "grid_auto_flow": null,
      "grid_auto_rows": null,
      "grid_column": null,
      "grid_gap": null,
      "grid_row": null,
      "grid_template_areas": null,
      "grid_template_columns": null,
      "grid_template_rows": null,
      "height": null,
      "justify_content": null,
      "justify_items": null,
      "left": null,
      "margin": null,
      "max_height": null,
      "max_width": null,
      "min_height": null,
      "min_width": null,
      "object_fit": null,
      "object_position": null,
      "order": null,
      "overflow": null,
      "overflow_x": null,
      "overflow_y": null,
      "padding": null,
      "right": null,
      "top": null,
      "visibility": null,
      "width": null
     }
    },
    "bd3c267dd9f740a1887fd7df2b951409": {
     "model_module": "@jupyter-widgets/base",
     "model_module_version": "1.2.0",
     "model_name": "LayoutModel",
     "state": {
      "_model_module": "@jupyter-widgets/base",
      "_model_module_version": "1.2.0",
      "_model_name": "LayoutModel",
      "_view_count": null,
      "_view_module": "@jupyter-widgets/base",
      "_view_module_version": "1.2.0",
      "_view_name": "LayoutView",
      "align_content": null,
      "align_items": null,
      "align_self": null,
      "border": null,
      "bottom": null,
      "display": null,
      "flex": null,
      "flex_flow": null,
      "grid_area": null,
      "grid_auto_columns": null,
      "grid_auto_flow": null,
      "grid_auto_rows": null,
      "grid_column": null,
      "grid_gap": null,
      "grid_row": null,
      "grid_template_areas": null,
      "grid_template_columns": null,
      "grid_template_rows": null,
      "height": null,
      "justify_content": null,
      "justify_items": null,
      "left": null,
      "margin": null,
      "max_height": null,
      "max_width": null,
      "min_height": null,
      "min_width": null,
      "object_fit": null,
      "object_position": null,
      "order": null,
      "overflow": null,
      "overflow_x": null,
      "overflow_y": null,
      "padding": null,
      "right": null,
      "top": null,
      "visibility": null,
      "width": null
     }
    },
    "bf29f532a6164777817b634d939a1ab0": {
     "model_module": "@jupyter-widgets/base",
     "model_module_version": "1.2.0",
     "model_name": "LayoutModel",
     "state": {
      "_model_module": "@jupyter-widgets/base",
      "_model_module_version": "1.2.0",
      "_model_name": "LayoutModel",
      "_view_count": null,
      "_view_module": "@jupyter-widgets/base",
      "_view_module_version": "1.2.0",
      "_view_name": "LayoutView",
      "align_content": null,
      "align_items": null,
      "align_self": null,
      "border": null,
      "bottom": null,
      "display": null,
      "flex": null,
      "flex_flow": null,
      "grid_area": null,
      "grid_auto_columns": null,
      "grid_auto_flow": null,
      "grid_auto_rows": null,
      "grid_column": null,
      "grid_gap": null,
      "grid_row": null,
      "grid_template_areas": null,
      "grid_template_columns": null,
      "grid_template_rows": null,
      "height": null,
      "justify_content": null,
      "justify_items": null,
      "left": null,
      "margin": null,
      "max_height": null,
      "max_width": null,
      "min_height": null,
      "min_width": null,
      "object_fit": null,
      "object_position": null,
      "order": null,
      "overflow": null,
      "overflow_x": null,
      "overflow_y": null,
      "padding": null,
      "right": null,
      "top": null,
      "visibility": null,
      "width": null
     }
    },
    "c1c58ab029ea441cbb4db85c331bd832": {
     "model_module": "@jupyter-widgets/controls",
     "model_module_version": "1.5.0",
     "model_name": "DescriptionStyleModel",
     "state": {
      "_model_module": "@jupyter-widgets/controls",
      "_model_module_version": "1.5.0",
      "_model_name": "DescriptionStyleModel",
      "_view_count": null,
      "_view_module": "@jupyter-widgets/base",
      "_view_module_version": "1.2.0",
      "_view_name": "StyleView",
      "description_width": ""
     }
    },
    "c4fd71ea75654367b9ab5542d27dcd32": {
     "model_module": "@jupyter-widgets/controls",
     "model_module_version": "1.5.0",
     "model_name": "HTMLModel",
     "state": {
      "_dom_classes": [],
      "_model_module": "@jupyter-widgets/controls",
      "_model_module_version": "1.5.0",
      "_model_name": "HTMLModel",
      "_view_count": null,
      "_view_module": "@jupyter-widgets/controls",
      "_view_module_version": "1.5.0",
      "_view_name": "HTMLView",
      "description": "",
      "description_tooltip": null,
      "layout": "IPY_MODEL_3b2b2cf1fecf4376bee2a9ef82db93db",
      "placeholder": "​",
      "style": "IPY_MODEL_6c4e1c96829c4dfda411ea29939dbceb",
      "value": " 456k/456k [00:00&lt;00:00, 476kB/s]"
     }
    },
    "ce4a3dcf4eb34cf7ab245e4ed862cd7c": {
     "model_module": "@jupyter-widgets/base",
     "model_module_version": "1.2.0",
     "model_name": "LayoutModel",
     "state": {
      "_model_module": "@jupyter-widgets/base",
      "_model_module_version": "1.2.0",
      "_model_name": "LayoutModel",
      "_view_count": null,
      "_view_module": "@jupyter-widgets/base",
      "_view_module_version": "1.2.0",
      "_view_name": "LayoutView",
      "align_content": null,
      "align_items": null,
      "align_self": null,
      "border": null,
      "bottom": null,
      "display": null,
      "flex": null,
      "flex_flow": null,
      "grid_area": null,
      "grid_auto_columns": null,
      "grid_auto_flow": null,
      "grid_auto_rows": null,
      "grid_column": null,
      "grid_gap": null,
      "grid_row": null,
      "grid_template_areas": null,
      "grid_template_columns": null,
      "grid_template_rows": null,
      "height": null,
      "justify_content": null,
      "justify_items": null,
      "left": null,
      "margin": null,
      "max_height": null,
      "max_width": null,
      "min_height": null,
      "min_width": null,
      "object_fit": null,
      "object_position": null,
      "order": null,
      "overflow": null,
      "overflow_x": null,
      "overflow_y": null,
      "padding": null,
      "right": null,
      "top": null,
      "visibility": null,
      "width": null
     }
    },
    "de7d8d599c9b4d0d88d0759ee68e1d3f": {
     "model_module": "@jupyter-widgets/base",
     "model_module_version": "1.2.0",
     "model_name": "LayoutModel",
     "state": {
      "_model_module": "@jupyter-widgets/base",
      "_model_module_version": "1.2.0",
      "_model_name": "LayoutModel",
      "_view_count": null,
      "_view_module": "@jupyter-widgets/base",
      "_view_module_version": "1.2.0",
      "_view_name": "LayoutView",
      "align_content": null,
      "align_items": null,
      "align_self": null,
      "border": null,
      "bottom": null,
      "display": null,
      "flex": null,
      "flex_flow": null,
      "grid_area": null,
      "grid_auto_columns": null,
      "grid_auto_flow": null,
      "grid_auto_rows": null,
      "grid_column": null,
      "grid_gap": null,
      "grid_row": null,
      "grid_template_areas": null,
      "grid_template_columns": null,
      "grid_template_rows": null,
      "height": null,
      "justify_content": null,
      "justify_items": null,
      "left": null,
      "margin": null,
      "max_height": null,
      "max_width": null,
      "min_height": null,
      "min_width": null,
      "object_fit": null,
      "object_position": null,
      "order": null,
      "overflow": null,
      "overflow_x": null,
      "overflow_y": null,
      "padding": null,
      "right": null,
      "top": null,
      "visibility": null,
      "width": null
     }
    },
    "e03f124b65494b19990572ce412e4594": {
     "model_module": "@jupyter-widgets/base",
     "model_module_version": "1.2.0",
     "model_name": "LayoutModel",
     "state": {
      "_model_module": "@jupyter-widgets/base",
      "_model_module_version": "1.2.0",
      "_model_name": "LayoutModel",
      "_view_count": null,
      "_view_module": "@jupyter-widgets/base",
      "_view_module_version": "1.2.0",
      "_view_name": "LayoutView",
      "align_content": null,
      "align_items": null,
      "align_self": null,
      "border": null,
      "bottom": null,
      "display": null,
      "flex": null,
      "flex_flow": null,
      "grid_area": null,
      "grid_auto_columns": null,
      "grid_auto_flow": null,
      "grid_auto_rows": null,
      "grid_column": null,
      "grid_gap": null,
      "grid_row": null,
      "grid_template_areas": null,
      "grid_template_columns": null,
      "grid_template_rows": null,
      "height": null,
      "justify_content": null,
      "justify_items": null,
      "left": null,
      "margin": null,
      "max_height": null,
      "max_width": null,
      "min_height": null,
      "min_width": null,
      "object_fit": null,
      "object_position": null,
      "order": null,
      "overflow": null,
      "overflow_x": null,
      "overflow_y": null,
      "padding": null,
      "right": null,
      "top": null,
      "visibility": null,
      "width": null
     }
    },
    "ec2b60304de342b68242ab299d6901bb": {
     "model_module": "@jupyter-widgets/controls",
     "model_module_version": "1.5.0",
     "model_name": "DescriptionStyleModel",
     "state": {
      "_model_module": "@jupyter-widgets/controls",
      "_model_module_version": "1.5.0",
      "_model_name": "DescriptionStyleModel",
      "_view_count": null,
      "_view_module": "@jupyter-widgets/base",
      "_view_module_version": "1.2.0",
      "_view_name": "StyleView",
      "description_width": ""
     }
    },
    "ec745982656148c6839fa6d41f41a2a7": {
     "model_module": "@jupyter-widgets/controls",
     "model_module_version": "1.5.0",
     "model_name": "DescriptionStyleModel",
     "state": {
      "_model_module": "@jupyter-widgets/controls",
      "_model_module_version": "1.5.0",
      "_model_name": "DescriptionStyleModel",
      "_view_count": null,
      "_view_module": "@jupyter-widgets/base",
      "_view_module_version": "1.2.0",
      "_view_name": "StyleView",
      "description_width": ""
     }
    },
    "edcd9a9ae04a4711a8293452e5487eab": {
     "model_module": "@jupyter-widgets/controls",
     "model_module_version": "1.5.0",
     "model_name": "DescriptionStyleModel",
     "state": {
      "_model_module": "@jupyter-widgets/controls",
      "_model_module_version": "1.5.0",
      "_model_name": "DescriptionStyleModel",
      "_view_count": null,
      "_view_module": "@jupyter-widgets/base",
      "_view_module_version": "1.2.0",
      "_view_name": "StyleView",
      "description_width": ""
     }
    },
    "f19565ee4c404a70a81eba0d30c36a4d": {
     "model_module": "@jupyter-widgets/base",
     "model_module_version": "1.2.0",
     "model_name": "LayoutModel",
     "state": {
      "_model_module": "@jupyter-widgets/base",
      "_model_module_version": "1.2.0",
      "_model_name": "LayoutModel",
      "_view_count": null,
      "_view_module": "@jupyter-widgets/base",
      "_view_module_version": "1.2.0",
      "_view_name": "LayoutView",
      "align_content": null,
      "align_items": null,
      "align_self": null,
      "border": null,
      "bottom": null,
      "display": null,
      "flex": null,
      "flex_flow": null,
      "grid_area": null,
      "grid_auto_columns": null,
      "grid_auto_flow": null,
      "grid_auto_rows": null,
      "grid_column": null,
      "grid_gap": null,
      "grid_row": null,
      "grid_template_areas": null,
      "grid_template_columns": null,
      "grid_template_rows": null,
      "height": null,
      "justify_content": null,
      "justify_items": null,
      "left": null,
      "margin": null,
      "max_height": null,
      "max_width": null,
      "min_height": null,
      "min_width": null,
      "object_fit": null,
      "object_position": null,
      "order": null,
      "overflow": null,
      "overflow_x": null,
      "overflow_y": null,
      "padding": null,
      "right": null,
      "top": null,
      "visibility": null,
      "width": null
     }
    },
    "f257da3d6cf44897ac5e70a1b0374cc3": {
     "model_module": "@jupyter-widgets/controls",
     "model_module_version": "1.5.0",
     "model_name": "ProgressStyleModel",
     "state": {
      "_model_module": "@jupyter-widgets/controls",
      "_model_module_version": "1.5.0",
      "_model_name": "ProgressStyleModel",
      "_view_count": null,
      "_view_module": "@jupyter-widgets/base",
      "_view_module_version": "1.2.0",
      "_view_name": "StyleView",
      "bar_color": null,
      "description_width": ""
     }
    },
    "f42fa8af99e94f71b2e4e77646c9f65a": {
     "model_module": "@jupyter-widgets/controls",
     "model_module_version": "1.5.0",
     "model_name": "HBoxModel",
     "state": {
      "_dom_classes": [],
      "_model_module": "@jupyter-widgets/controls",
      "_model_module_version": "1.5.0",
      "_model_name": "HBoxModel",
      "_view_count": null,
      "_view_module": "@jupyter-widgets/controls",
      "_view_module_version": "1.5.0",
      "_view_name": "HBoxView",
      "box_style": "",
      "children": [
       "IPY_MODEL_a429223109874b908ebf619034a4807d",
       "IPY_MODEL_3656a5c1b5024310aca187dfad556add",
       "IPY_MODEL_39600efd679644a78efab006fc7d0b37"
      ],
      "layout": "IPY_MODEL_6bd632b29af740b58e7eb0bcffe9e56c"
     }
    },
    "f44fcd89aeb6409590d75f1393c19b4d": {
     "model_module": "@jupyter-widgets/controls",
     "model_module_version": "1.5.0",
     "model_name": "DescriptionStyleModel",
     "state": {
      "_model_module": "@jupyter-widgets/controls",
      "_model_module_version": "1.5.0",
      "_model_name": "DescriptionStyleModel",
      "_view_count": null,
      "_view_module": "@jupyter-widgets/base",
      "_view_module_version": "1.2.0",
      "_view_name": "StyleView",
      "description_width": ""
     }
    },
    "f7bcb9c184c64dc6baf7ca005ac8e7c2": {
     "model_module": "@jupyter-widgets/controls",
     "model_module_version": "1.5.0",
     "model_name": "ProgressStyleModel",
     "state": {
      "_model_module": "@jupyter-widgets/controls",
      "_model_module_version": "1.5.0",
      "_model_name": "ProgressStyleModel",
      "_view_count": null,
      "_view_module": "@jupyter-widgets/base",
      "_view_module_version": "1.2.0",
      "_view_name": "StyleView",
      "bar_color": null,
      "description_width": ""
     }
    },
    "f8e5dcf3a9cd4bb38de515b315c90b65": {
     "model_module": "@jupyter-widgets/controls",
     "model_module_version": "1.5.0",
     "model_name": "DescriptionStyleModel",
     "state": {
      "_model_module": "@jupyter-widgets/controls",
      "_model_module_version": "1.5.0",
      "_model_name": "DescriptionStyleModel",
      "_view_count": null,
      "_view_module": "@jupyter-widgets/base",
      "_view_module_version": "1.2.0",
      "_view_name": "StyleView",
      "description_width": ""
     }
    },
    "fc6e984c61744bb4ba1aae7c9220612e": {
     "model_module": "@jupyter-widgets/base",
     "model_module_version": "1.2.0",
     "model_name": "LayoutModel",
     "state": {
      "_model_module": "@jupyter-widgets/base",
      "_model_module_version": "1.2.0",
      "_model_name": "LayoutModel",
      "_view_count": null,
      "_view_module": "@jupyter-widgets/base",
      "_view_module_version": "1.2.0",
      "_view_name": "LayoutView",
      "align_content": null,
      "align_items": null,
      "align_self": null,
      "border": null,
      "bottom": null,
      "display": null,
      "flex": null,
      "flex_flow": null,
      "grid_area": null,
      "grid_auto_columns": null,
      "grid_auto_flow": null,
      "grid_auto_rows": null,
      "grid_column": null,
      "grid_gap": null,
      "grid_row": null,
      "grid_template_areas": null,
      "grid_template_columns": null,
      "grid_template_rows": null,
      "height": null,
      "justify_content": null,
      "justify_items": null,
      "left": null,
      "margin": null,
      "max_height": null,
      "max_width": null,
      "min_height": null,
      "min_width": null,
      "object_fit": null,
      "object_position": null,
      "order": null,
      "overflow": null,
      "overflow_x": null,
      "overflow_y": null,
      "padding": null,
      "right": null,
      "top": null,
      "visibility": null,
      "width": null
     }
    },
    "ff795f9d32614d8e8029aaeaeb1c6581": {
     "model_module": "@jupyter-widgets/base",
     "model_module_version": "1.2.0",
     "model_name": "LayoutModel",
     "state": {
      "_model_module": "@jupyter-widgets/base",
      "_model_module_version": "1.2.0",
      "_model_name": "LayoutModel",
      "_view_count": null,
      "_view_module": "@jupyter-widgets/base",
      "_view_module_version": "1.2.0",
      "_view_name": "LayoutView",
      "align_content": null,
      "align_items": null,
      "align_self": null,
      "border": null,
      "bottom": null,
      "display": null,
      "flex": null,
      "flex_flow": null,
      "grid_area": null,
      "grid_auto_columns": null,
      "grid_auto_flow": null,
      "grid_auto_rows": null,
      "grid_column": null,
      "grid_gap": null,
      "grid_row": null,
      "grid_template_areas": null,
      "grid_template_columns": null,
      "grid_template_rows": null,
      "height": null,
      "justify_content": null,
      "justify_items": null,
      "left": null,
      "margin": null,
      "max_height": null,
      "max_width": null,
      "min_height": null,
      "min_width": null,
      "object_fit": null,
      "object_position": null,
      "order": null,
      "overflow": null,
      "overflow_x": null,
      "overflow_y": null,
      "padding": null,
      "right": null,
      "top": null,
      "visibility": null,
      "width": null
     }
    },
    "ffc85cf5d8ac41fd97251015df29e10e": {
     "model_module": "@jupyter-widgets/base",
     "model_module_version": "1.2.0",
     "model_name": "LayoutModel",
     "state": {
      "_model_module": "@jupyter-widgets/base",
      "_model_module_version": "1.2.0",
      "_model_name": "LayoutModel",
      "_view_count": null,
      "_view_module": "@jupyter-widgets/base",
      "_view_module_version": "1.2.0",
      "_view_name": "LayoutView",
      "align_content": null,
      "align_items": null,
      "align_self": null,
      "border": null,
      "bottom": null,
      "display": null,
      "flex": null,
      "flex_flow": null,
      "grid_area": null,
      "grid_auto_columns": null,
      "grid_auto_flow": null,
      "grid_auto_rows": null,
      "grid_column": null,
      "grid_gap": null,
      "grid_row": null,
      "grid_template_areas": null,
      "grid_template_columns": null,
      "grid_template_rows": null,
      "height": null,
      "justify_content": null,
      "justify_items": null,
      "left": null,
      "margin": null,
      "max_height": null,
      "max_width": null,
      "min_height": null,
      "min_width": null,
      "object_fit": null,
      "object_position": null,
      "order": null,
      "overflow": null,
      "overflow_x": null,
      "overflow_y": null,
      "padding": null,
      "right": null,
      "top": null,
      "visibility": null,
      "width": null
     }
    }
   }
  }
 },
 "nbformat": 4,
 "nbformat_minor": 5
}
